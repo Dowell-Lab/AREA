{
 "cells": [
  {
   "cell_type": "code",
   "execution_count": 1,
   "id": "09121ccb-941f-4904-8529-59d577d78214",
   "metadata": {
    "tags": []
   },
   "outputs": [],
   "source": [
    "''' \n",
    "AREA_output_statistics.ipynb \n",
    "By Natalie Bratset\n",
    "\n",
    "This notebook reads the AREA output file and generates a bunch of statistics based on that output. \n",
    "Make sure to change the export_folder variable to your exports folder!\n",
    "\n",
    "I'm planning to convert this to a .py file after writing/testing in this notebook.\n",
    "'''\n",
    "\n",
    "import os\n",
    "import pandas as pd\n",
    "import numpy as np\n",
    "import matplotlib.patches as mplpatches\n",
    "import matplotlib.pyplot as plt\n",
    "# from scipy import stats\n",
    "# from scipy.interpolate import splrep, splev\n",
    "# import plotly.express as px\n",
    "\n",
    "area_results_path = os.path.expanduser(\"/scratch/Shares/dowell/temp/ChrisO/PSEA/AREA_fast/output/AREA_output/all_chrom_comorbidthreshold0/area_scores_20250808-192325.adjpval.csv\")  # Update with AREA rsults we want to look at\n",
    "gene_ref_path = os.path.expanduser(\"/scratch/Shares/dowell/temp/ChrisO/PSEA/AREA/testdata/genes.csv\")\n",
    "export_folder = \"/scratch/Users/nabr7467/AREA_LE/leadingedge_spline/\" # Change this to your export folder\n",
    "\n",
    "area_results = pd.read_csv(area_results_path)\n",
    "gene_ref = pd.read_csv(gene_ref_path)\n"
   ]
  },
  {
   "cell_type": "code",
   "execution_count": null,
   "id": "975a56e8-702b-4408-aa5f-9ee733edaaa4",
   "metadata": {},
   "outputs": [],
   "source": [
    "################################## USER INPUTS HERE ###########################################\n",
    "\n",
    "# this is for setting p_val cutoffs and whatnot\n",
    "# P value Columns: pval,p_value_bonf,p_value_holm,p_value_BenjaminiHochberg,p_value_BenjaminiYekutieli\n",
    "\n",
    "##############################################################################################"
   ]
  },
  {
   "cell_type": "code",
   "execution_count": 35,
   "id": "14615a6c-2dc2-452d-8a61-4f17d1e4fef8",
   "metadata": {
    "tags": []
   },
   "outputs": [],
   "source": [
    "def minus_log_pval(df, col):\n",
    "    ''' What this funct do'''\n",
    "    #checks for a 0 pvalue to handle\n",
    "    if 0 in area_results[col]:\n",
    "        min_nonzero_pval = np.min(area_results[col][area_results[col] != 0]) # finds the minimum pvalue that is not 0\n",
    "        adjusted_pval = min_nonzero_pval/(10**20)                            # this value is the adjusted pvalue for AREA results with a pvalue of 0. This is such that we can take the -log10(pval)\n",
    "        df.loc[df[col] == 0, col] = adjusted_pval                            # change 0s to a smaller val than minimum\n",
    "    \n",
    "    df['minuslog10pvalue'] = -np.log10(df[col])\n",
    "    \n",
    "    return df\n",
    "\n",
    "def sum_comorbids():\n",
    "    pass\n",
    "\n",
    "def manhattan_plot(df):\n",
    "    '''Input: pandas grouped dataframe by binary_atribute with a pre-calculated minuslog10pvalue col.'''\n",
    "    pass\n",
    "\n",
    "## MAIN ##\n",
    "df = minus_log_pval(area_results,'p_value_bonf')\n",
    "grouped = df.groupby(('binary_attribute'))\n",
    "\n",
    "# for num, (name, group) in enumerate(grouped):\n",
    "#     print(num)\n"
   ]
  },
  {
   "cell_type": "code",
   "execution_count": 36,
   "id": "ce71c965-9baf-447b-bd58-430497b9b91c",
   "metadata": {
    "tags": []
   },
   "outputs": [
    {
     "name": "stdout",
     "output_type": "stream",
     "text": [
      "-77.99608976909907 -97.99608976909907\n"
     ]
    }
   ],
   "source": [
    "# #for -log10(x)\n",
    "\n",
    "# for i in np.arange(1,1000):\n",
    "#     print(i,10.0**(-i))\n",
    "#     print(np.log10(10.0**(-i)))\n",
    "\n",
    "# # max possible x is 10^-323\n",
    "\n",
    "pval = 1.0090442940654658e-78\n",
    "min_val = pval/(10**20)\n",
    "# min_val = 10.0**(-323)\n",
    "\n",
    "print(np.log10(pval),np.log10(min_val))\n",
    "\n",
    "# for i in np.arange(1,20):\n",
    "#     print(i, np.log(10**i))\n",
    "      "
   ]
  },
  {
   "cell_type": "code",
   "execution_count": null,
   "id": "cdc66d31-9423-4e3b-b27c-025f8ddad05a",
   "metadata": {},
   "outputs": [],
   "source": []
  }
 ],
 "metadata": {
  "kernelspec": {
   "display_name": "vir_AREA_upgraded",
   "language": "python",
   "name": "vir_area_upgraded"
  },
  "language_info": {
   "codemirror_mode": {
    "name": "ipython",
    "version": 3
   },
   "file_extension": ".py",
   "mimetype": "text/x-python",
   "name": "python",
   "nbconvert_exporter": "python",
   "pygments_lexer": "ipython3",
   "version": "3.9.15"
  }
 },
 "nbformat": 4,
 "nbformat_minor": 5
}
