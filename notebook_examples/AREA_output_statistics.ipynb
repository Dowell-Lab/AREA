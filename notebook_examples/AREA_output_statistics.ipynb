{
 "cells": [
  {
   "cell_type": "code",
   "execution_count": null,
   "id": "09121ccb-941f-4904-8529-59d577d78214",
   "metadata": {},
   "outputs": [],
   "source": [
    "''' \n",
    "AREA_output_statistics.ipynb \n",
    "By Natalie Bratset\n",
    "\n",
    "This notebook reads the AREA output file and generates a bunch of statistics based on that output. \n",
    "Make sure to change the export_folder variable to your exports folder!\n",
    "\n",
    "I'm planning to convert this to a .py file after writing/testing in this notebook.\n",
    "'''\n",
    "\n",
    "import os\n",
    "import pandas as pd\n",
    "import numpy as np\n",
    "import matplotlib.patches as mplpatches\n",
    "import matplotlib.pyplot as plt\n",
    "# from scipy import stats\n",
    "# from scipy.interpolate import splrep, splev\n",
    "# import plotly.express as px\n",
    "\n",
    "area_results_path = os.path.expanduser(\"/scratch/Shares/dowell/temp/ChrisO/PSEA/AREA_fast/output/AREA_output/all_chrom_comorbidthreshold0/area_scores_20250808-192325.adjpval.csv\")  # Update with AREA rsults we want to look at\n",
    "gene_ref_path = os.path.expanduser(\"/scratch/Shares/dowell/temp/ChrisO/PSEA/AREA/testdata/genes.csv\")\n",
    "export_folder = \"/scratch/Users/nabr7467/AREA_LE/leadingedge_spline/\" # Change this to your export folder\n",
    "\n",
    "area_results = pd.read_csv(area_results_path)\n",
    "gene_ref = pd.read_csv(gene_ref_path)\n"
   ]
  }
 ],
 "metadata": {
  "kernelspec": {
   "display_name": "vir_AREA_upgraded",
   "language": "python",
   "name": "vir_area_upgraded"
  },
  "language_info": {
   "codemirror_mode": {
    "name": "ipython",
    "version": 3
   },
   "file_extension": ".py",
   "mimetype": "text/x-python",
   "name": "python",
   "nbconvert_exporter": "python",
   "pygments_lexer": "ipython3",
   "version": "3.9.15"
  }
 },
 "nbformat": 4,
 "nbformat_minor": 5
}
