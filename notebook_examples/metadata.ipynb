{
 "cells": [
  {
   "cell_type": "code",
   "execution_count": 146,
   "id": "e0e1efbb-db2c-4f77-a8bb-bb552121416e",
   "metadata": {},
   "outputs": [],
   "source": [
    "import pandas as pd"
   ]
  },
  {
   "cell_type": "code",
   "execution_count": 174,
   "id": "647e1377-c388-4620-a649-a46790e641e4",
   "metadata": {},
   "outputs": [],
   "source": [
    "metadataindir=\"/Shares/down/public/HTP/RNAseq/inputdata/\"\n",
    "participanttable=\"include-participant-table-2023-08-22.tsv\"\n",
    "count_dir = \"/Shares/down/public/HTP/RNAseq/outputdata/T21vsD21_noDNAdosagecorrection/\"\n",
    "count_file = count_dir+\"normcounts.csv\"\n",
    "geneindir=\"/Shares/down/public/HTP/RNAseq/selfannotated/\"\n",
    "genefile = geneindir+\"genes.csv\"\n",
    "outdir = \"/Shares/down/public/HTP/RNAseq/selfannotated/AREA/\""
   ]
  },
  {
   "cell_type": "code",
   "execution_count": 175,
   "id": "32337434-b6e2-4ad4-84af-d676720523ce",
   "metadata": {},
   "outputs": [],
   "source": [
    "metadatadf = pd.read_csv(metadataindir+participanttable, sep=\"\\t\")\n"
   ]
  },
  {
   "cell_type": "code",
   "execution_count": 176,
   "id": "3617be11-1f51-4040-b564-c2855e2a4cca",
   "metadata": {},
   "outputs": [],
   "source": [
    "def createbinary(metadatadf, importantcol, spliton, findcode, appendname):\n",
    "    allphenotypes = metadatadf[importantcol].to_list()\n",
    "    allphenotypes = [v.split(\")\") for v in allphenotypes]\n",
    "    allphenotypes = [item.strip(\", \") for sublist in allphenotypes for item in sublist]\n",
    "    allphenotypes = sorted(list(set([v for v in allphenotypes if v.find(findcode)>-1])))\n",
    "    df = pd.DataFrame(allphenotypes)\n",
    "    df.columns = [\"ori_name\"]\n",
    "    df[[\"phenotype\", appendname]] = df[\"ori_name\"].str.split(spliton, expand=True)\n",
    "    df[\"colname\"] = appendname+\"_\"+df[\"phenotype\"].str.replace(\" \", \"_\")\n",
    "    new_columns = {}\n",
    "\n",
    "    for _, row in df.iterrows():\n",
    "        # Get the HP value and colname\n",
    "        hp_value = row[appendname]\n",
    "        colname = row['colname']\n",
    "        \n",
    "        # Apply the logic to check if the HP value is in the Phenotype (HPO) column\n",
    "        if appendname==\"HP\":\n",
    "            new_columns[colname] = metadatadf[importantcol].apply(\n",
    "                lambda x: 1 if f\"(HP:{hp_value})\" in x else 0\n",
    "            )\n",
    "        if appendname==\"MONDO\":\n",
    "            new_columns[colname] = metadatadf[importantcol].apply(\n",
    "                lambda x: 1 if f\"(MONDO:{hp_value})\" in x else 0\n",
    "            )\n",
    "\n",
    "    # Concatenate the nenewmetadatadfw columns to metadatadf\n",
    "    newmetadatadf = pd.concat([metadatadf, pd.DataFrame(new_columns)], axis=1)\n",
    "    bianary_table = newmetadatadf[[\"Participant ID\"]+list(new_columns.keys())]\n",
    "    bianary_table.index = bianary_table[\"Participant ID\"]\n",
    "    bianary_table = bianary_table[list(new_columns.keys())]\n",
    "    counteach = bianary_table.sum().to_frame()\n",
    "    counteach.columns = [\"counts\"]\n",
    "    counteach[\"colname\"]= counteach.index\n",
    "    df = df.merge(counteach, on=\"colname\")\n",
    "    return df, bianary_table"
   ]
  },
  {
   "cell_type": "code",
   "execution_count": 177,
   "id": "6bab0b63-d0d3-4c06-a5ae-afc05249a370",
   "metadata": {},
   "outputs": [],
   "source": [
    "importantcol = \"Diagnosis (Mondo)\"\n",
    "spliton = \" \\(MONDO:\"\n",
    "findcode = \" (MONDO:\"\n",
    "appendname = \"MONDO\"\n",
    "mondodf, mondobianary_table = createbinary(metadatadf, importantcol, spliton, findcode, appendname)"
   ]
  },
  {
   "cell_type": "code",
   "execution_count": 178,
   "id": "19300cb5-03ab-4270-97f7-e6e7ac1d4eb5",
   "metadata": {},
   "outputs": [],
   "source": [
    "importantcol = \"Phenotype (HPO)\"\n",
    "spliton = \" \\(HP:\"\n",
    "findcode = \" (HP:\"\n",
    "appendname = \"HP\"\n",
    "HPdf, HPbianary_table = createbinary(metadatadf, importantcol, spliton, findcode, appendname)"
   ]
  },
  {
   "cell_type": "code",
   "execution_count": 179,
   "id": "aa481ed3-f473-4413-8486-6d422012b3cc",
   "metadata": {},
   "outputs": [],
   "source": [
    "HPbianary_table[\"Patient\"] = HPbianary_table.index\n",
    "mondobianary_table[\"Patient\"] = mondobianary_table.index"
   ]
  },
  {
   "cell_type": "code",
   "execution_count": 180,
   "id": "82af47b7-bff3-4ed5-bc8d-e7185ad269f1",
   "metadata": {},
   "outputs": [],
   "source": [
    "HPbianary_table = HPbianary_table.reset_index(drop=True)\n",
    "mondobianary_table = mondobianary_table.reset_index(drop=True)\n",
    "HPbianary_table = HPbianary_table[[colname for colname in HPbianary_table.columns if colname!=\"Participant ID\"]]\n",
    "mondobianary_table = mondobianary_table[[colname for colname in mondobianary_table.columns if colname!=\"Participant ID\"]]\n"
   ]
  },
  {
   "cell_type": "code",
   "execution_count": 181,
   "id": "4f65331d-8214-43d2-b44f-015c7a98d968",
   "metadata": {},
   "outputs": [],
   "source": [
    "HPdf.to_csv(outdir+\"full_HP_counts_colnames.csv\")\n",
    "HPbianary_table.to_csv(outdir+\"full_HP_binary_attribute.csv\")\n",
    "mondodf.to_csv(outdir+\"full_MONDO_counts_colnames.csv\")\n",
    "mondobianary_table.to_csv(outdir+\"full_MONDO_binary_attribute.csv\")"
   ]
  },
  {
   "cell_type": "code",
   "execution_count": 182,
   "id": "c7d7b98b-1ebc-42a9-8ec1-a151ed90e606",
   "metadata": {},
   "outputs": [],
   "source": [
    "countdf = pd.read_csv(count_file, index_col=0)\n",
    "\n",
    "value_df = countdf.T\n",
    "\n"
   ]
  },
  {
   "cell_type": "code",
   "execution_count": 183,
   "id": "e7933c20-6974-4a00-a0de-011f06522907",
   "metadata": {},
   "outputs": [],
   "source": [
    "value_df[\"Patient\"] = value_df.index\n",
    "value_df = value_df.reset_index(drop=True)\n",
    "value_df = value_df[[colname for colname in value_df.columns if colname!=\"Participant ID\"]]\n"
   ]
  },
  {
   "cell_type": "code",
   "execution_count": 184,
   "id": "ce1b461f-24c4-471b-b034-b6e877243fad",
   "metadata": {},
   "outputs": [],
   "source": [
    "value_df.to_csv(outdir+\"RNAvalues_normcounts.csv\")"
   ]
  },
  {
   "cell_type": "code",
   "execution_count": 185,
   "id": "a77d07e2-d664-46b3-bcaa-8222cccd0672",
   "metadata": {},
   "outputs": [],
   "source": [
    "participantswithRNA= list(value_df[\"Patient\"])\n",
    "participantswithconditions = list(mondobianary_table[\"Patient\"])\n",
    "\n",
    "\n",
    "participantswithRNA_notconditionstable = [participant for participant in participantswithRNA \n",
    "                                    if participant not in participantswithconditions]\n",
    "\n",
    "participantswithRNA_conditions = [participant for participant in participantswithRNA \n",
    "                                    if participant in participantswithconditions]\n",
    " "
   ]
  },
  {
   "cell_type": "code",
   "execution_count": 186,
   "id": "3b8c8d72-65e5-43b5-9197-80783b33f999",
   "metadata": {},
   "outputs": [
    {
     "data": {
      "text/plain": [
       "0"
      ]
     },
     "execution_count": 186,
     "metadata": {},
     "output_type": "execute_result"
    }
   ],
   "source": [
    "len(participantswithRNA_notconditionstable)"
   ]
  },
  {
   "cell_type": "code",
   "execution_count": 187,
   "id": "2a962149-9433-41e3-bfa2-f6938cd25467",
   "metadata": {},
   "outputs": [
    {
     "data": {
      "text/plain": [
       "400"
      ]
     },
     "execution_count": 187,
     "metadata": {},
     "output_type": "execute_result"
    }
   ],
   "source": [
    "len(participantswithRNA_conditions)"
   ]
  },
  {
   "cell_type": "code",
   "execution_count": 188,
   "id": "43a55033-d6f9-41c1-b5de-026d6efba864",
   "metadata": {},
   "outputs": [
    {
     "data": {
      "text/plain": [
       "400"
      ]
     },
     "execution_count": 188,
     "metadata": {},
     "output_type": "execute_result"
    }
   ],
   "source": [
    "len(participantswithRNA)"
   ]
  },
  {
   "cell_type": "code",
   "execution_count": 189,
   "id": "2fefe132-6176-4507-ba07-9520c6ad2d0b",
   "metadata": {},
   "outputs": [
    {
     "data": {
      "text/plain": [
       "700"
      ]
     },
     "execution_count": 189,
     "metadata": {},
     "output_type": "execute_result"
    }
   ],
   "source": [
    "len(participantswithconditions)"
   ]
  },
  {
   "cell_type": "code",
   "execution_count": 190,
   "id": "fba02d45-4988-4bb6-afc3-3a4e90da2708",
   "metadata": {},
   "outputs": [],
   "source": [
    "HPbianary_table_withRNA = HPbianary_table[HPbianary_table[\"Patient\"].isin(participantswithRNA)]\n",
    "mondobianary_table_withRNA = mondobianary_table[mondobianary_table[\"Patient\"].isin(participantswithRNA)]\n"
   ]
  },
  {
   "cell_type": "code",
   "execution_count": 191,
   "id": "c93d2820-31e6-49f7-a503-c3091d5ed397",
   "metadata": {},
   "outputs": [
    {
     "data": {
      "text/plain": [
       "(700, 152)"
      ]
     },
     "execution_count": 191,
     "metadata": {},
     "output_type": "execute_result"
    }
   ],
   "source": [
    "HPbianary_table.shape"
   ]
  },
  {
   "cell_type": "code",
   "execution_count": 192,
   "id": "06bf47f2-a19c-4f3c-ae56-271f45e2ade8",
   "metadata": {},
   "outputs": [
    {
     "data": {
      "text/plain": [
       "(400, 152)"
      ]
     },
     "execution_count": 192,
     "metadata": {},
     "output_type": "execute_result"
    }
   ],
   "source": [
    "HPbianary_table_withRNA.shape"
   ]
  },
  {
   "cell_type": "code",
   "execution_count": 193,
   "id": "4aaa09a1-4a7c-4ca1-9691-97748e038b51",
   "metadata": {},
   "outputs": [
    {
     "data": {
      "text/plain": [
       "(700, 147)"
      ]
     },
     "execution_count": 193,
     "metadata": {},
     "output_type": "execute_result"
    }
   ],
   "source": [
    "mondobianary_table.shape"
   ]
  },
  {
   "cell_type": "code",
   "execution_count": 194,
   "id": "5118487b-84bf-4e80-a307-3bb03412ee5c",
   "metadata": {},
   "outputs": [
    {
     "data": {
      "text/plain": [
       "(400, 147)"
      ]
     },
     "execution_count": 194,
     "metadata": {},
     "output_type": "execute_result"
    }
   ],
   "source": [
    "mondobianary_table_withRNA.shape"
   ]
  },
  {
   "cell_type": "code",
   "execution_count": 195,
   "id": "9b489e7d-94db-48b1-a68f-44200b370b8f",
   "metadata": {},
   "outputs": [],
   "source": [
    "\n",
    "HPbianary_table_withRNA.to_csv(outdir+\"HP_binary_attribute_withRNA.csv\")\n",
    "mondobianary_table_withRNA.to_csv(outdir+\"MONDO_binary_attribute_withRNA.csv\")"
   ]
  },
  {
   "cell_type": "code",
   "execution_count": 196,
   "id": "9b692383-93c3-4730-8a01-6ce93b0bd645",
   "metadata": {},
   "outputs": [],
   "source": [
    "DS_conditions_cols = [\"MONDO_Down_syndrome\", \"MONDO_mosaic_translocation_Down_syndrome\", \"MONDO_translocation_Down_syndrome\", \"MONDO_complete_trisomy_21\", \"MONDO_mosaic_trisomy_21\"]\n",
    "\n"
   ]
  },
  {
   "cell_type": "code",
   "execution_count": 197,
   "id": "bfa175a9-c141-4af0-9e58-c9627398df9b",
   "metadata": {},
   "outputs": [],
   "source": [
    "whichT21_withRNA = mondobianary_table_withRNA[DS_conditions_cols].copy()\n",
    "whichT21_withRNA.index = mondobianary_table_withRNA[\"Patient\"]"
   ]
  },
  {
   "cell_type": "code",
   "execution_count": 198,
   "id": "c90c8428-5e21-4a86-b8ad-7e5cb7a6ae64",
   "metadata": {},
   "outputs": [],
   "source": [
    "whichT21 = mondobianary_table[DS_conditions_cols].copy()\n",
    "whichT21.index = mondobianary_table[\"Patient\"]"
   ]
  },
  {
   "cell_type": "code",
   "execution_count": 199,
   "id": "b73f4482-0df7-4eed-b49d-a14d14bb017b",
   "metadata": {},
   "outputs": [],
   "source": [
    "whichT21_withRNA.loc[:, \"Disomic\"] = whichT21_withRNA[DS_conditions_cols].sum(axis=1) == 0\n",
    "whichT21.loc[:, \"Disomic\"] = whichT21[DS_conditions_cols].sum(axis=1) == 0\n"
   ]
  },
  {
   "cell_type": "code",
   "execution_count": 200,
   "id": "7e4aa08b-6c20-4cb7-adf0-af943225bf89",
   "metadata": {},
   "outputs": [],
   "source": [
    "whichT21_withRNA.to_csv(outdir+\"whichT21_withRNA.csv\")\n",
    "whichT21.to_csv(outdir+\"whichT21.csv\")"
   ]
  },
  {
   "cell_type": "code",
   "execution_count": 201,
   "id": "bcf592c4-e1d7-431f-bd78-e1b9eae8c83d",
   "metadata": {},
   "outputs": [],
   "source": [
    "completeT21 = whichT21_withRNA[whichT21_withRNA[\"MONDO_complete_trisomy_21\"]==1]"
   ]
  },
  {
   "cell_type": "code",
   "execution_count": null,
   "id": "0a72c138-778e-4faa-a0c6-6ed3e92e23cd",
   "metadata": {},
   "outputs": [],
   "source": []
  },
  {
   "cell_type": "code",
   "execution_count": 202,
   "id": "977d67c0-ad98-4bfc-9a4c-1a897353515e",
   "metadata": {},
   "outputs": [],
   "source": [
    "completeT21HPbianary_table_withRNA = HPbianary_table_withRNA[HPbianary_table_withRNA[\"Patient\"].isin(completeT21.index)]\n",
    "completeT21mondobianary_table_withRNA = mondobianary_table_withRNA[mondobianary_table_withRNA[\"Patient\"].isin(completeT21.index)]\n"
   ]
  },
  {
   "cell_type": "code",
   "execution_count": 203,
   "id": "c71f8672-7793-4144-ad4d-4f1098d5e259",
   "metadata": {},
   "outputs": [
    {
     "data": {
      "text/plain": [
       "(254, 147)"
      ]
     },
     "execution_count": 203,
     "metadata": {},
     "output_type": "execute_result"
    }
   ],
   "source": [
    "completeT21mondobianary_table_withRNA.shape"
   ]
  },
  {
   "cell_type": "code",
   "execution_count": 204,
   "id": "88ffaafe-0f72-4250-89fd-e6a32616592f",
   "metadata": {},
   "outputs": [],
   "source": [
    "completeT21value_df = value_df[value_df[\"Patient\"].isin(completeT21.index)]"
   ]
  },
  {
   "cell_type": "code",
   "execution_count": 205,
   "id": "b157112a-00df-4784-a0d8-b0fe0db7f161",
   "metadata": {},
   "outputs": [
    {
     "data": {
      "text/plain": [
       "(254, 58090)"
      ]
     },
     "execution_count": 205,
     "metadata": {},
     "output_type": "execute_result"
    }
   ],
   "source": [
    "completeT21value_df.shape"
   ]
  },
  {
   "cell_type": "code",
   "execution_count": 206,
   "id": "fa032963-a8c7-43ee-a109-2a89d02a4f42",
   "metadata": {},
   "outputs": [
    {
     "data": {
      "text/html": [
       "<div>\n",
       "<style scoped>\n",
       "    .dataframe tbody tr th:only-of-type {\n",
       "        vertical-align: middle;\n",
       "    }\n",
       "\n",
       "    .dataframe tbody tr th {\n",
       "        vertical-align: top;\n",
       "    }\n",
       "\n",
       "    .dataframe thead th {\n",
       "        text-align: right;\n",
       "    }\n",
       "</style>\n",
       "<table border=\"1\" class=\"dataframe\">\n",
       "  <thead>\n",
       "    <tr style=\"text-align: right;\">\n",
       "      <th></th>\n",
       "      <th>Unnamed: 0</th>\n",
       "      <th>seqnames</th>\n",
       "      <th>start</th>\n",
       "      <th>end</th>\n",
       "      <th>width</th>\n",
       "      <th>strand</th>\n",
       "      <th>source</th>\n",
       "      <th>type</th>\n",
       "      <th>gene_id</th>\n",
       "      <th>gene_version</th>\n",
       "      <th>gene_name</th>\n",
       "      <th>gene_source</th>\n",
       "      <th>gene_biotype</th>\n",
       "    </tr>\n",
       "  </thead>\n",
       "  <tbody>\n",
       "    <tr>\n",
       "      <th>0</th>\n",
       "      <td>1</td>\n",
       "      <td>1</td>\n",
       "      <td>11869</td>\n",
       "      <td>14409</td>\n",
       "      <td>2541</td>\n",
       "      <td>+</td>\n",
       "      <td>havana</td>\n",
       "      <td>gene</td>\n",
       "      <td>ENSG00000223972</td>\n",
       "      <td>5</td>\n",
       "      <td>DDX11L1</td>\n",
       "      <td>havana</td>\n",
       "      <td>transcribed_unprocessed_pseudogene</td>\n",
       "    </tr>\n",
       "    <tr>\n",
       "      <th>1</th>\n",
       "      <td>2</td>\n",
       "      <td>1</td>\n",
       "      <td>14404</td>\n",
       "      <td>29570</td>\n",
       "      <td>15167</td>\n",
       "      <td>-</td>\n",
       "      <td>havana</td>\n",
       "      <td>gene</td>\n",
       "      <td>ENSG00000227232</td>\n",
       "      <td>5</td>\n",
       "      <td>WASH7P</td>\n",
       "      <td>havana</td>\n",
       "      <td>unprocessed_pseudogene</td>\n",
       "    </tr>\n",
       "    <tr>\n",
       "      <th>2</th>\n",
       "      <td>3</td>\n",
       "      <td>1</td>\n",
       "      <td>17369</td>\n",
       "      <td>17436</td>\n",
       "      <td>68</td>\n",
       "      <td>-</td>\n",
       "      <td>mirbase</td>\n",
       "      <td>gene</td>\n",
       "      <td>ENSG00000278267</td>\n",
       "      <td>1</td>\n",
       "      <td>MIR6859-1</td>\n",
       "      <td>mirbase</td>\n",
       "      <td>miRNA</td>\n",
       "    </tr>\n",
       "    <tr>\n",
       "      <th>3</th>\n",
       "      <td>4</td>\n",
       "      <td>1</td>\n",
       "      <td>29554</td>\n",
       "      <td>31109</td>\n",
       "      <td>1556</td>\n",
       "      <td>+</td>\n",
       "      <td>havana</td>\n",
       "      <td>gene</td>\n",
       "      <td>ENSG00000243485</td>\n",
       "      <td>5</td>\n",
       "      <td>MIR1302-2HG</td>\n",
       "      <td>havana</td>\n",
       "      <td>lincRNA</td>\n",
       "    </tr>\n",
       "    <tr>\n",
       "      <th>4</th>\n",
       "      <td>5</td>\n",
       "      <td>1</td>\n",
       "      <td>30366</td>\n",
       "      <td>30503</td>\n",
       "      <td>138</td>\n",
       "      <td>+</td>\n",
       "      <td>mirbase</td>\n",
       "      <td>gene</td>\n",
       "      <td>ENSG00000284332</td>\n",
       "      <td>1</td>\n",
       "      <td>MIR1302-2</td>\n",
       "      <td>mirbase</td>\n",
       "      <td>miRNA</td>\n",
       "    </tr>\n",
       "    <tr>\n",
       "      <th>...</th>\n",
       "      <td>...</td>\n",
       "      <td>...</td>\n",
       "      <td>...</td>\n",
       "      <td>...</td>\n",
       "      <td>...</td>\n",
       "      <td>...</td>\n",
       "      <td>...</td>\n",
       "      <td>...</td>\n",
       "      <td>...</td>\n",
       "      <td>...</td>\n",
       "      <td>...</td>\n",
       "      <td>...</td>\n",
       "      <td>...</td>\n",
       "    </tr>\n",
       "    <tr>\n",
       "      <th>58730</th>\n",
       "      <td>58731</td>\n",
       "      <td>KI270711.1</td>\n",
       "      <td>4612</td>\n",
       "      <td>29626</td>\n",
       "      <td>25015</td>\n",
       "      <td>-</td>\n",
       "      <td>ensembl</td>\n",
       "      <td>gene</td>\n",
       "      <td>ENSG00000271254</td>\n",
       "      <td>6</td>\n",
       "      <td>AC240274.1</td>\n",
       "      <td>ensembl</td>\n",
       "      <td>protein_coding</td>\n",
       "    </tr>\n",
       "    <tr>\n",
       "      <th>58731</th>\n",
       "      <td>58732</td>\n",
       "      <td>KI270713.1</td>\n",
       "      <td>21861</td>\n",
       "      <td>22024</td>\n",
       "      <td>164</td>\n",
       "      <td>-</td>\n",
       "      <td>ensembl</td>\n",
       "      <td>gene</td>\n",
       "      <td>ENSG00000275405</td>\n",
       "      <td>1</td>\n",
       "      <td>RF00003</td>\n",
       "      <td>ensembl</td>\n",
       "      <td>snRNA</td>\n",
       "    </tr>\n",
       "    <tr>\n",
       "      <th>58732</th>\n",
       "      <td>58733</td>\n",
       "      <td>KI270713.1</td>\n",
       "      <td>30437</td>\n",
       "      <td>30580</td>\n",
       "      <td>144</td>\n",
       "      <td>-</td>\n",
       "      <td>ensembl</td>\n",
       "      <td>gene</td>\n",
       "      <td>ENSG00000275987</td>\n",
       "      <td>1</td>\n",
       "      <td>RF00003</td>\n",
       "      <td>ensembl</td>\n",
       "      <td>snRNA</td>\n",
       "    </tr>\n",
       "    <tr>\n",
       "      <th>58733</th>\n",
       "      <td>58734</td>\n",
       "      <td>KI270713.1</td>\n",
       "      <td>31698</td>\n",
       "      <td>32528</td>\n",
       "      <td>831</td>\n",
       "      <td>-</td>\n",
       "      <td>ensembl</td>\n",
       "      <td>gene</td>\n",
       "      <td>ENSG00000277475</td>\n",
       "      <td>1</td>\n",
       "      <td>AC213203.2</td>\n",
       "      <td>ensembl</td>\n",
       "      <td>protein_coding</td>\n",
       "    </tr>\n",
       "    <tr>\n",
       "      <th>58734</th>\n",
       "      <td>58735</td>\n",
       "      <td>KI270713.1</td>\n",
       "      <td>35407</td>\n",
       "      <td>35916</td>\n",
       "      <td>510</td>\n",
       "      <td>+</td>\n",
       "      <td>ensembl</td>\n",
       "      <td>gene</td>\n",
       "      <td>ENSG00000268674</td>\n",
       "      <td>2</td>\n",
       "      <td>AC213203.1</td>\n",
       "      <td>ensembl</td>\n",
       "      <td>protein_coding</td>\n",
       "    </tr>\n",
       "  </tbody>\n",
       "</table>\n",
       "<p>58735 rows × 13 columns</p>\n",
       "</div>"
      ],
      "text/plain": [
       "       Unnamed: 0    seqnames  start    end  width strand   source  type  \\\n",
       "0               1           1  11869  14409   2541      +   havana  gene   \n",
       "1               2           1  14404  29570  15167      -   havana  gene   \n",
       "2               3           1  17369  17436     68      -  mirbase  gene   \n",
       "3               4           1  29554  31109   1556      +   havana  gene   \n",
       "4               5           1  30366  30503    138      +  mirbase  gene   \n",
       "...           ...         ...    ...    ...    ...    ...      ...   ...   \n",
       "58730       58731  KI270711.1   4612  29626  25015      -  ensembl  gene   \n",
       "58731       58732  KI270713.1  21861  22024    164      -  ensembl  gene   \n",
       "58732       58733  KI270713.1  30437  30580    144      -  ensembl  gene   \n",
       "58733       58734  KI270713.1  31698  32528    831      -  ensembl  gene   \n",
       "58734       58735  KI270713.1  35407  35916    510      +  ensembl  gene   \n",
       "\n",
       "               gene_id  gene_version    gene_name gene_source  \\\n",
       "0      ENSG00000223972             5      DDX11L1      havana   \n",
       "1      ENSG00000227232             5       WASH7P      havana   \n",
       "2      ENSG00000278267             1    MIR6859-1     mirbase   \n",
       "3      ENSG00000243485             5  MIR1302-2HG      havana   \n",
       "4      ENSG00000284332             1    MIR1302-2     mirbase   \n",
       "...                ...           ...          ...         ...   \n",
       "58730  ENSG00000271254             6   AC240274.1     ensembl   \n",
       "58731  ENSG00000275405             1      RF00003     ensembl   \n",
       "58732  ENSG00000275987             1      RF00003     ensembl   \n",
       "58733  ENSG00000277475             1   AC213203.2     ensembl   \n",
       "58734  ENSG00000268674             2   AC213203.1     ensembl   \n",
       "\n",
       "                             gene_biotype  \n",
       "0      transcribed_unprocessed_pseudogene  \n",
       "1                  unprocessed_pseudogene  \n",
       "2                                   miRNA  \n",
       "3                                 lincRNA  \n",
       "4                                   miRNA  \n",
       "...                                   ...  \n",
       "58730                      protein_coding  \n",
       "58731                               snRNA  \n",
       "58732                               snRNA  \n",
       "58733                      protein_coding  \n",
       "58734                      protein_coding  \n",
       "\n",
       "[58735 rows x 13 columns]"
      ]
     },
     "execution_count": 206,
     "metadata": {},
     "output_type": "execute_result"
    }
   ],
   "source": [
    "genesdf = pd.read_csv(genefile)\n",
    "genesdf"
   ]
  },
  {
   "cell_type": "code",
   "execution_count": 207,
   "id": "fe33a68d-8158-4154-86f2-1081231888ff",
   "metadata": {},
   "outputs": [
    {
     "data": {
      "text/plain": [
       "(833, 13)"
      ]
     },
     "execution_count": 207,
     "metadata": {},
     "output_type": "execute_result"
    }
   ],
   "source": [
    "genesdfchr21 = genesdf[genesdf[\"seqnames\"]==\"21\"]\n",
    "genesdfchr21.shape"
   ]
  },
  {
   "cell_type": "code",
   "execution_count": 208,
   "id": "c83134b9-3547-4f3b-81a0-33f66127c512",
   "metadata": {},
   "outputs": [],
   "source": [
    "keepcols = [\"Patient\"]+[genename for genename in completeT21value_df.columns if genename in genesdfchr21[\"gene_id\"].to_list()]\n",
    "\n",
    "completeT21value_df = completeT21value_df[keepcols]"
   ]
  },
  {
   "cell_type": "code",
   "execution_count": 209,
   "id": "99c3c469-e395-4c87-a08d-f4e99e6e5ab6",
   "metadata": {},
   "outputs": [
    {
     "data": {
      "text/plain": [
       "(254, 832)"
      ]
     },
     "execution_count": 209,
     "metadata": {},
     "output_type": "execute_result"
    }
   ],
   "source": [
    "completeT21value_df.shape"
   ]
  },
  {
   "cell_type": "code",
   "execution_count": 210,
   "id": "be7a2bfd-801c-4b1d-8bfe-6ca85293c28b",
   "metadata": {},
   "outputs": [],
   "source": [
    "completeT21value_df.to_csv(outdir+\"values_chr21_onlycompleteT21.csv\")"
   ]
  },
  {
   "cell_type": "code",
   "execution_count": 211,
   "id": "64197399-ac2f-47ce-9633-ed39a05242e5",
   "metadata": {},
   "outputs": [],
   "source": [
    "completeT21HPbianary_table_withRNA.to_csv(outdir+\"completeT21HPbianary_table_withRNA.csv\")\n",
    "completeT21mondobianary_table_withRNA.to_csv(outdir+\"completeT21mondobianary_table_withRNA.csv\")\n"
   ]
  },
  {
   "cell_type": "code",
   "execution_count": null,
   "id": "85fcdb60-8a1e-4ce8-9632-e4fd08cc1e7e",
   "metadata": {},
   "outputs": [],
   "source": []
  },
  {
   "cell_type": "code",
   "execution_count": null,
   "id": "4cdd2212-1a8e-49dc-8a7c-d811d684f2b5",
   "metadata": {},
   "outputs": [],
   "source": []
  },
  {
   "cell_type": "code",
   "execution_count": null,
   "id": "f502aebf-de7c-4abf-8f95-90457e374524",
   "metadata": {},
   "outputs": [],
   "source": []
  },
  {
   "cell_type": "code",
   "execution_count": null,
   "id": "d244b3ec-3535-41cb-b6e2-38c095b0b8b6",
   "metadata": {},
   "outputs": [],
   "source": []
  }
 ],
 "metadata": {
  "kernelspec": {
   "display_name": "Python 3 (ipykernel)",
   "language": "python",
   "name": "python3"
  },
  "language_info": {
   "codemirror_mode": {
    "name": "ipython",
    "version": 3
   },
   "file_extension": ".py",
   "mimetype": "text/x-python",
   "name": "python",
   "nbconvert_exporter": "python",
   "pygments_lexer": "ipython3",
   "version": "3.9.18"
  }
 },
 "nbformat": 4,
 "nbformat_minor": 5
}
