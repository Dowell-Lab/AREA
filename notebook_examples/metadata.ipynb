{
 "cells": [
  {
   "cell_type": "code",
   "execution_count": 310,
   "id": "e0e1efbb-db2c-4f77-a8bb-bb552121416e",
   "metadata": {},
   "outputs": [],
   "source": [
    "import pandas as pd\n",
    "from collections import Counter\n",
    "import plotly.express as px"
   ]
  },
  {
   "cell_type": "markdown",
   "id": "9dcd9dca-d94b-4fd0-bffb-6ccca95e7857",
   "metadata": {},
   "source": [
    "# Set file paths"
   ]
  },
  {
   "cell_type": "code",
   "execution_count": 311,
   "id": "369dd755-123f-4730-a2e2-77fa570f5fb3",
   "metadata": {},
   "outputs": [],
   "source": [
    "count_dir = \"/Shares/down/public/INLCUDE_2024/kallisto_20241030/kallisto_to_deseq_20241230/\"\n",
    "countsetname = \"kallisto_200401lines\"\n",
    "count_file = count_dir+\"kallisto_to_DESeq_normcounts_200401.csv\"\n",
    "tpm_file = count_dir+\"kallisto_to_DESeq_rawcounts_200401.csv\"\n"
   ]
  },
  {
   "cell_type": "code",
   "execution_count": 312,
   "id": "647e1377-c388-4620-a649-a46790e641e4",
   "metadata": {},
   "outputs": [],
   "source": [
    "metadataindir=\"/Shares/down/public/INLCUDE_2024/kallisto_20241030/metadata/\"\n",
    "familymanifest = \"include_familyManifest_20241029T155031Z.tsv\"\n",
    "clinicalfile = \"include_familyClinicalData_20241028T223209Z.xlsx\"\n",
    "biospeciman = \"include_biospecimenData_20241028T223221Z.xlsx\"\n",
    "outdir = \"/Shares/down/public/INLCUDE_2024/kallisto_20241030/selfannoated/\"\n",
    "geneindir= outdir\n",
    "genefile = geneindir+\"genes.csv\""
   ]
  },
  {
   "cell_type": "markdown",
   "id": "c3a04644-b903-4381-a046-f2572c270cdf",
   "metadata": {},
   "source": [
    "# Read in files"
   ]
  },
  {
   "cell_type": "code",
   "execution_count": 313,
   "id": "11265894-c8bc-452c-bd61-4d267292e382",
   "metadata": {},
   "outputs": [],
   "source": [
    "clinicalxls = pd.ExcelFile(metadataindir+clinicalfile)#Phenotypes\n",
    "Phenotypesdf = pd.read_excel(clinicalxls, 'Phenotypes')\n",
    "Diagnosesdf = pd.read_excel(clinicalxls, 'Diagnoses')\n",
    "Participantsdf = pd.read_excel(clinicalxls, 'Participants')"
   ]
  },
  {
   "cell_type": "code",
   "execution_count": 314,
   "id": "1b418755-c337-46c1-906b-63e2917368d2",
   "metadata": {},
   "outputs": [],
   "source": [
    "biospecimanxls = pd.ExcelFile(metadataindir+biospeciman)#Phenotypes\n",
    "Biospecimensdf = pd.read_excel(biospecimanxls, 'Biospecimens')"
   ]
  },
  {
   "cell_type": "code",
   "execution_count": 315,
   "id": "5d88d750-291d-436f-97a0-de3bc086961b",
   "metadata": {},
   "outputs": [
    {
     "data": {
      "text/plain": [
       "Index(['Access URL', 'File ID', 'File Name', 'File Size', 'Data Category',\n",
       "       'Data Type', 'File Format', 'Experimental Strategy', 'Hash',\n",
       "       'Study Name', 'Participant ID', 'Sample ID', 'INCLUDE Container ID',\n",
       "       'Down Syndrome Status', 'Family ID', 'External Participant ID',\n",
       "       'External Sample ID', 'External Collection ID'],\n",
       "      dtype='object')"
      ]
     },
     "execution_count": 315,
     "metadata": {},
     "output_type": "execute_result"
    }
   ],
   "source": [
    "familymanifestdf = pd.read_csv(metadataindir+familymanifest, sep=\"\\t\")\n",
    "\n",
    "familymanifestdf.columns"
   ]
  },
  {
   "cell_type": "code",
   "execution_count": 316,
   "id": "34602db9-dd4d-4c9a-98fa-8812010468b1",
   "metadata": {},
   "outputs": [],
   "source": [
    "switchdf = familymanifestdf[[\"File Name\", \"Participant ID\"]].copy().drop_duplicates()\n",
    "switchdf[\"Participant\"] = switchdf[\"Participant ID\"]\n",
    "switchdf[\"FileName\"] = switchdf[\"File Name\"]\n",
    "switchdf = switchdf[[\"FileName\", \"Participant\"]]"
   ]
  },
  {
   "cell_type": "code",
   "execution_count": 317,
   "id": "3617be11-1f51-4040-b564-c2855e2a4cca",
   "metadata": {},
   "outputs": [],
   "source": [
    "def createbinary(metadatadf, importantcol, spliton, findcode, appendname):\n",
    "    allphenotypes = metadatadf[importantcol].unique()\n",
    "    allphenotypes = [v for v in allphenotypes if type(v)!=float]\n",
    "    allphenotypes = [v.split(\")\") for v in allphenotypes]\n",
    "    allphenotypes = [item.strip(\", \") for sublist in allphenotypes for item in sublist]\n",
    "    allphenotypes = sorted(list(set([v for v in allphenotypes if v.find(findcode)>-1])))\n",
    "    df = pd.DataFrame(allphenotypes)\n",
    "    df.columns = [\"ori_name\"]\n",
    "    df[[\"phenotype\", appendname]] = df[\"ori_name\"].str.split(spliton, expand=True)\n",
    "    df[\"colname\"] = appendname+\"_\"+df[\"phenotype\"].str.replace(\" \", \"_\")\n",
    "    pairsmondocolname = list(zip(df[appendname], df['colname']))\n",
    "    samples = metadatadf[\"Participant ID\"].unique()\n",
    "    bianary_table = pd.DataFrame(samples)\n",
    "    bianary_table.columns = [\"Participant\"]\n",
    "    bianary_table.index = bianary_table[\"Participant\"]\n",
    "    listcolspresent = []\n",
    "    for mondocode, colname in pairsmondocolname:\n",
    "        mask = metadatadf[importantcol].str.contains(str(mondocode), na=False)\n",
    "        hasitdf_df = metadatadf[mask]\n",
    "        presentdf = bianary_table[\"Participant\"].isin(hasitdf_df[\"Participant ID\"]).to_frame()\n",
    "        presentdf.columns = [colname]\n",
    "        listcolspresent.append(presentdf)\n",
    "    bianary_table = pd.concat(listcolspresent, axis=1, join=\"inner\")  # or join=\"outer\"\n",
    "    counteach = bianary_table.sum().to_frame()\n",
    "    counteach.columns = [\"counts\"]\n",
    "    counteach[\"colname\"]= counteach.index\n",
    "    df = df.merge(counteach, on=\"colname\")\n",
    "    return df, bianary_table\n",
    "\n",
    "def participants_to_filenames(familymanifestdf, bianary_table):\n",
    "    newnames = bianary_table.merge(switchdf, on=\"Participant\", how=\"outer\")\n",
    "    newnames = newnames.drop(columns=['Participant'])\n",
    "    return newnames\n",
    "    \n",
    "def filenames_to_participants(familymanifestdf, value_table):\n",
    "    newnames = value_table.merge(switchdf, on=\"FileName\", how=\"inner\")\n",
    "    newnames = newnames.drop(columns=['FileName'])\n",
    "    return newnames\n",
    "    "
   ]
  },
  {
   "cell_type": "code",
   "execution_count": 318,
   "id": "6bab0b63-d0d3-4c06-a5ae-afc05249a370",
   "metadata": {},
   "outputs": [],
   "source": [
    "importantcol = \" Diagnosis (MONDO)\"\n",
    "spliton = \" \\(MONDO:\"\n",
    "findcode = \" (MONDO:\"\n",
    "appendname = \"MONDO\"\n",
    "mondodf, mondobianary_table = createbinary(Diagnosesdf, importantcol, spliton, findcode, appendname)"
   ]
  },
  {
   "cell_type": "code",
   "execution_count": 319,
   "id": "19300cb5-03ab-4270-97f7-e6e7ac1d4eb5",
   "metadata": {},
   "outputs": [],
   "source": [
    "importantcol = \"Phenotype (HPO)\"\n",
    "spliton = \" \\(HP:\"\n",
    "findcode = \" (HP:\"\n",
    "appendname = \"HP\"\n",
    "HPdf, HPbianary_table = createbinary(metadatadf, importantcol, spliton, findcode, appendname)"
   ]
  },
  {
   "cell_type": "code",
   "execution_count": 320,
   "id": "aa481ed3-f473-4413-8486-6d422012b3cc",
   "metadata": {},
   "outputs": [
    {
     "name": "stderr",
     "output_type": "stream",
     "text": [
      "/tmp/ipykernel_37038/1531014312.py:1: PerformanceWarning:\n",
      "\n",
      "DataFrame is highly fragmented.  This is usually the result of calling `frame.insert` many times, which has poor performance.  Consider joining all columns at once using pd.concat(axis=1) instead. To get a de-fragmented frame, use `newframe = frame.copy()`\n",
      "\n",
      "/tmp/ipykernel_37038/1531014312.py:2: PerformanceWarning:\n",
      "\n",
      "DataFrame is highly fragmented.  This is usually the result of calling `frame.insert` many times, which has poor performance.  Consider joining all columns at once using pd.concat(axis=1) instead. To get a de-fragmented frame, use `newframe = frame.copy()`\n",
      "\n"
     ]
    }
   ],
   "source": [
    "HPbianary_table[\"Participant\"] = HPbianary_table.index\n",
    "mondobianary_table[\"Participant\"] = mondobianary_table.index"
   ]
  },
  {
   "cell_type": "code",
   "execution_count": 321,
   "id": "82af47b7-bff3-4ed5-bc8d-e7185ad269f1",
   "metadata": {},
   "outputs": [],
   "source": [
    "HPbianary_table = HPbianary_table.reset_index(drop=True)\n",
    "mondobianary_table = mondobianary_table.reset_index(drop=True)\n",
    "HPbianary_table = HPbianary_table[[colname for colname in HPbianary_table.columns if colname!=\"Participant ID\"]]\n",
    "mondobianary_table = mondobianary_table[[colname for colname in mondobianary_table.columns if colname!=\"Participant ID\"]]\n"
   ]
  },
  {
   "cell_type": "code",
   "execution_count": 322,
   "id": "4f65331d-8214-43d2-b44f-015c7a98d968",
   "metadata": {},
   "outputs": [],
   "source": [
    "HPdf.to_csv(outdir+\"full_HP_counts_colnames.csv\")\n",
    "HPbianary_table.to_csv(outdir+\"full_HP_binary_attribute.csv\")\n",
    "mondodf.to_csv(outdir+\"full_MONDO_counts_colnames.csv\")\n",
    "mondobianary_table.to_csv(outdir+\"full_MONDO_binary_attribute.csv\")"
   ]
  },
  {
   "cell_type": "code",
   "execution_count": 323,
   "id": "d18edc0e-57ce-42c4-b699-31e2fb506b0d",
   "metadata": {},
   "outputs": [],
   "source": [
    "# Using participants_to_filenames means participants are in the boolean file more than once! \n",
    "#( Each partcipant is in the HPbianary_table_filename once for each file we have on them. And most Participants we have at least 3 files for.\n",
    "#So it is  your job to make sure you only have one file per sample in AREA!\n",
    "#I did that by making sure only to get one RNA-seq counts per person in the counts files I made.\n",
    "\n",
    "HPbianary_table_filename = participants_to_filenames(familymanifestdf, HPbianary_table)\n",
    "HPbianary_table_filename.to_csv(outdir+\"filename_HP_binary_attribute.csv\")\n",
    "MONDObianary_table_filename = participants_to_filenames(familymanifestdf, mondobianary_table)\n",
    "MONDObianary_table_filename.to_csv(outdir+\"filename_MONDO_binary_attribute.csv\")"
   ]
  },
  {
   "cell_type": "code",
   "execution_count": 324,
   "id": "9842a6f6-1cdf-411d-bb62-9aef85cd4f09",
   "metadata": {},
   "outputs": [],
   "source": [
    "mini_HP = HPbianary_table[[\"HP_Obstructive_sleep_apnea\", \"HP_Obesity\",\"HP_Depression\", \"Participant\"]]\n",
    "mini_HP.to_csv(outdir+\"mini_HP_binary_attribute.csv\")\n",
    "mini_filenameHP = HPbianary_table_filename[[\"HP_Obstructive_sleep_apnea\", \"HP_Obesity\",\"HP_Depression\", \"FileName\"]]\n",
    "mini_filenameHP.to_csv(outdir+\"minifilename_HP_binary_attribute.csv\")"
   ]
  },
  {
   "cell_type": "markdown",
   "id": "830ac2ee-cfc0-48a3-8101-8f5a6124eb12",
   "metadata": {},
   "source": [
    "# Now make the rank files"
   ]
  },
  {
   "cell_type": "code",
   "execution_count": 325,
   "id": "c7d7b98b-1ebc-42a9-8ec1-a151ed90e606",
   "metadata": {},
   "outputs": [],
   "source": [
    "#tpmdf = pd.read_csv(tpm_file, index_col=0)\n",
    "#value_df = tpmdf.T\n",
    "#value_df[\"FileName\"] = value_df.index\n",
    "#value_df = value_df.reset_index(drop=True)\n",
    "#value_df = value_df[[colname for colname in value_df.columns if colname!=\"sample\"]]\n",
    "#value_df.to_csv(outdir+countsetname+\"_tpm.csv\")\n"
   ]
  },
  {
   "cell_type": "code",
   "execution_count": 326,
   "id": "e7933c20-6974-4a00-a0de-011f06522907",
   "metadata": {},
   "outputs": [],
   "source": [
    "countdf = pd.read_csv(count_file, index_col=0)\n",
    "value_df = countdf.T\n",
    "value_df[\"FileName\"] = value_df.index\n",
    "value_df = value_df.reset_index(drop=True)\n",
    "#value_df = value_df[[colname for colname in value_df.columns if colname!=\"sample\"]]\n",
    "value_df.to_csv(outdir+countsetname+\"_filename_normcounts.csv\")\n"
   ]
  },
  {
   "cell_type": "code",
   "execution_count": 327,
   "id": "62feedef-ede5-4f1a-a4ef-97986c0903ef",
   "metadata": {},
   "outputs": [],
   "source": [
    "#vcolnames = [colname for colname in value_df.columns if colname.find(\"ENSG00000001167\")>-1]\n",
    "#\n",
    "#len(list(set(vcolnames)))\n",
    "#vcolnames"
   ]
  },
  {
   "cell_type": "markdown",
   "id": "3fc5787f-e5f0-4003-a6d0-e8de35f612bf",
   "metadata": {},
   "source": [
    "# How many files are there per person"
   ]
  },
  {
   "cell_type": "code",
   "execution_count": 328,
   "id": "1a656946-484a-4d5b-8840-ca5fed22ac5d",
   "metadata": {},
   "outputs": [],
   "source": [
    "unique_file_counts_per_Participant = (\n",
    "    switchdf.groupby(\"Participant\")[\"FileName\"]\n",
    "      .nunique()\n",
    "      .reset_index(name=\"UniqueFileCount\")\n",
    ")\n",
    "\n",
    "switchdf_withRNA = switchdf.merge(value_df, on=\"FileName\", how=\"inner\")\n",
    "\n",
    "unique_file_counts_per_Participant_withRNA = (\n",
    "    switchdf_withRNA.groupby(\"Participant\")[\"FileName\"]\n",
    "      .nunique()\n",
    "      .reset_index(name=\"UniqueFileCount\")\n",
    ")\n"
   ]
  },
  {
   "cell_type": "code",
   "execution_count": 329,
   "id": "3da34e0c-c591-47f7-b77a-bfcf0ef50aeb",
   "metadata": {},
   "outputs": [
    {
     "data": {
      "application/vnd.plotly.v1+json": {
       "config": {
        "plotlyServerURL": "https://plot.ly"
       },
       "data": [
        {
         "alignmentgroup": "True",
         "bingroup": "x",
         "hovertemplate": "UniqueFileCount=%{x}<br>count=%{y}<extra></extra>",
         "legendgroup": "",
         "marker": {
          "color": "#636efa",
          "pattern": {
           "shape": ""
          }
         },
         "name": "",
         "offsetgroup": "",
         "orientation": "v",
         "showlegend": false,
         "type": "histogram",
         "x": [
          1,
          1,
          1,
          1,
          1,
          1,
          1,
          1,
          1,
          1,
          1,
          1,
          1,
          1,
          1,
          1,
          1,
          1,
          1,
          1,
          1,
          1,
          1,
          1,
          1,
          1,
          1,
          1,
          1,
          1,
          1,
          1,
          1,
          1,
          1,
          1,
          1,
          1,
          1,
          1,
          1,
          1,
          1,
          1,
          1,
          1,
          1,
          1,
          1,
          1,
          1,
          1,
          1,
          1,
          1,
          1,
          1,
          1,
          1,
          1,
          1,
          1,
          1,
          1,
          1,
          1,
          1,
          1,
          1,
          1,
          1,
          1,
          1,
          1,
          1,
          1,
          1,
          1,
          1,
          1,
          1,
          1,
          1,
          1,
          1,
          1,
          1,
          1,
          1,
          1,
          1,
          1,
          1,
          1,
          1,
          1,
          1,
          1,
          1,
          1,
          1,
          1,
          1,
          1,
          1,
          1,
          1,
          1,
          1,
          1,
          1,
          1,
          1,
          1,
          1,
          1,
          1,
          1,
          1,
          1,
          1,
          1,
          1,
          1,
          1,
          1,
          1,
          1,
          1,
          1,
          1,
          1,
          1,
          1,
          1,
          1,
          1,
          1,
          1,
          1,
          1,
          1,
          1,
          1,
          1,
          1,
          1,
          1,
          1,
          1,
          1,
          1,
          1,
          1,
          1,
          1,
          1,
          1,
          1,
          1,
          1,
          1,
          1,
          1,
          1,
          1,
          1,
          1,
          1,
          1,
          1,
          1,
          1,
          1,
          1,
          1,
          1,
          1,
          1,
          1,
          1,
          1,
          1,
          1,
          1,
          1,
          1,
          1,
          1,
          1,
          1,
          1,
          1,
          1,
          1,
          1,
          1,
          1,
          1,
          1,
          1,
          1,
          1,
          1,
          1,
          1,
          1,
          1,
          1,
          1,
          1,
          1,
          1,
          1,
          1,
          1,
          1,
          1,
          1,
          1,
          1,
          1,
          1,
          1,
          1,
          1,
          1,
          1,
          1,
          1,
          1,
          1,
          1,
          1,
          1,
          1,
          1,
          1,
          1,
          1,
          1,
          1,
          1,
          1,
          1,
          1,
          1,
          1,
          1,
          1,
          1,
          1,
          1,
          1,
          1,
          1,
          1,
          1,
          1,
          1,
          1,
          1,
          1,
          1,
          1,
          1,
          1,
          1,
          1,
          1,
          1,
          1,
          1,
          1,
          1,
          1,
          1,
          1,
          1,
          1,
          1,
          1,
          1,
          1,
          1,
          1,
          1,
          1,
          1,
          1,
          1,
          1,
          1,
          1,
          1,
          1,
          1,
          1,
          1,
          1,
          1,
          1,
          1,
          1,
          1,
          1,
          1,
          1,
          1,
          1,
          1,
          1,
          1,
          1,
          1,
          1,
          1,
          1,
          1,
          1,
          1,
          1,
          1,
          1,
          1,
          1,
          1,
          1,
          1,
          1,
          1,
          1,
          1,
          1,
          1,
          1,
          1,
          1,
          1,
          1,
          1,
          1,
          1,
          1,
          1,
          1,
          1,
          1,
          1,
          1,
          1,
          1,
          1,
          1,
          1,
          1,
          1,
          1,
          1,
          1,
          1,
          1,
          1,
          1,
          1,
          1,
          1,
          1,
          1,
          1,
          1,
          1,
          1,
          1,
          1,
          1,
          1,
          1,
          1,
          1,
          1,
          1,
          1,
          1,
          1,
          1,
          1,
          1,
          1,
          1,
          1,
          1,
          1,
          1,
          1,
          1,
          1,
          1,
          1,
          1
         ],
         "xaxis": "x",
         "yaxis": "y"
        }
       ],
       "layout": {
        "autosize": true,
        "barmode": "relative",
        "legend": {
         "tracegroupgap": 0
        },
        "margin": {
         "t": 60
        },
        "template": {
         "data": {
          "bar": [
           {
            "error_x": {
             "color": "#2a3f5f"
            },
            "error_y": {
             "color": "#2a3f5f"
            },
            "marker": {
             "line": {
              "color": "#E5ECF6",
              "width": 0.5
             },
             "pattern": {
              "fillmode": "overlay",
              "size": 10,
              "solidity": 0.2
             }
            },
            "type": "bar"
           }
          ],
          "barpolar": [
           {
            "marker": {
             "line": {
              "color": "#E5ECF6",
              "width": 0.5
             },
             "pattern": {
              "fillmode": "overlay",
              "size": 10,
              "solidity": 0.2
             }
            },
            "type": "barpolar"
           }
          ],
          "carpet": [
           {
            "aaxis": {
             "endlinecolor": "#2a3f5f",
             "gridcolor": "white",
             "linecolor": "white",
             "minorgridcolor": "white",
             "startlinecolor": "#2a3f5f"
            },
            "baxis": {
             "endlinecolor": "#2a3f5f",
             "gridcolor": "white",
             "linecolor": "white",
             "minorgridcolor": "white",
             "startlinecolor": "#2a3f5f"
            },
            "type": "carpet"
           }
          ],
          "choropleth": [
           {
            "colorbar": {
             "outlinewidth": 0,
             "ticks": ""
            },
            "type": "choropleth"
           }
          ],
          "contour": [
           {
            "colorbar": {
             "outlinewidth": 0,
             "ticks": ""
            },
            "colorscale": [
             [
              0,
              "#0d0887"
             ],
             [
              0.1111111111111111,
              "#46039f"
             ],
             [
              0.2222222222222222,
              "#7201a8"
             ],
             [
              0.3333333333333333,
              "#9c179e"
             ],
             [
              0.4444444444444444,
              "#bd3786"
             ],
             [
              0.5555555555555556,
              "#d8576b"
             ],
             [
              0.6666666666666666,
              "#ed7953"
             ],
             [
              0.7777777777777778,
              "#fb9f3a"
             ],
             [
              0.8888888888888888,
              "#fdca26"
             ],
             [
              1,
              "#f0f921"
             ]
            ],
            "type": "contour"
           }
          ],
          "contourcarpet": [
           {
            "colorbar": {
             "outlinewidth": 0,
             "ticks": ""
            },
            "type": "contourcarpet"
           }
          ],
          "heatmap": [
           {
            "colorbar": {
             "outlinewidth": 0,
             "ticks": ""
            },
            "colorscale": [
             [
              0,
              "#0d0887"
             ],
             [
              0.1111111111111111,
              "#46039f"
             ],
             [
              0.2222222222222222,
              "#7201a8"
             ],
             [
              0.3333333333333333,
              "#9c179e"
             ],
             [
              0.4444444444444444,
              "#bd3786"
             ],
             [
              0.5555555555555556,
              "#d8576b"
             ],
             [
              0.6666666666666666,
              "#ed7953"
             ],
             [
              0.7777777777777778,
              "#fb9f3a"
             ],
             [
              0.8888888888888888,
              "#fdca26"
             ],
             [
              1,
              "#f0f921"
             ]
            ],
            "type": "heatmap"
           }
          ],
          "heatmapgl": [
           {
            "colorbar": {
             "outlinewidth": 0,
             "ticks": ""
            },
            "colorscale": [
             [
              0,
              "#0d0887"
             ],
             [
              0.1111111111111111,
              "#46039f"
             ],
             [
              0.2222222222222222,
              "#7201a8"
             ],
             [
              0.3333333333333333,
              "#9c179e"
             ],
             [
              0.4444444444444444,
              "#bd3786"
             ],
             [
              0.5555555555555556,
              "#d8576b"
             ],
             [
              0.6666666666666666,
              "#ed7953"
             ],
             [
              0.7777777777777778,
              "#fb9f3a"
             ],
             [
              0.8888888888888888,
              "#fdca26"
             ],
             [
              1,
              "#f0f921"
             ]
            ],
            "type": "heatmapgl"
           }
          ],
          "histogram": [
           {
            "marker": {
             "pattern": {
              "fillmode": "overlay",
              "size": 10,
              "solidity": 0.2
             }
            },
            "type": "histogram"
           }
          ],
          "histogram2d": [
           {
            "colorbar": {
             "outlinewidth": 0,
             "ticks": ""
            },
            "colorscale": [
             [
              0,
              "#0d0887"
             ],
             [
              0.1111111111111111,
              "#46039f"
             ],
             [
              0.2222222222222222,
              "#7201a8"
             ],
             [
              0.3333333333333333,
              "#9c179e"
             ],
             [
              0.4444444444444444,
              "#bd3786"
             ],
             [
              0.5555555555555556,
              "#d8576b"
             ],
             [
              0.6666666666666666,
              "#ed7953"
             ],
             [
              0.7777777777777778,
              "#fb9f3a"
             ],
             [
              0.8888888888888888,
              "#fdca26"
             ],
             [
              1,
              "#f0f921"
             ]
            ],
            "type": "histogram2d"
           }
          ],
          "histogram2dcontour": [
           {
            "colorbar": {
             "outlinewidth": 0,
             "ticks": ""
            },
            "colorscale": [
             [
              0,
              "#0d0887"
             ],
             [
              0.1111111111111111,
              "#46039f"
             ],
             [
              0.2222222222222222,
              "#7201a8"
             ],
             [
              0.3333333333333333,
              "#9c179e"
             ],
             [
              0.4444444444444444,
              "#bd3786"
             ],
             [
              0.5555555555555556,
              "#d8576b"
             ],
             [
              0.6666666666666666,
              "#ed7953"
             ],
             [
              0.7777777777777778,
              "#fb9f3a"
             ],
             [
              0.8888888888888888,
              "#fdca26"
             ],
             [
              1,
              "#f0f921"
             ]
            ],
            "type": "histogram2dcontour"
           }
          ],
          "mesh3d": [
           {
            "colorbar": {
             "outlinewidth": 0,
             "ticks": ""
            },
            "type": "mesh3d"
           }
          ],
          "parcoords": [
           {
            "line": {
             "colorbar": {
              "outlinewidth": 0,
              "ticks": ""
             }
            },
            "type": "parcoords"
           }
          ],
          "pie": [
           {
            "automargin": true,
            "type": "pie"
           }
          ],
          "scatter": [
           {
            "fillpattern": {
             "fillmode": "overlay",
             "size": 10,
             "solidity": 0.2
            },
            "type": "scatter"
           }
          ],
          "scatter3d": [
           {
            "line": {
             "colorbar": {
              "outlinewidth": 0,
              "ticks": ""
             }
            },
            "marker": {
             "colorbar": {
              "outlinewidth": 0,
              "ticks": ""
             }
            },
            "type": "scatter3d"
           }
          ],
          "scattercarpet": [
           {
            "marker": {
             "colorbar": {
              "outlinewidth": 0,
              "ticks": ""
             }
            },
            "type": "scattercarpet"
           }
          ],
          "scattergeo": [
           {
            "marker": {
             "colorbar": {
              "outlinewidth": 0,
              "ticks": ""
             }
            },
            "type": "scattergeo"
           }
          ],
          "scattergl": [
           {
            "marker": {
             "colorbar": {
              "outlinewidth": 0,
              "ticks": ""
             }
            },
            "type": "scattergl"
           }
          ],
          "scattermapbox": [
           {
            "marker": {
             "colorbar": {
              "outlinewidth": 0,
              "ticks": ""
             }
            },
            "type": "scattermapbox"
           }
          ],
          "scatterpolar": [
           {
            "marker": {
             "colorbar": {
              "outlinewidth": 0,
              "ticks": ""
             }
            },
            "type": "scatterpolar"
           }
          ],
          "scatterpolargl": [
           {
            "marker": {
             "colorbar": {
              "outlinewidth": 0,
              "ticks": ""
             }
            },
            "type": "scatterpolargl"
           }
          ],
          "scatterternary": [
           {
            "marker": {
             "colorbar": {
              "outlinewidth": 0,
              "ticks": ""
             }
            },
            "type": "scatterternary"
           }
          ],
          "surface": [
           {
            "colorbar": {
             "outlinewidth": 0,
             "ticks": ""
            },
            "colorscale": [
             [
              0,
              "#0d0887"
             ],
             [
              0.1111111111111111,
              "#46039f"
             ],
             [
              0.2222222222222222,
              "#7201a8"
             ],
             [
              0.3333333333333333,
              "#9c179e"
             ],
             [
              0.4444444444444444,
              "#bd3786"
             ],
             [
              0.5555555555555556,
              "#d8576b"
             ],
             [
              0.6666666666666666,
              "#ed7953"
             ],
             [
              0.7777777777777778,
              "#fb9f3a"
             ],
             [
              0.8888888888888888,
              "#fdca26"
             ],
             [
              1,
              "#f0f921"
             ]
            ],
            "type": "surface"
           }
          ],
          "table": [
           {
            "cells": {
             "fill": {
              "color": "#EBF0F8"
             },
             "line": {
              "color": "white"
             }
            },
            "header": {
             "fill": {
              "color": "#C8D4E3"
             },
             "line": {
              "color": "white"
             }
            },
            "type": "table"
           }
          ]
         },
         "layout": {
          "annotationdefaults": {
           "arrowcolor": "#2a3f5f",
           "arrowhead": 0,
           "arrowwidth": 1
          },
          "autotypenumbers": "strict",
          "coloraxis": {
           "colorbar": {
            "outlinewidth": 0,
            "ticks": ""
           }
          },
          "colorscale": {
           "diverging": [
            [
             0,
             "#8e0152"
            ],
            [
             0.1,
             "#c51b7d"
            ],
            [
             0.2,
             "#de77ae"
            ],
            [
             0.3,
             "#f1b6da"
            ],
            [
             0.4,
             "#fde0ef"
            ],
            [
             0.5,
             "#f7f7f7"
            ],
            [
             0.6,
             "#e6f5d0"
            ],
            [
             0.7,
             "#b8e186"
            ],
            [
             0.8,
             "#7fbc41"
            ],
            [
             0.9,
             "#4d9221"
            ],
            [
             1,
             "#276419"
            ]
           ],
           "sequential": [
            [
             0,
             "#0d0887"
            ],
            [
             0.1111111111111111,
             "#46039f"
            ],
            [
             0.2222222222222222,
             "#7201a8"
            ],
            [
             0.3333333333333333,
             "#9c179e"
            ],
            [
             0.4444444444444444,
             "#bd3786"
            ],
            [
             0.5555555555555556,
             "#d8576b"
            ],
            [
             0.6666666666666666,
             "#ed7953"
            ],
            [
             0.7777777777777778,
             "#fb9f3a"
            ],
            [
             0.8888888888888888,
             "#fdca26"
            ],
            [
             1,
             "#f0f921"
            ]
           ],
           "sequentialminus": [
            [
             0,
             "#0d0887"
            ],
            [
             0.1111111111111111,
             "#46039f"
            ],
            [
             0.2222222222222222,
             "#7201a8"
            ],
            [
             0.3333333333333333,
             "#9c179e"
            ],
            [
             0.4444444444444444,
             "#bd3786"
            ],
            [
             0.5555555555555556,
             "#d8576b"
            ],
            [
             0.6666666666666666,
             "#ed7953"
            ],
            [
             0.7777777777777778,
             "#fb9f3a"
            ],
            [
             0.8888888888888888,
             "#fdca26"
            ],
            [
             1,
             "#f0f921"
            ]
           ]
          },
          "colorway": [
           "#636efa",
           "#EF553B",
           "#00cc96",
           "#ab63fa",
           "#FFA15A",
           "#19d3f3",
           "#FF6692",
           "#B6E880",
           "#FF97FF",
           "#FECB52"
          ],
          "font": {
           "color": "#2a3f5f"
          },
          "geo": {
           "bgcolor": "white",
           "lakecolor": "white",
           "landcolor": "#E5ECF6",
           "showlakes": true,
           "showland": true,
           "subunitcolor": "white"
          },
          "hoverlabel": {
           "align": "left"
          },
          "hovermode": "closest",
          "mapbox": {
           "style": "light"
          },
          "paper_bgcolor": "white",
          "plot_bgcolor": "#E5ECF6",
          "polar": {
           "angularaxis": {
            "gridcolor": "white",
            "linecolor": "white",
            "ticks": ""
           },
           "bgcolor": "#E5ECF6",
           "radialaxis": {
            "gridcolor": "white",
            "linecolor": "white",
            "ticks": ""
           }
          },
          "scene": {
           "xaxis": {
            "backgroundcolor": "#E5ECF6",
            "gridcolor": "white",
            "gridwidth": 2,
            "linecolor": "white",
            "showbackground": true,
            "ticks": "",
            "zerolinecolor": "white"
           },
           "yaxis": {
            "backgroundcolor": "#E5ECF6",
            "gridcolor": "white",
            "gridwidth": 2,
            "linecolor": "white",
            "showbackground": true,
            "ticks": "",
            "zerolinecolor": "white"
           },
           "zaxis": {
            "backgroundcolor": "#E5ECF6",
            "gridcolor": "white",
            "gridwidth": 2,
            "linecolor": "white",
            "showbackground": true,
            "ticks": "",
            "zerolinecolor": "white"
           }
          },
          "shapedefaults": {
           "line": {
            "color": "#2a3f5f"
           }
          },
          "ternary": {
           "aaxis": {
            "gridcolor": "white",
            "linecolor": "white",
            "ticks": ""
           },
           "baxis": {
            "gridcolor": "white",
            "linecolor": "white",
            "ticks": ""
           },
           "bgcolor": "#E5ECF6",
           "caxis": {
            "gridcolor": "white",
            "linecolor": "white",
            "ticks": ""
           }
          },
          "title": {
           "x": 0.05
          },
          "xaxis": {
           "automargin": true,
           "gridcolor": "white",
           "linecolor": "white",
           "ticks": "",
           "title": {
            "standoff": 15
           },
           "zerolinecolor": "white",
           "zerolinewidth": 2
          },
          "yaxis": {
           "automargin": true,
           "gridcolor": "white",
           "linecolor": "white",
           "ticks": "",
           "title": {
            "standoff": 15
           },
           "zerolinecolor": "white",
           "zerolinewidth": 2
          }
         }
        },
        "xaxis": {
         "anchor": "y",
         "autorange": true,
         "domain": [
          0,
          1
         ],
         "range": [
          0.5,
          1.5
         ],
         "title": {
          "text": "UniqueFileCount"
         },
         "type": "linear"
        },
        "yaxis": {
         "anchor": "x",
         "autorange": true,
         "domain": [
          0,
          1
         ],
         "range": [
          0,
          421.0526315789474
         ],
         "title": {
          "text": "count"
         }
        }
       }
      },
      "text/html": [
       "<div>                            <div id=\"daf37059-fb0b-4e3d-a2d7-0769a6776919\" class=\"plotly-graph-div\" style=\"height:525px; width:100%;\"></div>            <script type=\"text/javascript\">                require([\"plotly\"], function(Plotly) {                    window.PLOTLYENV=window.PLOTLYENV || {};                                    if (document.getElementById(\"daf37059-fb0b-4e3d-a2d7-0769a6776919\")) {                    Plotly.newPlot(                        \"daf37059-fb0b-4e3d-a2d7-0769a6776919\",                        [{\"alignmentgroup\":\"True\",\"bingroup\":\"x\",\"hovertemplate\":\"UniqueFileCount=%{x}\\u003cbr\\u003ecount=%{y}\\u003cextra\\u003e\\u003c\\u002fextra\\u003e\",\"legendgroup\":\"\",\"marker\":{\"color\":\"#636efa\",\"pattern\":{\"shape\":\"\"}},\"name\":\"\",\"offsetgroup\":\"\",\"orientation\":\"v\",\"showlegend\":false,\"x\":[1,1,1,1,1,1,1,1,1,1,1,1,1,1,1,1,1,1,1,1,1,1,1,1,1,1,1,1,1,1,1,1,1,1,1,1,1,1,1,1,1,1,1,1,1,1,1,1,1,1,1,1,1,1,1,1,1,1,1,1,1,1,1,1,1,1,1,1,1,1,1,1,1,1,1,1,1,1,1,1,1,1,1,1,1,1,1,1,1,1,1,1,1,1,1,1,1,1,1,1,1,1,1,1,1,1,1,1,1,1,1,1,1,1,1,1,1,1,1,1,1,1,1,1,1,1,1,1,1,1,1,1,1,1,1,1,1,1,1,1,1,1,1,1,1,1,1,1,1,1,1,1,1,1,1,1,1,1,1,1,1,1,1,1,1,1,1,1,1,1,1,1,1,1,1,1,1,1,1,1,1,1,1,1,1,1,1,1,1,1,1,1,1,1,1,1,1,1,1,1,1,1,1,1,1,1,1,1,1,1,1,1,1,1,1,1,1,1,1,1,1,1,1,1,1,1,1,1,1,1,1,1,1,1,1,1,1,1,1,1,1,1,1,1,1,1,1,1,1,1,1,1,1,1,1,1,1,1,1,1,1,1,1,1,1,1,1,1,1,1,1,1,1,1,1,1,1,1,1,1,1,1,1,1,1,1,1,1,1,1,1,1,1,1,1,1,1,1,1,1,1,1,1,1,1,1,1,1,1,1,1,1,1,1,1,1,1,1,1,1,1,1,1,1,1,1,1,1,1,1,1,1,1,1,1,1,1,1,1,1,1,1,1,1,1,1,1,1,1,1,1,1,1,1,1,1,1,1,1,1,1,1,1,1,1,1,1,1,1,1,1,1,1,1,1,1,1,1,1,1,1,1,1,1,1,1,1,1,1,1,1,1,1,1,1,1,1,1,1,1],\"xaxis\":\"x\",\"yaxis\":\"y\",\"type\":\"histogram\"}],                        {\"template\":{\"data\":{\"histogram2dcontour\":[{\"type\":\"histogram2dcontour\",\"colorbar\":{\"outlinewidth\":0,\"ticks\":\"\"},\"colorscale\":[[0.0,\"#0d0887\"],[0.1111111111111111,\"#46039f\"],[0.2222222222222222,\"#7201a8\"],[0.3333333333333333,\"#9c179e\"],[0.4444444444444444,\"#bd3786\"],[0.5555555555555556,\"#d8576b\"],[0.6666666666666666,\"#ed7953\"],[0.7777777777777778,\"#fb9f3a\"],[0.8888888888888888,\"#fdca26\"],[1.0,\"#f0f921\"]]}],\"choropleth\":[{\"type\":\"choropleth\",\"colorbar\":{\"outlinewidth\":0,\"ticks\":\"\"}}],\"histogram2d\":[{\"type\":\"histogram2d\",\"colorbar\":{\"outlinewidth\":0,\"ticks\":\"\"},\"colorscale\":[[0.0,\"#0d0887\"],[0.1111111111111111,\"#46039f\"],[0.2222222222222222,\"#7201a8\"],[0.3333333333333333,\"#9c179e\"],[0.4444444444444444,\"#bd3786\"],[0.5555555555555556,\"#d8576b\"],[0.6666666666666666,\"#ed7953\"],[0.7777777777777778,\"#fb9f3a\"],[0.8888888888888888,\"#fdca26\"],[1.0,\"#f0f921\"]]}],\"heatmap\":[{\"type\":\"heatmap\",\"colorbar\":{\"outlinewidth\":0,\"ticks\":\"\"},\"colorscale\":[[0.0,\"#0d0887\"],[0.1111111111111111,\"#46039f\"],[0.2222222222222222,\"#7201a8\"],[0.3333333333333333,\"#9c179e\"],[0.4444444444444444,\"#bd3786\"],[0.5555555555555556,\"#d8576b\"],[0.6666666666666666,\"#ed7953\"],[0.7777777777777778,\"#fb9f3a\"],[0.8888888888888888,\"#fdca26\"],[1.0,\"#f0f921\"]]}],\"heatmapgl\":[{\"type\":\"heatmapgl\",\"colorbar\":{\"outlinewidth\":0,\"ticks\":\"\"},\"colorscale\":[[0.0,\"#0d0887\"],[0.1111111111111111,\"#46039f\"],[0.2222222222222222,\"#7201a8\"],[0.3333333333333333,\"#9c179e\"],[0.4444444444444444,\"#bd3786\"],[0.5555555555555556,\"#d8576b\"],[0.6666666666666666,\"#ed7953\"],[0.7777777777777778,\"#fb9f3a\"],[0.8888888888888888,\"#fdca26\"],[1.0,\"#f0f921\"]]}],\"contourcarpet\":[{\"type\":\"contourcarpet\",\"colorbar\":{\"outlinewidth\":0,\"ticks\":\"\"}}],\"contour\":[{\"type\":\"contour\",\"colorbar\":{\"outlinewidth\":0,\"ticks\":\"\"},\"colorscale\":[[0.0,\"#0d0887\"],[0.1111111111111111,\"#46039f\"],[0.2222222222222222,\"#7201a8\"],[0.3333333333333333,\"#9c179e\"],[0.4444444444444444,\"#bd3786\"],[0.5555555555555556,\"#d8576b\"],[0.6666666666666666,\"#ed7953\"],[0.7777777777777778,\"#fb9f3a\"],[0.8888888888888888,\"#fdca26\"],[1.0,\"#f0f921\"]]}],\"surface\":[{\"type\":\"surface\",\"colorbar\":{\"outlinewidth\":0,\"ticks\":\"\"},\"colorscale\":[[0.0,\"#0d0887\"],[0.1111111111111111,\"#46039f\"],[0.2222222222222222,\"#7201a8\"],[0.3333333333333333,\"#9c179e\"],[0.4444444444444444,\"#bd3786\"],[0.5555555555555556,\"#d8576b\"],[0.6666666666666666,\"#ed7953\"],[0.7777777777777778,\"#fb9f3a\"],[0.8888888888888888,\"#fdca26\"],[1.0,\"#f0f921\"]]}],\"mesh3d\":[{\"type\":\"mesh3d\",\"colorbar\":{\"outlinewidth\":0,\"ticks\":\"\"}}],\"scatter\":[{\"fillpattern\":{\"fillmode\":\"overlay\",\"size\":10,\"solidity\":0.2},\"type\":\"scatter\"}],\"parcoords\":[{\"type\":\"parcoords\",\"line\":{\"colorbar\":{\"outlinewidth\":0,\"ticks\":\"\"}}}],\"scatterpolargl\":[{\"type\":\"scatterpolargl\",\"marker\":{\"colorbar\":{\"outlinewidth\":0,\"ticks\":\"\"}}}],\"bar\":[{\"error_x\":{\"color\":\"#2a3f5f\"},\"error_y\":{\"color\":\"#2a3f5f\"},\"marker\":{\"line\":{\"color\":\"#E5ECF6\",\"width\":0.5},\"pattern\":{\"fillmode\":\"overlay\",\"size\":10,\"solidity\":0.2}},\"type\":\"bar\"}],\"scattergeo\":[{\"type\":\"scattergeo\",\"marker\":{\"colorbar\":{\"outlinewidth\":0,\"ticks\":\"\"}}}],\"scatterpolar\":[{\"type\":\"scatterpolar\",\"marker\":{\"colorbar\":{\"outlinewidth\":0,\"ticks\":\"\"}}}],\"histogram\":[{\"marker\":{\"pattern\":{\"fillmode\":\"overlay\",\"size\":10,\"solidity\":0.2}},\"type\":\"histogram\"}],\"scattergl\":[{\"type\":\"scattergl\",\"marker\":{\"colorbar\":{\"outlinewidth\":0,\"ticks\":\"\"}}}],\"scatter3d\":[{\"type\":\"scatter3d\",\"line\":{\"colorbar\":{\"outlinewidth\":0,\"ticks\":\"\"}},\"marker\":{\"colorbar\":{\"outlinewidth\":0,\"ticks\":\"\"}}}],\"scattermapbox\":[{\"type\":\"scattermapbox\",\"marker\":{\"colorbar\":{\"outlinewidth\":0,\"ticks\":\"\"}}}],\"scatterternary\":[{\"type\":\"scatterternary\",\"marker\":{\"colorbar\":{\"outlinewidth\":0,\"ticks\":\"\"}}}],\"scattercarpet\":[{\"type\":\"scattercarpet\",\"marker\":{\"colorbar\":{\"outlinewidth\":0,\"ticks\":\"\"}}}],\"carpet\":[{\"aaxis\":{\"endlinecolor\":\"#2a3f5f\",\"gridcolor\":\"white\",\"linecolor\":\"white\",\"minorgridcolor\":\"white\",\"startlinecolor\":\"#2a3f5f\"},\"baxis\":{\"endlinecolor\":\"#2a3f5f\",\"gridcolor\":\"white\",\"linecolor\":\"white\",\"minorgridcolor\":\"white\",\"startlinecolor\":\"#2a3f5f\"},\"type\":\"carpet\"}],\"table\":[{\"cells\":{\"fill\":{\"color\":\"#EBF0F8\"},\"line\":{\"color\":\"white\"}},\"header\":{\"fill\":{\"color\":\"#C8D4E3\"},\"line\":{\"color\":\"white\"}},\"type\":\"table\"}],\"barpolar\":[{\"marker\":{\"line\":{\"color\":\"#E5ECF6\",\"width\":0.5},\"pattern\":{\"fillmode\":\"overlay\",\"size\":10,\"solidity\":0.2}},\"type\":\"barpolar\"}],\"pie\":[{\"automargin\":true,\"type\":\"pie\"}]},\"layout\":{\"autotypenumbers\":\"strict\",\"colorway\":[\"#636efa\",\"#EF553B\",\"#00cc96\",\"#ab63fa\",\"#FFA15A\",\"#19d3f3\",\"#FF6692\",\"#B6E880\",\"#FF97FF\",\"#FECB52\"],\"font\":{\"color\":\"#2a3f5f\"},\"hovermode\":\"closest\",\"hoverlabel\":{\"align\":\"left\"},\"paper_bgcolor\":\"white\",\"plot_bgcolor\":\"#E5ECF6\",\"polar\":{\"bgcolor\":\"#E5ECF6\",\"angularaxis\":{\"gridcolor\":\"white\",\"linecolor\":\"white\",\"ticks\":\"\"},\"radialaxis\":{\"gridcolor\":\"white\",\"linecolor\":\"white\",\"ticks\":\"\"}},\"ternary\":{\"bgcolor\":\"#E5ECF6\",\"aaxis\":{\"gridcolor\":\"white\",\"linecolor\":\"white\",\"ticks\":\"\"},\"baxis\":{\"gridcolor\":\"white\",\"linecolor\":\"white\",\"ticks\":\"\"},\"caxis\":{\"gridcolor\":\"white\",\"linecolor\":\"white\",\"ticks\":\"\"}},\"coloraxis\":{\"colorbar\":{\"outlinewidth\":0,\"ticks\":\"\"}},\"colorscale\":{\"sequential\":[[0.0,\"#0d0887\"],[0.1111111111111111,\"#46039f\"],[0.2222222222222222,\"#7201a8\"],[0.3333333333333333,\"#9c179e\"],[0.4444444444444444,\"#bd3786\"],[0.5555555555555556,\"#d8576b\"],[0.6666666666666666,\"#ed7953\"],[0.7777777777777778,\"#fb9f3a\"],[0.8888888888888888,\"#fdca26\"],[1.0,\"#f0f921\"]],\"sequentialminus\":[[0.0,\"#0d0887\"],[0.1111111111111111,\"#46039f\"],[0.2222222222222222,\"#7201a8\"],[0.3333333333333333,\"#9c179e\"],[0.4444444444444444,\"#bd3786\"],[0.5555555555555556,\"#d8576b\"],[0.6666666666666666,\"#ed7953\"],[0.7777777777777778,\"#fb9f3a\"],[0.8888888888888888,\"#fdca26\"],[1.0,\"#f0f921\"]],\"diverging\":[[0,\"#8e0152\"],[0.1,\"#c51b7d\"],[0.2,\"#de77ae\"],[0.3,\"#f1b6da\"],[0.4,\"#fde0ef\"],[0.5,\"#f7f7f7\"],[0.6,\"#e6f5d0\"],[0.7,\"#b8e186\"],[0.8,\"#7fbc41\"],[0.9,\"#4d9221\"],[1,\"#276419\"]]},\"xaxis\":{\"gridcolor\":\"white\",\"linecolor\":\"white\",\"ticks\":\"\",\"title\":{\"standoff\":15},\"zerolinecolor\":\"white\",\"automargin\":true,\"zerolinewidth\":2},\"yaxis\":{\"gridcolor\":\"white\",\"linecolor\":\"white\",\"ticks\":\"\",\"title\":{\"standoff\":15},\"zerolinecolor\":\"white\",\"automargin\":true,\"zerolinewidth\":2},\"scene\":{\"xaxis\":{\"backgroundcolor\":\"#E5ECF6\",\"gridcolor\":\"white\",\"linecolor\":\"white\",\"showbackground\":true,\"ticks\":\"\",\"zerolinecolor\":\"white\",\"gridwidth\":2},\"yaxis\":{\"backgroundcolor\":\"#E5ECF6\",\"gridcolor\":\"white\",\"linecolor\":\"white\",\"showbackground\":true,\"ticks\":\"\",\"zerolinecolor\":\"white\",\"gridwidth\":2},\"zaxis\":{\"backgroundcolor\":\"#E5ECF6\",\"gridcolor\":\"white\",\"linecolor\":\"white\",\"showbackground\":true,\"ticks\":\"\",\"zerolinecolor\":\"white\",\"gridwidth\":2}},\"shapedefaults\":{\"line\":{\"color\":\"#2a3f5f\"}},\"annotationdefaults\":{\"arrowcolor\":\"#2a3f5f\",\"arrowhead\":0,\"arrowwidth\":1},\"geo\":{\"bgcolor\":\"white\",\"landcolor\":\"#E5ECF6\",\"subunitcolor\":\"white\",\"showland\":true,\"showlakes\":true,\"lakecolor\":\"white\"},\"title\":{\"x\":0.05},\"mapbox\":{\"style\":\"light\"}}},\"xaxis\":{\"anchor\":\"y\",\"domain\":[0.0,1.0],\"title\":{\"text\":\"UniqueFileCount\"}},\"yaxis\":{\"anchor\":\"x\",\"domain\":[0.0,1.0],\"title\":{\"text\":\"count\"}},\"legend\":{\"tracegroupgap\":0},\"margin\":{\"t\":60},\"barmode\":\"relative\"},                        {\"responsive\": true}                    ).then(function(){\n",
       "                            \n",
       "var gd = document.getElementById('daf37059-fb0b-4e3d-a2d7-0769a6776919');\n",
       "var x = new MutationObserver(function (mutations, observer) {{\n",
       "        var display = window.getComputedStyle(gd).display;\n",
       "        if (!display || display === 'none') {{\n",
       "            console.log([gd, 'removed!']);\n",
       "            Plotly.purge(gd);\n",
       "            observer.disconnect();\n",
       "        }}\n",
       "}});\n",
       "\n",
       "// Listen for the removal of the full notebook cells\n",
       "var notebookContainer = gd.closest('#notebook-container');\n",
       "if (notebookContainer) {{\n",
       "    x.observe(notebookContainer, {childList: true});\n",
       "}}\n",
       "\n",
       "// Listen for the clearing of the current output cell\n",
       "var outputEl = gd.closest('.output');\n",
       "if (outputEl) {{\n",
       "    x.observe(outputEl, {childList: true});\n",
       "}}\n",
       "\n",
       "                        })                };                });            </script>        </div>"
      ]
     },
     "metadata": {},
     "output_type": "display_data"
    }
   ],
   "source": [
    "fig = px.histogram(unique_file_counts_per_Participant_withRNA, x=\"UniqueFileCount\")\n",
    "fig.show()"
   ]
  },
  {
   "cell_type": "code",
   "execution_count": 330,
   "id": "93850098-e52a-4a58-b355-91feab578173",
   "metadata": {},
   "outputs": [
    {
     "data": {
      "application/vnd.plotly.v1+json": {
       "config": {
        "plotlyServerURL": "https://plot.ly"
       },
       "data": [
        {
         "alignmentgroup": "True",
         "bingroup": "x",
         "hovertemplate": "UniqueFileCount=%{x}<br>count=%{y}<extra></extra>",
         "legendgroup": "",
         "marker": {
          "color": "#636efa",
          "pattern": {
           "shape": ""
          }
         },
         "name": "",
         "offsetgroup": "",
         "orientation": "v",
         "showlegend": false,
         "type": "histogram",
         "x": [
          3,
          9,
          3,
          6,
          6,
          6,
          3,
          6,
          6,
          6,
          6,
          6,
          6,
          9,
          3,
          6,
          6,
          6,
          6,
          6,
          6,
          6,
          6,
          6,
          6,
          6,
          6,
          3,
          6,
          9,
          6,
          6,
          6,
          3,
          3,
          3,
          3,
          3,
          3,
          3,
          3,
          3,
          9,
          3,
          3,
          3,
          3,
          3,
          3,
          6,
          3,
          6,
          3,
          3,
          3,
          3,
          6,
          6,
          3,
          6,
          3,
          3,
          3,
          3,
          3,
          3,
          3,
          3,
          6,
          3,
          3,
          6,
          6,
          3,
          6,
          9,
          6,
          3,
          6,
          3,
          3,
          9,
          3,
          3,
          6,
          6,
          6,
          3,
          6,
          6,
          6,
          6,
          3,
          3,
          3,
          3,
          6,
          3,
          3,
          6,
          3,
          3,
          3,
          6,
          3,
          3,
          3,
          3,
          3,
          3,
          3,
          3,
          6,
          6,
          6,
          3,
          3,
          6,
          3,
          6,
          6,
          6,
          6,
          6,
          6,
          6,
          3,
          6,
          3,
          6,
          3,
          6,
          3,
          3,
          6,
          6,
          3,
          3,
          3,
          6,
          3,
          3,
          6,
          3,
          3,
          3,
          6,
          6,
          3,
          3,
          3,
          3,
          9,
          6,
          6,
          3,
          3,
          3,
          3,
          3,
          6,
          6,
          3,
          3,
          6,
          3,
          6,
          3,
          3,
          3,
          3,
          3,
          3,
          3,
          3,
          6,
          6,
          3,
          6,
          3,
          6,
          3,
          6,
          3,
          6,
          6,
          3,
          6,
          3,
          3,
          3,
          3,
          6,
          6,
          3,
          6,
          3,
          3,
          3,
          3,
          9,
          6,
          3,
          3,
          3,
          3,
          3,
          3,
          3,
          3,
          3,
          3,
          3,
          6,
          6,
          3,
          6,
          6,
          3,
          6,
          3,
          6,
          3,
          6,
          3,
          6,
          3,
          3,
          6,
          3,
          3,
          3,
          3,
          3,
          3,
          3,
          6,
          6,
          9,
          3,
          6,
          9,
          6,
          3,
          3,
          3,
          6,
          3,
          6,
          6,
          3,
          3,
          3,
          6,
          6,
          3,
          3,
          3,
          3,
          3,
          3,
          3,
          3,
          3,
          6,
          3,
          6,
          6,
          6,
          3,
          3,
          3,
          3,
          6,
          6,
          6,
          6,
          3,
          3,
          6,
          3,
          3,
          3,
          9,
          3,
          3,
          3,
          3,
          3,
          6,
          3,
          6,
          3,
          6,
          6,
          6,
          6,
          6,
          6,
          3,
          6,
          6,
          9,
          6,
          9,
          3,
          6,
          3,
          3,
          3,
          3,
          3,
          3,
          3,
          3,
          3,
          3,
          3,
          3,
          3,
          6,
          3,
          3,
          3,
          3,
          3,
          3,
          6,
          3,
          6,
          3,
          6,
          3,
          6,
          6,
          6,
          6,
          6,
          6,
          3,
          6,
          3,
          3,
          9,
          6,
          3,
          6,
          6,
          9,
          3,
          3,
          3,
          6,
          3,
          3,
          6,
          3,
          6,
          9,
          6,
          3,
          6,
          6,
          3,
          3,
          6,
          3,
          3,
          6,
          6,
          3,
          3,
          6,
          3,
          3,
          3,
          3,
          6,
          3,
          3,
          3,
          3,
          3,
          6,
          6,
          3,
          6,
          6,
          6,
          3,
          3,
          9,
          6,
          3,
          6,
          3,
          3,
          3,
          3,
          9,
          3,
          3,
          3,
          6,
          6,
          9,
          3,
          9,
          3,
          6,
          3,
          3,
          3,
          3,
          6,
          3,
          6,
          3,
          3,
          3,
          3,
          6,
          6,
          9,
          3,
          3,
          6,
          3,
          6,
          6,
          6,
          6,
          3,
          6,
          6,
          3,
          3,
          3,
          3,
          6,
          6,
          3,
          3,
          6,
          6,
          6,
          6,
          3,
          3,
          6,
          3,
          3,
          3,
          3,
          3,
          6,
          6,
          6,
          3,
          3,
          3,
          3,
          3,
          3,
          6,
          6,
          3,
          3,
          6,
          9,
          3,
          6,
          6,
          3,
          3,
          3,
          3,
          3,
          3,
          3,
          3,
          3,
          3,
          3,
          3,
          3,
          3,
          9,
          6,
          6,
          3,
          9,
          3,
          3,
          3,
          3,
          3,
          6,
          3,
          3,
          3,
          6,
          3,
          3,
          3,
          3,
          3,
          3,
          6,
          6,
          6,
          3,
          3,
          6,
          3,
          6,
          3,
          3,
          3,
          3,
          3,
          3,
          3,
          3,
          6,
          3,
          3,
          3,
          6,
          3,
          6,
          6,
          3,
          3,
          3,
          3,
          3,
          3,
          3,
          6,
          3,
          3,
          3,
          9,
          3,
          3,
          6,
          3,
          3,
          6,
          3,
          3,
          3,
          3,
          3,
          3,
          3,
          3,
          6,
          6,
          3,
          3,
          6,
          3,
          3,
          3,
          6,
          3,
          6,
          6,
          6,
          3,
          6,
          3,
          6,
          3,
          3,
          3,
          3,
          3,
          3,
          6,
          3,
          9,
          3,
          6,
          6,
          3,
          3,
          6,
          3,
          3,
          3,
          3,
          3,
          6,
          3,
          3,
          6,
          6,
          3,
          3,
          9,
          6,
          3,
          6,
          3,
          3,
          3,
          3,
          3,
          6,
          3,
          6,
          9,
          6,
          6,
          3,
          6,
          3,
          3,
          3,
          3,
          6,
          6,
          6,
          3,
          6,
          6,
          6,
          3,
          3,
          3,
          3,
          3,
          3,
          6,
          6,
          6,
          3,
          6,
          3,
          3,
          3,
          6,
          3,
          3,
          9,
          3,
          3,
          6,
          3,
          3,
          3,
          3,
          6,
          6,
          6,
          3,
          6,
          6,
          6,
          3,
          6,
          3,
          6,
          6,
          6,
          6,
          6,
          3,
          3,
          3,
          3,
          6,
          3,
          6,
          3,
          6,
          6,
          3,
          3,
          6,
          3,
          3,
          6,
          6,
          3,
          3,
          3,
          3,
          3,
          6,
          6,
          6,
          3,
          6,
          6,
          3,
          6,
          3,
          3,
          3,
          3,
          3,
          3,
          6,
          3,
          6,
          6,
          3,
          3,
          6,
          3,
          3,
          3,
          6,
          6,
          3,
          6,
          3,
          6,
          6,
          9,
          9,
          6,
          6,
          6,
          6,
          6,
          3,
          3,
          3,
          3,
          9,
          3,
          3,
          3,
          6,
          3,
          3,
          6,
          3,
          9,
          3,
          3,
          6,
          3,
          3,
          3,
          6,
          6,
          3,
          3,
          6,
          6,
          3,
          3,
          3,
          3,
          3,
          6,
          9,
          3,
          6,
          6,
          6,
          6,
          6,
          6,
          3,
          3,
          3,
          3,
          6,
          3,
          3,
          3,
          3,
          3,
          6,
          6,
          3,
          3,
          3,
          6,
          3,
          6,
          3,
          3,
          3,
          3,
          9,
          3,
          3,
          6,
          6,
          3,
          3,
          3,
          3,
          6,
          6,
          3,
          3,
          3,
          3,
          3,
          3,
          3,
          3,
          3,
          3,
          6,
          6,
          3,
          6,
          3,
          3,
          6,
          9,
          3,
          3,
          3,
          3,
          3,
          3,
          3,
          6,
          3,
          3,
          6,
          9,
          3,
          3
         ],
         "xaxis": "x",
         "yaxis": "y"
        }
       ],
       "layout": {
        "autosize": true,
        "barmode": "relative",
        "legend": {
         "tracegroupgap": 0
        },
        "margin": {
         "t": 60
        },
        "template": {
         "data": {
          "bar": [
           {
            "error_x": {
             "color": "#2a3f5f"
            },
            "error_y": {
             "color": "#2a3f5f"
            },
            "marker": {
             "line": {
              "color": "#E5ECF6",
              "width": 0.5
             },
             "pattern": {
              "fillmode": "overlay",
              "size": 10,
              "solidity": 0.2
             }
            },
            "type": "bar"
           }
          ],
          "barpolar": [
           {
            "marker": {
             "line": {
              "color": "#E5ECF6",
              "width": 0.5
             },
             "pattern": {
              "fillmode": "overlay",
              "size": 10,
              "solidity": 0.2
             }
            },
            "type": "barpolar"
           }
          ],
          "carpet": [
           {
            "aaxis": {
             "endlinecolor": "#2a3f5f",
             "gridcolor": "white",
             "linecolor": "white",
             "minorgridcolor": "white",
             "startlinecolor": "#2a3f5f"
            },
            "baxis": {
             "endlinecolor": "#2a3f5f",
             "gridcolor": "white",
             "linecolor": "white",
             "minorgridcolor": "white",
             "startlinecolor": "#2a3f5f"
            },
            "type": "carpet"
           }
          ],
          "choropleth": [
           {
            "colorbar": {
             "outlinewidth": 0,
             "ticks": ""
            },
            "type": "choropleth"
           }
          ],
          "contour": [
           {
            "colorbar": {
             "outlinewidth": 0,
             "ticks": ""
            },
            "colorscale": [
             [
              0,
              "#0d0887"
             ],
             [
              0.1111111111111111,
              "#46039f"
             ],
             [
              0.2222222222222222,
              "#7201a8"
             ],
             [
              0.3333333333333333,
              "#9c179e"
             ],
             [
              0.4444444444444444,
              "#bd3786"
             ],
             [
              0.5555555555555556,
              "#d8576b"
             ],
             [
              0.6666666666666666,
              "#ed7953"
             ],
             [
              0.7777777777777778,
              "#fb9f3a"
             ],
             [
              0.8888888888888888,
              "#fdca26"
             ],
             [
              1,
              "#f0f921"
             ]
            ],
            "type": "contour"
           }
          ],
          "contourcarpet": [
           {
            "colorbar": {
             "outlinewidth": 0,
             "ticks": ""
            },
            "type": "contourcarpet"
           }
          ],
          "heatmap": [
           {
            "colorbar": {
             "outlinewidth": 0,
             "ticks": ""
            },
            "colorscale": [
             [
              0,
              "#0d0887"
             ],
             [
              0.1111111111111111,
              "#46039f"
             ],
             [
              0.2222222222222222,
              "#7201a8"
             ],
             [
              0.3333333333333333,
              "#9c179e"
             ],
             [
              0.4444444444444444,
              "#bd3786"
             ],
             [
              0.5555555555555556,
              "#d8576b"
             ],
             [
              0.6666666666666666,
              "#ed7953"
             ],
             [
              0.7777777777777778,
              "#fb9f3a"
             ],
             [
              0.8888888888888888,
              "#fdca26"
             ],
             [
              1,
              "#f0f921"
             ]
            ],
            "type": "heatmap"
           }
          ],
          "heatmapgl": [
           {
            "colorbar": {
             "outlinewidth": 0,
             "ticks": ""
            },
            "colorscale": [
             [
              0,
              "#0d0887"
             ],
             [
              0.1111111111111111,
              "#46039f"
             ],
             [
              0.2222222222222222,
              "#7201a8"
             ],
             [
              0.3333333333333333,
              "#9c179e"
             ],
             [
              0.4444444444444444,
              "#bd3786"
             ],
             [
              0.5555555555555556,
              "#d8576b"
             ],
             [
              0.6666666666666666,
              "#ed7953"
             ],
             [
              0.7777777777777778,
              "#fb9f3a"
             ],
             [
              0.8888888888888888,
              "#fdca26"
             ],
             [
              1,
              "#f0f921"
             ]
            ],
            "type": "heatmapgl"
           }
          ],
          "histogram": [
           {
            "marker": {
             "pattern": {
              "fillmode": "overlay",
              "size": 10,
              "solidity": 0.2
             }
            },
            "type": "histogram"
           }
          ],
          "histogram2d": [
           {
            "colorbar": {
             "outlinewidth": 0,
             "ticks": ""
            },
            "colorscale": [
             [
              0,
              "#0d0887"
             ],
             [
              0.1111111111111111,
              "#46039f"
             ],
             [
              0.2222222222222222,
              "#7201a8"
             ],
             [
              0.3333333333333333,
              "#9c179e"
             ],
             [
              0.4444444444444444,
              "#bd3786"
             ],
             [
              0.5555555555555556,
              "#d8576b"
             ],
             [
              0.6666666666666666,
              "#ed7953"
             ],
             [
              0.7777777777777778,
              "#fb9f3a"
             ],
             [
              0.8888888888888888,
              "#fdca26"
             ],
             [
              1,
              "#f0f921"
             ]
            ],
            "type": "histogram2d"
           }
          ],
          "histogram2dcontour": [
           {
            "colorbar": {
             "outlinewidth": 0,
             "ticks": ""
            },
            "colorscale": [
             [
              0,
              "#0d0887"
             ],
             [
              0.1111111111111111,
              "#46039f"
             ],
             [
              0.2222222222222222,
              "#7201a8"
             ],
             [
              0.3333333333333333,
              "#9c179e"
             ],
             [
              0.4444444444444444,
              "#bd3786"
             ],
             [
              0.5555555555555556,
              "#d8576b"
             ],
             [
              0.6666666666666666,
              "#ed7953"
             ],
             [
              0.7777777777777778,
              "#fb9f3a"
             ],
             [
              0.8888888888888888,
              "#fdca26"
             ],
             [
              1,
              "#f0f921"
             ]
            ],
            "type": "histogram2dcontour"
           }
          ],
          "mesh3d": [
           {
            "colorbar": {
             "outlinewidth": 0,
             "ticks": ""
            },
            "type": "mesh3d"
           }
          ],
          "parcoords": [
           {
            "line": {
             "colorbar": {
              "outlinewidth": 0,
              "ticks": ""
             }
            },
            "type": "parcoords"
           }
          ],
          "pie": [
           {
            "automargin": true,
            "type": "pie"
           }
          ],
          "scatter": [
           {
            "fillpattern": {
             "fillmode": "overlay",
             "size": 10,
             "solidity": 0.2
            },
            "type": "scatter"
           }
          ],
          "scatter3d": [
           {
            "line": {
             "colorbar": {
              "outlinewidth": 0,
              "ticks": ""
             }
            },
            "marker": {
             "colorbar": {
              "outlinewidth": 0,
              "ticks": ""
             }
            },
            "type": "scatter3d"
           }
          ],
          "scattercarpet": [
           {
            "marker": {
             "colorbar": {
              "outlinewidth": 0,
              "ticks": ""
             }
            },
            "type": "scattercarpet"
           }
          ],
          "scattergeo": [
           {
            "marker": {
             "colorbar": {
              "outlinewidth": 0,
              "ticks": ""
             }
            },
            "type": "scattergeo"
           }
          ],
          "scattergl": [
           {
            "marker": {
             "colorbar": {
              "outlinewidth": 0,
              "ticks": ""
             }
            },
            "type": "scattergl"
           }
          ],
          "scattermapbox": [
           {
            "marker": {
             "colorbar": {
              "outlinewidth": 0,
              "ticks": ""
             }
            },
            "type": "scattermapbox"
           }
          ],
          "scatterpolar": [
           {
            "marker": {
             "colorbar": {
              "outlinewidth": 0,
              "ticks": ""
             }
            },
            "type": "scatterpolar"
           }
          ],
          "scatterpolargl": [
           {
            "marker": {
             "colorbar": {
              "outlinewidth": 0,
              "ticks": ""
             }
            },
            "type": "scatterpolargl"
           }
          ],
          "scatterternary": [
           {
            "marker": {
             "colorbar": {
              "outlinewidth": 0,
              "ticks": ""
             }
            },
            "type": "scatterternary"
           }
          ],
          "surface": [
           {
            "colorbar": {
             "outlinewidth": 0,
             "ticks": ""
            },
            "colorscale": [
             [
              0,
              "#0d0887"
             ],
             [
              0.1111111111111111,
              "#46039f"
             ],
             [
              0.2222222222222222,
              "#7201a8"
             ],
             [
              0.3333333333333333,
              "#9c179e"
             ],
             [
              0.4444444444444444,
              "#bd3786"
             ],
             [
              0.5555555555555556,
              "#d8576b"
             ],
             [
              0.6666666666666666,
              "#ed7953"
             ],
             [
              0.7777777777777778,
              "#fb9f3a"
             ],
             [
              0.8888888888888888,
              "#fdca26"
             ],
             [
              1,
              "#f0f921"
             ]
            ],
            "type": "surface"
           }
          ],
          "table": [
           {
            "cells": {
             "fill": {
              "color": "#EBF0F8"
             },
             "line": {
              "color": "white"
             }
            },
            "header": {
             "fill": {
              "color": "#C8D4E3"
             },
             "line": {
              "color": "white"
             }
            },
            "type": "table"
           }
          ]
         },
         "layout": {
          "annotationdefaults": {
           "arrowcolor": "#2a3f5f",
           "arrowhead": 0,
           "arrowwidth": 1
          },
          "autotypenumbers": "strict",
          "coloraxis": {
           "colorbar": {
            "outlinewidth": 0,
            "ticks": ""
           }
          },
          "colorscale": {
           "diverging": [
            [
             0,
             "#8e0152"
            ],
            [
             0.1,
             "#c51b7d"
            ],
            [
             0.2,
             "#de77ae"
            ],
            [
             0.3,
             "#f1b6da"
            ],
            [
             0.4,
             "#fde0ef"
            ],
            [
             0.5,
             "#f7f7f7"
            ],
            [
             0.6,
             "#e6f5d0"
            ],
            [
             0.7,
             "#b8e186"
            ],
            [
             0.8,
             "#7fbc41"
            ],
            [
             0.9,
             "#4d9221"
            ],
            [
             1,
             "#276419"
            ]
           ],
           "sequential": [
            [
             0,
             "#0d0887"
            ],
            [
             0.1111111111111111,
             "#46039f"
            ],
            [
             0.2222222222222222,
             "#7201a8"
            ],
            [
             0.3333333333333333,
             "#9c179e"
            ],
            [
             0.4444444444444444,
             "#bd3786"
            ],
            [
             0.5555555555555556,
             "#d8576b"
            ],
            [
             0.6666666666666666,
             "#ed7953"
            ],
            [
             0.7777777777777778,
             "#fb9f3a"
            ],
            [
             0.8888888888888888,
             "#fdca26"
            ],
            [
             1,
             "#f0f921"
            ]
           ],
           "sequentialminus": [
            [
             0,
             "#0d0887"
            ],
            [
             0.1111111111111111,
             "#46039f"
            ],
            [
             0.2222222222222222,
             "#7201a8"
            ],
            [
             0.3333333333333333,
             "#9c179e"
            ],
            [
             0.4444444444444444,
             "#bd3786"
            ],
            [
             0.5555555555555556,
             "#d8576b"
            ],
            [
             0.6666666666666666,
             "#ed7953"
            ],
            [
             0.7777777777777778,
             "#fb9f3a"
            ],
            [
             0.8888888888888888,
             "#fdca26"
            ],
            [
             1,
             "#f0f921"
            ]
           ]
          },
          "colorway": [
           "#636efa",
           "#EF553B",
           "#00cc96",
           "#ab63fa",
           "#FFA15A",
           "#19d3f3",
           "#FF6692",
           "#B6E880",
           "#FF97FF",
           "#FECB52"
          ],
          "font": {
           "color": "#2a3f5f"
          },
          "geo": {
           "bgcolor": "white",
           "lakecolor": "white",
           "landcolor": "#E5ECF6",
           "showlakes": true,
           "showland": true,
           "subunitcolor": "white"
          },
          "hoverlabel": {
           "align": "left"
          },
          "hovermode": "closest",
          "mapbox": {
           "style": "light"
          },
          "paper_bgcolor": "white",
          "plot_bgcolor": "#E5ECF6",
          "polar": {
           "angularaxis": {
            "gridcolor": "white",
            "linecolor": "white",
            "ticks": ""
           },
           "bgcolor": "#E5ECF6",
           "radialaxis": {
            "gridcolor": "white",
            "linecolor": "white",
            "ticks": ""
           }
          },
          "scene": {
           "xaxis": {
            "backgroundcolor": "#E5ECF6",
            "gridcolor": "white",
            "gridwidth": 2,
            "linecolor": "white",
            "showbackground": true,
            "ticks": "",
            "zerolinecolor": "white"
           },
           "yaxis": {
            "backgroundcolor": "#E5ECF6",
            "gridcolor": "white",
            "gridwidth": 2,
            "linecolor": "white",
            "showbackground": true,
            "ticks": "",
            "zerolinecolor": "white"
           },
           "zaxis": {
            "backgroundcolor": "#E5ECF6",
            "gridcolor": "white",
            "gridwidth": 2,
            "linecolor": "white",
            "showbackground": true,
            "ticks": "",
            "zerolinecolor": "white"
           }
          },
          "shapedefaults": {
           "line": {
            "color": "#2a3f5f"
           }
          },
          "ternary": {
           "aaxis": {
            "gridcolor": "white",
            "linecolor": "white",
            "ticks": ""
           },
           "baxis": {
            "gridcolor": "white",
            "linecolor": "white",
            "ticks": ""
           },
           "bgcolor": "#E5ECF6",
           "caxis": {
            "gridcolor": "white",
            "linecolor": "white",
            "ticks": ""
           }
          },
          "title": {
           "x": 0.05
          },
          "xaxis": {
           "automargin": true,
           "gridcolor": "white",
           "linecolor": "white",
           "ticks": "",
           "title": {
            "standoff": 15
           },
           "zerolinecolor": "white",
           "zerolinewidth": 2
          },
          "yaxis": {
           "automargin": true,
           "gridcolor": "white",
           "linecolor": "white",
           "ticks": "",
           "title": {
            "standoff": 15
           },
           "zerolinecolor": "white",
           "zerolinewidth": 2
          }
         }
        },
        "xaxis": {
         "anchor": "y",
         "autorange": true,
         "domain": [
          0,
          1
         ],
         "range": [
          1.5,
          9.5
         ],
         "title": {
          "text": "UniqueFileCount"
         },
         "type": "linear"
        },
        "yaxis": {
         "anchor": "x",
         "autorange": true,
         "domain": [
          0,
          1
         ],
         "range": [
          0,
          521.0526315789474
         ],
         "title": {
          "text": "count"
         }
        }
       }
      },
      "text/html": [
       "<div>                            <div id=\"4a88c5d1-d59c-487b-9130-196fafc73364\" class=\"plotly-graph-div\" style=\"height:525px; width:100%;\"></div>            <script type=\"text/javascript\">                require([\"plotly\"], function(Plotly) {                    window.PLOTLYENV=window.PLOTLYENV || {};                                    if (document.getElementById(\"4a88c5d1-d59c-487b-9130-196fafc73364\")) {                    Plotly.newPlot(                        \"4a88c5d1-d59c-487b-9130-196fafc73364\",                        [{\"alignmentgroup\":\"True\",\"bingroup\":\"x\",\"hovertemplate\":\"UniqueFileCount=%{x}\\u003cbr\\u003ecount=%{y}\\u003cextra\\u003e\\u003c\\u002fextra\\u003e\",\"legendgroup\":\"\",\"marker\":{\"color\":\"#636efa\",\"pattern\":{\"shape\":\"\"}},\"name\":\"\",\"offsetgroup\":\"\",\"orientation\":\"v\",\"showlegend\":false,\"x\":[3,9,3,6,6,6,3,6,6,6,6,6,6,9,3,6,6,6,6,6,6,6,6,6,6,6,6,3,6,9,6,6,6,3,3,3,3,3,3,3,3,3,9,3,3,3,3,3,3,6,3,6,3,3,3,3,6,6,3,6,3,3,3,3,3,3,3,3,6,3,3,6,6,3,6,9,6,3,6,3,3,9,3,3,6,6,6,3,6,6,6,6,3,3,3,3,6,3,3,6,3,3,3,6,3,3,3,3,3,3,3,3,6,6,6,3,3,6,3,6,6,6,6,6,6,6,3,6,3,6,3,6,3,3,6,6,3,3,3,6,3,3,6,3,3,3,6,6,3,3,3,3,9,6,6,3,3,3,3,3,6,6,3,3,6,3,6,3,3,3,3,3,3,3,3,6,6,3,6,3,6,3,6,3,6,6,3,6,3,3,3,3,6,6,3,6,3,3,3,3,9,6,3,3,3,3,3,3,3,3,3,3,3,6,6,3,6,6,3,6,3,6,3,6,3,6,3,3,6,3,3,3,3,3,3,3,6,6,9,3,6,9,6,3,3,3,6,3,6,6,3,3,3,6,6,3,3,3,3,3,3,3,3,3,6,3,6,6,6,3,3,3,3,6,6,6,6,3,3,6,3,3,3,9,3,3,3,3,3,6,3,6,3,6,6,6,6,6,6,3,6,6,9,6,9,3,6,3,3,3,3,3,3,3,3,3,3,3,3,3,6,3,3,3,3,3,3,6,3,6,3,6,3,6,6,6,6,6,6,3,6,3,3,9,6,3,6,6,9,3,3,3,6,3,3,6,3,6,9,6,3,6,6,3,3,6,3,3,6,6,3,3,6,3,3,3,3,6,3,3,3,3,3,6,6,3,6,6,6,3,3,9,6,3,6,3,3,3,3,9,3,3,3,6,6,9,3,9,3,6,3,3,3,3,6,3,6,3,3,3,3,6,6,9,3,3,6,3,6,6,6,6,3,6,6,3,3,3,3,6,6,3,3,6,6,6,6,3,3,6,3,3,3,3,3,6,6,6,3,3,3,3,3,3,6,6,3,3,6,9,3,6,6,3,3,3,3,3,3,3,3,3,3,3,3,3,3,9,6,6,3,9,3,3,3,3,3,6,3,3,3,6,3,3,3,3,3,3,6,6,6,3,3,6,3,6,3,3,3,3,3,3,3,3,6,3,3,3,6,3,6,6,3,3,3,3,3,3,3,6,3,3,3,9,3,3,6,3,3,6,3,3,3,3,3,3,3,3,6,6,3,3,6,3,3,3,6,3,6,6,6,3,6,3,6,3,3,3,3,3,3,6,3,9,3,6,6,3,3,6,3,3,3,3,3,6,3,3,6,6,3,3,9,6,3,6,3,3,3,3,3,6,3,6,9,6,6,3,6,3,3,3,3,6,6,6,3,6,6,6,3,3,3,3,3,3,6,6,6,3,6,3,3,3,6,3,3,9,3,3,6,3,3,3,3,6,6,6,3,6,6,6,3,6,3,6,6,6,6,6,3,3,3,3,6,3,6,3,6,6,3,3,6,3,3,6,6,3,3,3,3,3,6,6,6,3,6,6,3,6,3,3,3,3,3,3,6,3,6,6,3,3,6,3,3,3,6,6,3,6,3,6,6,9,9,6,6,6,6,6,3,3,3,3,9,3,3,3,6,3,3,6,3,9,3,3,6,3,3,3,6,6,3,3,6,6,3,3,3,3,3,6,9,3,6,6,6,6,6,6,3,3,3,3,6,3,3,3,3,3,6,6,3,3,3,6,3,6,3,3,3,3,9,3,3,6,6,3,3,3,3,6,6,3,3,3,3,3,3,3,3,3,3,6,6,3,6,3,3,6,9,3,3,3,3,3,3,3,6,3,3,6,9,3,3],\"xaxis\":\"x\",\"yaxis\":\"y\",\"type\":\"histogram\"}],                        {\"template\":{\"data\":{\"histogram2dcontour\":[{\"type\":\"histogram2dcontour\",\"colorbar\":{\"outlinewidth\":0,\"ticks\":\"\"},\"colorscale\":[[0.0,\"#0d0887\"],[0.1111111111111111,\"#46039f\"],[0.2222222222222222,\"#7201a8\"],[0.3333333333333333,\"#9c179e\"],[0.4444444444444444,\"#bd3786\"],[0.5555555555555556,\"#d8576b\"],[0.6666666666666666,\"#ed7953\"],[0.7777777777777778,\"#fb9f3a\"],[0.8888888888888888,\"#fdca26\"],[1.0,\"#f0f921\"]]}],\"choropleth\":[{\"type\":\"choropleth\",\"colorbar\":{\"outlinewidth\":0,\"ticks\":\"\"}}],\"histogram2d\":[{\"type\":\"histogram2d\",\"colorbar\":{\"outlinewidth\":0,\"ticks\":\"\"},\"colorscale\":[[0.0,\"#0d0887\"],[0.1111111111111111,\"#46039f\"],[0.2222222222222222,\"#7201a8\"],[0.3333333333333333,\"#9c179e\"],[0.4444444444444444,\"#bd3786\"],[0.5555555555555556,\"#d8576b\"],[0.6666666666666666,\"#ed7953\"],[0.7777777777777778,\"#fb9f3a\"],[0.8888888888888888,\"#fdca26\"],[1.0,\"#f0f921\"]]}],\"heatmap\":[{\"type\":\"heatmap\",\"colorbar\":{\"outlinewidth\":0,\"ticks\":\"\"},\"colorscale\":[[0.0,\"#0d0887\"],[0.1111111111111111,\"#46039f\"],[0.2222222222222222,\"#7201a8\"],[0.3333333333333333,\"#9c179e\"],[0.4444444444444444,\"#bd3786\"],[0.5555555555555556,\"#d8576b\"],[0.6666666666666666,\"#ed7953\"],[0.7777777777777778,\"#fb9f3a\"],[0.8888888888888888,\"#fdca26\"],[1.0,\"#f0f921\"]]}],\"heatmapgl\":[{\"type\":\"heatmapgl\",\"colorbar\":{\"outlinewidth\":0,\"ticks\":\"\"},\"colorscale\":[[0.0,\"#0d0887\"],[0.1111111111111111,\"#46039f\"],[0.2222222222222222,\"#7201a8\"],[0.3333333333333333,\"#9c179e\"],[0.4444444444444444,\"#bd3786\"],[0.5555555555555556,\"#d8576b\"],[0.6666666666666666,\"#ed7953\"],[0.7777777777777778,\"#fb9f3a\"],[0.8888888888888888,\"#fdca26\"],[1.0,\"#f0f921\"]]}],\"contourcarpet\":[{\"type\":\"contourcarpet\",\"colorbar\":{\"outlinewidth\":0,\"ticks\":\"\"}}],\"contour\":[{\"type\":\"contour\",\"colorbar\":{\"outlinewidth\":0,\"ticks\":\"\"},\"colorscale\":[[0.0,\"#0d0887\"],[0.1111111111111111,\"#46039f\"],[0.2222222222222222,\"#7201a8\"],[0.3333333333333333,\"#9c179e\"],[0.4444444444444444,\"#bd3786\"],[0.5555555555555556,\"#d8576b\"],[0.6666666666666666,\"#ed7953\"],[0.7777777777777778,\"#fb9f3a\"],[0.8888888888888888,\"#fdca26\"],[1.0,\"#f0f921\"]]}],\"surface\":[{\"type\":\"surface\",\"colorbar\":{\"outlinewidth\":0,\"ticks\":\"\"},\"colorscale\":[[0.0,\"#0d0887\"],[0.1111111111111111,\"#46039f\"],[0.2222222222222222,\"#7201a8\"],[0.3333333333333333,\"#9c179e\"],[0.4444444444444444,\"#bd3786\"],[0.5555555555555556,\"#d8576b\"],[0.6666666666666666,\"#ed7953\"],[0.7777777777777778,\"#fb9f3a\"],[0.8888888888888888,\"#fdca26\"],[1.0,\"#f0f921\"]]}],\"mesh3d\":[{\"type\":\"mesh3d\",\"colorbar\":{\"outlinewidth\":0,\"ticks\":\"\"}}],\"scatter\":[{\"fillpattern\":{\"fillmode\":\"overlay\",\"size\":10,\"solidity\":0.2},\"type\":\"scatter\"}],\"parcoords\":[{\"type\":\"parcoords\",\"line\":{\"colorbar\":{\"outlinewidth\":0,\"ticks\":\"\"}}}],\"scatterpolargl\":[{\"type\":\"scatterpolargl\",\"marker\":{\"colorbar\":{\"outlinewidth\":0,\"ticks\":\"\"}}}],\"bar\":[{\"error_x\":{\"color\":\"#2a3f5f\"},\"error_y\":{\"color\":\"#2a3f5f\"},\"marker\":{\"line\":{\"color\":\"#E5ECF6\",\"width\":0.5},\"pattern\":{\"fillmode\":\"overlay\",\"size\":10,\"solidity\":0.2}},\"type\":\"bar\"}],\"scattergeo\":[{\"type\":\"scattergeo\",\"marker\":{\"colorbar\":{\"outlinewidth\":0,\"ticks\":\"\"}}}],\"scatterpolar\":[{\"type\":\"scatterpolar\",\"marker\":{\"colorbar\":{\"outlinewidth\":0,\"ticks\":\"\"}}}],\"histogram\":[{\"marker\":{\"pattern\":{\"fillmode\":\"overlay\",\"size\":10,\"solidity\":0.2}},\"type\":\"histogram\"}],\"scattergl\":[{\"type\":\"scattergl\",\"marker\":{\"colorbar\":{\"outlinewidth\":0,\"ticks\":\"\"}}}],\"scatter3d\":[{\"type\":\"scatter3d\",\"line\":{\"colorbar\":{\"outlinewidth\":0,\"ticks\":\"\"}},\"marker\":{\"colorbar\":{\"outlinewidth\":0,\"ticks\":\"\"}}}],\"scattermapbox\":[{\"type\":\"scattermapbox\",\"marker\":{\"colorbar\":{\"outlinewidth\":0,\"ticks\":\"\"}}}],\"scatterternary\":[{\"type\":\"scatterternary\",\"marker\":{\"colorbar\":{\"outlinewidth\":0,\"ticks\":\"\"}}}],\"scattercarpet\":[{\"type\":\"scattercarpet\",\"marker\":{\"colorbar\":{\"outlinewidth\":0,\"ticks\":\"\"}}}],\"carpet\":[{\"aaxis\":{\"endlinecolor\":\"#2a3f5f\",\"gridcolor\":\"white\",\"linecolor\":\"white\",\"minorgridcolor\":\"white\",\"startlinecolor\":\"#2a3f5f\"},\"baxis\":{\"endlinecolor\":\"#2a3f5f\",\"gridcolor\":\"white\",\"linecolor\":\"white\",\"minorgridcolor\":\"white\",\"startlinecolor\":\"#2a3f5f\"},\"type\":\"carpet\"}],\"table\":[{\"cells\":{\"fill\":{\"color\":\"#EBF0F8\"},\"line\":{\"color\":\"white\"}},\"header\":{\"fill\":{\"color\":\"#C8D4E3\"},\"line\":{\"color\":\"white\"}},\"type\":\"table\"}],\"barpolar\":[{\"marker\":{\"line\":{\"color\":\"#E5ECF6\",\"width\":0.5},\"pattern\":{\"fillmode\":\"overlay\",\"size\":10,\"solidity\":0.2}},\"type\":\"barpolar\"}],\"pie\":[{\"automargin\":true,\"type\":\"pie\"}]},\"layout\":{\"autotypenumbers\":\"strict\",\"colorway\":[\"#636efa\",\"#EF553B\",\"#00cc96\",\"#ab63fa\",\"#FFA15A\",\"#19d3f3\",\"#FF6692\",\"#B6E880\",\"#FF97FF\",\"#FECB52\"],\"font\":{\"color\":\"#2a3f5f\"},\"hovermode\":\"closest\",\"hoverlabel\":{\"align\":\"left\"},\"paper_bgcolor\":\"white\",\"plot_bgcolor\":\"#E5ECF6\",\"polar\":{\"bgcolor\":\"#E5ECF6\",\"angularaxis\":{\"gridcolor\":\"white\",\"linecolor\":\"white\",\"ticks\":\"\"},\"radialaxis\":{\"gridcolor\":\"white\",\"linecolor\":\"white\",\"ticks\":\"\"}},\"ternary\":{\"bgcolor\":\"#E5ECF6\",\"aaxis\":{\"gridcolor\":\"white\",\"linecolor\":\"white\",\"ticks\":\"\"},\"baxis\":{\"gridcolor\":\"white\",\"linecolor\":\"white\",\"ticks\":\"\"},\"caxis\":{\"gridcolor\":\"white\",\"linecolor\":\"white\",\"ticks\":\"\"}},\"coloraxis\":{\"colorbar\":{\"outlinewidth\":0,\"ticks\":\"\"}},\"colorscale\":{\"sequential\":[[0.0,\"#0d0887\"],[0.1111111111111111,\"#46039f\"],[0.2222222222222222,\"#7201a8\"],[0.3333333333333333,\"#9c179e\"],[0.4444444444444444,\"#bd3786\"],[0.5555555555555556,\"#d8576b\"],[0.6666666666666666,\"#ed7953\"],[0.7777777777777778,\"#fb9f3a\"],[0.8888888888888888,\"#fdca26\"],[1.0,\"#f0f921\"]],\"sequentialminus\":[[0.0,\"#0d0887\"],[0.1111111111111111,\"#46039f\"],[0.2222222222222222,\"#7201a8\"],[0.3333333333333333,\"#9c179e\"],[0.4444444444444444,\"#bd3786\"],[0.5555555555555556,\"#d8576b\"],[0.6666666666666666,\"#ed7953\"],[0.7777777777777778,\"#fb9f3a\"],[0.8888888888888888,\"#fdca26\"],[1.0,\"#f0f921\"]],\"diverging\":[[0,\"#8e0152\"],[0.1,\"#c51b7d\"],[0.2,\"#de77ae\"],[0.3,\"#f1b6da\"],[0.4,\"#fde0ef\"],[0.5,\"#f7f7f7\"],[0.6,\"#e6f5d0\"],[0.7,\"#b8e186\"],[0.8,\"#7fbc41\"],[0.9,\"#4d9221\"],[1,\"#276419\"]]},\"xaxis\":{\"gridcolor\":\"white\",\"linecolor\":\"white\",\"ticks\":\"\",\"title\":{\"standoff\":15},\"zerolinecolor\":\"white\",\"automargin\":true,\"zerolinewidth\":2},\"yaxis\":{\"gridcolor\":\"white\",\"linecolor\":\"white\",\"ticks\":\"\",\"title\":{\"standoff\":15},\"zerolinecolor\":\"white\",\"automargin\":true,\"zerolinewidth\":2},\"scene\":{\"xaxis\":{\"backgroundcolor\":\"#E5ECF6\",\"gridcolor\":\"white\",\"linecolor\":\"white\",\"showbackground\":true,\"ticks\":\"\",\"zerolinecolor\":\"white\",\"gridwidth\":2},\"yaxis\":{\"backgroundcolor\":\"#E5ECF6\",\"gridcolor\":\"white\",\"linecolor\":\"white\",\"showbackground\":true,\"ticks\":\"\",\"zerolinecolor\":\"white\",\"gridwidth\":2},\"zaxis\":{\"backgroundcolor\":\"#E5ECF6\",\"gridcolor\":\"white\",\"linecolor\":\"white\",\"showbackground\":true,\"ticks\":\"\",\"zerolinecolor\":\"white\",\"gridwidth\":2}},\"shapedefaults\":{\"line\":{\"color\":\"#2a3f5f\"}},\"annotationdefaults\":{\"arrowcolor\":\"#2a3f5f\",\"arrowhead\":0,\"arrowwidth\":1},\"geo\":{\"bgcolor\":\"white\",\"landcolor\":\"#E5ECF6\",\"subunitcolor\":\"white\",\"showland\":true,\"showlakes\":true,\"lakecolor\":\"white\"},\"title\":{\"x\":0.05},\"mapbox\":{\"style\":\"light\"}}},\"xaxis\":{\"anchor\":\"y\",\"domain\":[0.0,1.0],\"title\":{\"text\":\"UniqueFileCount\"}},\"yaxis\":{\"anchor\":\"x\",\"domain\":[0.0,1.0],\"title\":{\"text\":\"count\"}},\"legend\":{\"tracegroupgap\":0},\"margin\":{\"t\":60},\"barmode\":\"relative\"},                        {\"responsive\": true}                    ).then(function(){\n",
       "                            \n",
       "var gd = document.getElementById('4a88c5d1-d59c-487b-9130-196fafc73364');\n",
       "var x = new MutationObserver(function (mutations, observer) {{\n",
       "        var display = window.getComputedStyle(gd).display;\n",
       "        if (!display || display === 'none') {{\n",
       "            console.log([gd, 'removed!']);\n",
       "            Plotly.purge(gd);\n",
       "            observer.disconnect();\n",
       "        }}\n",
       "}});\n",
       "\n",
       "// Listen for the removal of the full notebook cells\n",
       "var notebookContainer = gd.closest('#notebook-container');\n",
       "if (notebookContainer) {{\n",
       "    x.observe(notebookContainer, {childList: true});\n",
       "}}\n",
       "\n",
       "// Listen for the clearing of the current output cell\n",
       "var outputEl = gd.closest('.output');\n",
       "if (outputEl) {{\n",
       "    x.observe(outputEl, {childList: true});\n",
       "}}\n",
       "\n",
       "                        })                };                });            </script>        </div>"
      ]
     },
     "metadata": {},
     "output_type": "display_data"
    }
   ],
   "source": [
    "fig = px.histogram(unique_file_counts_per_Participant, x=\"UniqueFileCount\")\n",
    "fig.show()"
   ]
  },
  {
   "cell_type": "code",
   "execution_count": 331,
   "id": "a6bdebd4-cc6e-4282-9361-2a3d69a1edb1",
   "metadata": {},
   "outputs": [],
   "source": [
    "value_df_participants = value_df.copy()\n",
    "value_df_participants = filenames_to_participants(familymanifestdf,value_df_participants)\n",
    "value_df_participants.to_csv(outdir+countsetname+\"_participants_normcounts.csv\")"
   ]
  },
  {
   "cell_type": "code",
   "execution_count": 332,
   "id": "397ed0d5-b8b7-4362-9b97-3afdc25caf38",
   "metadata": {},
   "outputs": [
    {
     "data": {
      "text/html": [
       "<div>\n",
       "<style scoped>\n",
       "    .dataframe tbody tr th:only-of-type {\n",
       "        vertical-align: middle;\n",
       "    }\n",
       "\n",
       "    .dataframe tbody tr th {\n",
       "        vertical-align: top;\n",
       "    }\n",
       "\n",
       "    .dataframe thead th {\n",
       "        text-align: right;\n",
       "    }\n",
       "</style>\n",
       "<table border=\"1\" class=\"dataframe\">\n",
       "  <thead>\n",
       "    <tr style=\"text-align: right;\">\n",
       "      <th></th>\n",
       "      <th>ENSG00000000003.14</th>\n",
       "      <th>ENSG00000000005.5</th>\n",
       "      <th>ENSG00000000419.12</th>\n",
       "      <th>ENSG00000000457.13</th>\n",
       "      <th>ENSG00000000460.16</th>\n",
       "      <th>ENSG00000000938.12</th>\n",
       "      <th>ENSG00000000971.15</th>\n",
       "      <th>ENSG00000001036.13</th>\n",
       "      <th>ENSG00000001084.10</th>\n",
       "      <th>ENSG00000001167.14</th>\n",
       "      <th>...</th>\n",
       "      <th>ENSG00000284740.1</th>\n",
       "      <th>ENSG00000284741.1</th>\n",
       "      <th>ENSG00000284742.1</th>\n",
       "      <th>ENSG00000284743.1</th>\n",
       "      <th>ENSG00000284744.1</th>\n",
       "      <th>ENSG00000284745.1</th>\n",
       "      <th>ENSG00000284746.1</th>\n",
       "      <th>ENSG00000284747.1</th>\n",
       "      <th>ENSG00000284748.1</th>\n",
       "      <th>Participant</th>\n",
       "    </tr>\n",
       "  </thead>\n",
       "  <tbody>\n",
       "    <tr>\n",
       "      <th>0</th>\n",
       "      <td>29.516858</td>\n",
       "      <td>0.0</td>\n",
       "      <td>677.204855</td>\n",
       "      <td>874.335011</td>\n",
       "      <td>150.102000</td>\n",
       "      <td>26338.795021</td>\n",
       "      <td>95.040010</td>\n",
       "      <td>578.754270</td>\n",
       "      <td>867.085877</td>\n",
       "      <td>1364.030438</td>\n",
       "      <td>...</td>\n",
       "      <td>0.857093</td>\n",
       "      <td>0.0</td>\n",
       "      <td>0.0</td>\n",
       "      <td>0.0</td>\n",
       "      <td>0.000000</td>\n",
       "      <td>0.0</td>\n",
       "      <td>0.0</td>\n",
       "      <td>63.438383</td>\n",
       "      <td>15.894703</td>\n",
       "      <td>pt-mv6fmz83</td>\n",
       "    </tr>\n",
       "    <tr>\n",
       "      <th>1</th>\n",
       "      <td>47.883863</td>\n",
       "      <td>0.0</td>\n",
       "      <td>878.701066</td>\n",
       "      <td>930.485510</td>\n",
       "      <td>183.874029</td>\n",
       "      <td>15675.943089</td>\n",
       "      <td>78.431266</td>\n",
       "      <td>537.627779</td>\n",
       "      <td>961.319230</td>\n",
       "      <td>1498.566947</td>\n",
       "      <td>...</td>\n",
       "      <td>0.796807</td>\n",
       "      <td>0.0</td>\n",
       "      <td>0.0</td>\n",
       "      <td>0.0</td>\n",
       "      <td>5.550311</td>\n",
       "      <td>0.0</td>\n",
       "      <td>0.0</td>\n",
       "      <td>54.183413</td>\n",
       "      <td>5.539728</td>\n",
       "      <td>pt-pb67ypn9</td>\n",
       "    </tr>\n",
       "    <tr>\n",
       "      <th>2</th>\n",
       "      <td>38.107012</td>\n",
       "      <td>0.0</td>\n",
       "      <td>822.215303</td>\n",
       "      <td>899.600053</td>\n",
       "      <td>188.989659</td>\n",
       "      <td>20846.982160</td>\n",
       "      <td>251.590331</td>\n",
       "      <td>643.061258</td>\n",
       "      <td>685.564326</td>\n",
       "      <td>1517.044532</td>\n",
       "      <td>...</td>\n",
       "      <td>1.640181</td>\n",
       "      <td>0.0</td>\n",
       "      <td>0.0</td>\n",
       "      <td>0.0</td>\n",
       "      <td>7.626614</td>\n",
       "      <td>0.0</td>\n",
       "      <td>0.0</td>\n",
       "      <td>51.770695</td>\n",
       "      <td>2.855719</td>\n",
       "      <td>pt-ekjjfcr8</td>\n",
       "    </tr>\n",
       "    <tr>\n",
       "      <th>3</th>\n",
       "      <td>7.904249</td>\n",
       "      <td>0.0</td>\n",
       "      <td>488.443725</td>\n",
       "      <td>818.246942</td>\n",
       "      <td>73.996124</td>\n",
       "      <td>33611.415617</td>\n",
       "      <td>109.850041</td>\n",
       "      <td>851.848248</td>\n",
       "      <td>508.127917</td>\n",
       "      <td>1302.990608</td>\n",
       "      <td>...</td>\n",
       "      <td>0.000000</td>\n",
       "      <td>0.0</td>\n",
       "      <td>0.0</td>\n",
       "      <td>0.0</td>\n",
       "      <td>0.000000</td>\n",
       "      <td>0.0</td>\n",
       "      <td>0.0</td>\n",
       "      <td>48.390434</td>\n",
       "      <td>0.000000</td>\n",
       "      <td>pt-yky3kj4e</td>\n",
       "    </tr>\n",
       "    <tr>\n",
       "      <th>4</th>\n",
       "      <td>17.681451</td>\n",
       "      <td>0.0</td>\n",
       "      <td>929.728834</td>\n",
       "      <td>918.153598</td>\n",
       "      <td>192.989845</td>\n",
       "      <td>24482.400404</td>\n",
       "      <td>72.551148</td>\n",
       "      <td>650.752961</td>\n",
       "      <td>1109.044383</td>\n",
       "      <td>1457.659293</td>\n",
       "      <td>...</td>\n",
       "      <td>0.000000</td>\n",
       "      <td>0.0</td>\n",
       "      <td>0.0</td>\n",
       "      <td>0.0</td>\n",
       "      <td>5.468876</td>\n",
       "      <td>0.0</td>\n",
       "      <td>0.0</td>\n",
       "      <td>35.101428</td>\n",
       "      <td>1.565382</td>\n",
       "      <td>pt-bkgw6a6n</td>\n",
       "    </tr>\n",
       "    <tr>\n",
       "      <th>...</th>\n",
       "      <td>...</td>\n",
       "      <td>...</td>\n",
       "      <td>...</td>\n",
       "      <td>...</td>\n",
       "      <td>...</td>\n",
       "      <td>...</td>\n",
       "      <td>...</td>\n",
       "      <td>...</td>\n",
       "      <td>...</td>\n",
       "      <td>...</td>\n",
       "      <td>...</td>\n",
       "      <td>...</td>\n",
       "      <td>...</td>\n",
       "      <td>...</td>\n",
       "      <td>...</td>\n",
       "      <td>...</td>\n",
       "      <td>...</td>\n",
       "      <td>...</td>\n",
       "      <td>...</td>\n",
       "      <td>...</td>\n",
       "      <td>...</td>\n",
       "    </tr>\n",
       "    <tr>\n",
       "      <th>395</th>\n",
       "      <td>17.242527</td>\n",
       "      <td>0.0</td>\n",
       "      <td>1031.678033</td>\n",
       "      <td>883.659222</td>\n",
       "      <td>167.326793</td>\n",
       "      <td>33234.243367</td>\n",
       "      <td>128.467550</td>\n",
       "      <td>997.792260</td>\n",
       "      <td>483.279285</td>\n",
       "      <td>1318.284839</td>\n",
       "      <td>...</td>\n",
       "      <td>13.107993</td>\n",
       "      <td>0.0</td>\n",
       "      <td>0.0</td>\n",
       "      <td>0.0</td>\n",
       "      <td>18.076245</td>\n",
       "      <td>0.0</td>\n",
       "      <td>0.0</td>\n",
       "      <td>52.627810</td>\n",
       "      <td>4.519997</td>\n",
       "      <td>pt-e3jrm51z</td>\n",
       "    </tr>\n",
       "    <tr>\n",
       "      <th>396</th>\n",
       "      <td>41.884893</td>\n",
       "      <td>0.0</td>\n",
       "      <td>963.949006</td>\n",
       "      <td>935.839347</td>\n",
       "      <td>217.069664</td>\n",
       "      <td>23896.117663</td>\n",
       "      <td>113.580935</td>\n",
       "      <td>1096.749424</td>\n",
       "      <td>875.008737</td>\n",
       "      <td>1561.746532</td>\n",
       "      <td>...</td>\n",
       "      <td>2.525113</td>\n",
       "      <td>0.0</td>\n",
       "      <td>0.0</td>\n",
       "      <td>0.0</td>\n",
       "      <td>8.818780</td>\n",
       "      <td>0.0</td>\n",
       "      <td>0.0</td>\n",
       "      <td>45.538950</td>\n",
       "      <td>8.077822</td>\n",
       "      <td>pt-be1stwmv</td>\n",
       "    </tr>\n",
       "    <tr>\n",
       "      <th>397</th>\n",
       "      <td>36.321957</td>\n",
       "      <td>0.0</td>\n",
       "      <td>729.360879</td>\n",
       "      <td>954.755252</td>\n",
       "      <td>190.266974</td>\n",
       "      <td>28283.049573</td>\n",
       "      <td>70.944267</td>\n",
       "      <td>864.300538</td>\n",
       "      <td>721.002235</td>\n",
       "      <td>1390.776898</td>\n",
       "      <td>...</td>\n",
       "      <td>20.806912</td>\n",
       "      <td>0.0</td>\n",
       "      <td>0.0</td>\n",
       "      <td>0.0</td>\n",
       "      <td>1.051644</td>\n",
       "      <td>0.0</td>\n",
       "      <td>0.0</td>\n",
       "      <td>72.997090</td>\n",
       "      <td>4.220290</td>\n",
       "      <td>pt-jqfvet2k</td>\n",
       "    </tr>\n",
       "    <tr>\n",
       "      <th>398</th>\n",
       "      <td>30.222321</td>\n",
       "      <td>0.0</td>\n",
       "      <td>831.888806</td>\n",
       "      <td>939.305255</td>\n",
       "      <td>125.391507</td>\n",
       "      <td>27279.069415</td>\n",
       "      <td>131.780073</td>\n",
       "      <td>509.917600</td>\n",
       "      <td>775.287235</td>\n",
       "      <td>1353.484688</td>\n",
       "      <td>...</td>\n",
       "      <td>0.000000</td>\n",
       "      <td>0.0</td>\n",
       "      <td>0.0</td>\n",
       "      <td>0.0</td>\n",
       "      <td>2.059527</td>\n",
       "      <td>0.0</td>\n",
       "      <td>0.0</td>\n",
       "      <td>54.945480</td>\n",
       "      <td>4.101312</td>\n",
       "      <td>pt-gx8psrwq</td>\n",
       "    </tr>\n",
       "    <tr>\n",
       "      <th>399</th>\n",
       "      <td>17.439145</td>\n",
       "      <td>0.0</td>\n",
       "      <td>1216.911476</td>\n",
       "      <td>939.209533</td>\n",
       "      <td>177.619818</td>\n",
       "      <td>31291.727604</td>\n",
       "      <td>153.756304</td>\n",
       "      <td>962.654467</td>\n",
       "      <td>1043.897949</td>\n",
       "      <td>1616.458639</td>\n",
       "      <td>...</td>\n",
       "      <td>0.000000</td>\n",
       "      <td>0.0</td>\n",
       "      <td>0.0</td>\n",
       "      <td>0.0</td>\n",
       "      <td>7.878565</td>\n",
       "      <td>0.0</td>\n",
       "      <td>0.0</td>\n",
       "      <td>51.417717</td>\n",
       "      <td>0.000000</td>\n",
       "      <td>pt-dkfssh8y</td>\n",
       "    </tr>\n",
       "  </tbody>\n",
       "</table>\n",
       "<p>400 rows × 58289 columns</p>\n",
       "</div>"
      ],
      "text/plain": [
       "     ENSG00000000003.14  ENSG00000000005.5  ENSG00000000419.12  \\\n",
       "0             29.516858                0.0          677.204855   \n",
       "1             47.883863                0.0          878.701066   \n",
       "2             38.107012                0.0          822.215303   \n",
       "3              7.904249                0.0          488.443725   \n",
       "4             17.681451                0.0          929.728834   \n",
       "..                  ...                ...                 ...   \n",
       "395           17.242527                0.0         1031.678033   \n",
       "396           41.884893                0.0          963.949006   \n",
       "397           36.321957                0.0          729.360879   \n",
       "398           30.222321                0.0          831.888806   \n",
       "399           17.439145                0.0         1216.911476   \n",
       "\n",
       "     ENSG00000000457.13  ENSG00000000460.16  ENSG00000000938.12  \\\n",
       "0            874.335011          150.102000        26338.795021   \n",
       "1            930.485510          183.874029        15675.943089   \n",
       "2            899.600053          188.989659        20846.982160   \n",
       "3            818.246942           73.996124        33611.415617   \n",
       "4            918.153598          192.989845        24482.400404   \n",
       "..                  ...                 ...                 ...   \n",
       "395          883.659222          167.326793        33234.243367   \n",
       "396          935.839347          217.069664        23896.117663   \n",
       "397          954.755252          190.266974        28283.049573   \n",
       "398          939.305255          125.391507        27279.069415   \n",
       "399          939.209533          177.619818        31291.727604   \n",
       "\n",
       "     ENSG00000000971.15  ENSG00000001036.13  ENSG00000001084.10  \\\n",
       "0             95.040010          578.754270          867.085877   \n",
       "1             78.431266          537.627779          961.319230   \n",
       "2            251.590331          643.061258          685.564326   \n",
       "3            109.850041          851.848248          508.127917   \n",
       "4             72.551148          650.752961         1109.044383   \n",
       "..                  ...                 ...                 ...   \n",
       "395          128.467550          997.792260          483.279285   \n",
       "396          113.580935         1096.749424          875.008737   \n",
       "397           70.944267          864.300538          721.002235   \n",
       "398          131.780073          509.917600          775.287235   \n",
       "399          153.756304          962.654467         1043.897949   \n",
       "\n",
       "     ENSG00000001167.14  ...  ENSG00000284740.1  ENSG00000284741.1  \\\n",
       "0           1364.030438  ...           0.857093                0.0   \n",
       "1           1498.566947  ...           0.796807                0.0   \n",
       "2           1517.044532  ...           1.640181                0.0   \n",
       "3           1302.990608  ...           0.000000                0.0   \n",
       "4           1457.659293  ...           0.000000                0.0   \n",
       "..                  ...  ...                ...                ...   \n",
       "395         1318.284839  ...          13.107993                0.0   \n",
       "396         1561.746532  ...           2.525113                0.0   \n",
       "397         1390.776898  ...          20.806912                0.0   \n",
       "398         1353.484688  ...           0.000000                0.0   \n",
       "399         1616.458639  ...           0.000000                0.0   \n",
       "\n",
       "     ENSG00000284742.1  ENSG00000284743.1  ENSG00000284744.1  \\\n",
       "0                  0.0                0.0           0.000000   \n",
       "1                  0.0                0.0           5.550311   \n",
       "2                  0.0                0.0           7.626614   \n",
       "3                  0.0                0.0           0.000000   \n",
       "4                  0.0                0.0           5.468876   \n",
       "..                 ...                ...                ...   \n",
       "395                0.0                0.0          18.076245   \n",
       "396                0.0                0.0           8.818780   \n",
       "397                0.0                0.0           1.051644   \n",
       "398                0.0                0.0           2.059527   \n",
       "399                0.0                0.0           7.878565   \n",
       "\n",
       "     ENSG00000284745.1  ENSG00000284746.1  ENSG00000284747.1  \\\n",
       "0                  0.0                0.0          63.438383   \n",
       "1                  0.0                0.0          54.183413   \n",
       "2                  0.0                0.0          51.770695   \n",
       "3                  0.0                0.0          48.390434   \n",
       "4                  0.0                0.0          35.101428   \n",
       "..                 ...                ...                ...   \n",
       "395                0.0                0.0          52.627810   \n",
       "396                0.0                0.0          45.538950   \n",
       "397                0.0                0.0          72.997090   \n",
       "398                0.0                0.0          54.945480   \n",
       "399                0.0                0.0          51.417717   \n",
       "\n",
       "     ENSG00000284748.1  Participant  \n",
       "0            15.894703  pt-mv6fmz83  \n",
       "1             5.539728  pt-pb67ypn9  \n",
       "2             2.855719  pt-ekjjfcr8  \n",
       "3             0.000000  pt-yky3kj4e  \n",
       "4             1.565382  pt-bkgw6a6n  \n",
       "..                 ...          ...  \n",
       "395           4.519997  pt-e3jrm51z  \n",
       "396           8.077822  pt-be1stwmv  \n",
       "397           4.220290  pt-jqfvet2k  \n",
       "398           4.101312  pt-gx8psrwq  \n",
       "399           0.000000  pt-dkfssh8y  \n",
       "\n",
       "[400 rows x 58289 columns]"
      ]
     },
     "execution_count": 332,
     "metadata": {},
     "output_type": "execute_result"
    }
   ],
   "source": [
    "value_df_participants"
   ]
  },
  {
   "cell_type": "code",
   "execution_count": 333,
   "id": "ce1b461f-24c4-471b-b034-b6e877243fad",
   "metadata": {},
   "outputs": [],
   "source": [
    "\n",
    "mini_value_df = value_df[[\"FileName\", \"ENSG00000124813.20\", \"ENSG00000159216.18\", \"ENSG00000001167.14\"]]\n",
    "mini_value_df.to_csv(outdir+\"miniRNAvalues_filename_normcounts.csv\")\n",
    "mini_value_df = value_df_participants[[\"Participant\", \"ENSG00000124813.20\", \"ENSG00000159216.18\", \"ENSG00000001167.14\"]]\n",
    "mini_value_df.to_csv(outdir+\"miniRNAvalues_participants_normcounts.csv\")"
   ]
  },
  {
   "cell_type": "code",
   "execution_count": 334,
   "id": "a77d07e2-d664-46b3-bcaa-8222cccd0672",
   "metadata": {},
   "outputs": [
    {
     "name": "stdout",
     "output_type": "stream",
     "text": [
      "fnwithRNA_notconditionstable 0\n",
      "fnwithRNA_conditions 400\n",
      "fnwithRNA 400\n",
      "fnwithconditions 3797\n"
     ]
    }
   ],
   "source": [
    "fnwithRNA= list(value_df[\"FileName\"])\n",
    "fnwithconditions = list(MONDObianary_table_filename[\"FileName\"])\n",
    "\n",
    "\n",
    "fnwithRNA_notconditionstable = [fn for fn in fnwithRNA \n",
    "                                    if fn not in fnwithconditions]\n",
    "\n",
    "fnwithRNA_conditions = [fn for fn in fnwithRNA \n",
    "                                    if fn in fnwithconditions]\n",
    "\n",
    "fnwithRNA = pd.DataFrame(fnwithRNA)\n",
    "fnwithRNA.to_csv(outdir+\"include_filename_with_RNA.csv\", header=False, index=False)\n",
    "\n",
    "print(\"fnwithRNA_notconditionstable\", len(fnwithRNA_notconditionstable))\n",
    "print(\"fnwithRNA_conditions\", len(fnwithRNA_conditions))\n",
    "print(\"fnwithRNA\", len(fnwithRNA))\n",
    "print(\"fnwithconditions\", len(fnwithconditions))\n"
   ]
  },
  {
   "cell_type": "code",
   "execution_count": 335,
   "id": "3b8c8d72-65e5-43b5-9197-80783b33f999",
   "metadata": {},
   "outputs": [
    {
     "name": "stdout",
     "output_type": "stream",
     "text": [
      "participantswithRNA_notconditionstable 0\n",
      "participantswithRNA_conditions 400\n",
      "participantswithRNA 400\n",
      "participantswithconditions 996\n"
     ]
    }
   ],
   "source": [
    "participantswithRNA= list(value_df_participants[\"Participant\"])\n",
    "participantswithconditions = list(mondobianary_table[\"Participant\"])\n",
    "\n",
    "\n",
    "participantswithRNA_notconditionstable = [participant for participant in participantswithRNA \n",
    "                                    if participant not in participantswithconditions]\n",
    "\n",
    "participantswithRNA_conditions = [participant for participant in participantswithRNA \n",
    "                                    if participant in participantswithconditions]\n",
    "\n",
    "participantswithRNA = pd.DataFrame(participantswithRNA)\n",
    "participantswithRNA.to_csv(outdir+\"include_participant_with_RNA.csv\", header=False, index=False)\n",
    "\n",
    "print(\"participantswithRNA_notconditionstable\", len(participantswithRNA_notconditionstable))\n",
    "print(\"participantswithRNA_conditions\", len(participantswithRNA_conditions))\n",
    "print(\"participantswithRNA\", len(participantswithRNA))\n",
    "print(\"participantswithconditions\", len(participantswithconditions))\n"
   ]
  },
  {
   "cell_type": "markdown",
   "id": "60b7c36c-90b2-4864-8f75-f6a6d3913e32",
   "metadata": {},
   "source": [
    "# which T21 files"
   ]
  },
  {
   "cell_type": "code",
   "execution_count": 336,
   "id": "9b692383-93c3-4730-8a01-6ce93b0bd645",
   "metadata": {},
   "outputs": [],
   "source": [
    "DS_conditions_cols = [\"MONDO_Down_syndrome\", \"MONDO_mosaic_translocation_Down_syndrome\", \"MONDO_translocation_Down_syndrome\", \"MONDO_complete_trisomy_21\", \"MONDO_mosaic_trisomy_21\"]\n",
    "whichT21fn = MONDObianary_table_filename[DS_conditions_cols].copy()\n",
    "whichT21fn.index = MONDObianary_table_filename[\"FileName\"]\n",
    "whichT21fn.loc[:, \"Disomic\"] = whichT21fn[DS_conditions_cols].sum(axis=1) == 0\n",
    "whichT21fn.to_csv(outdir+\"whichT21_filename.csv\")\n"
   ]
  },
  {
   "cell_type": "code",
   "execution_count": 337,
   "id": "c90c8428-5e21-4a86-b8ad-7e5cb7a6ae64",
   "metadata": {},
   "outputs": [],
   "source": [
    "DS_conditions_cols = [\"MONDO_Down_syndrome\", \"MONDO_mosaic_translocation_Down_syndrome\", \"MONDO_translocation_Down_syndrome\", \"MONDO_complete_trisomy_21\", \"MONDO_mosaic_trisomy_21\"]\n",
    "whichT21p = mondobianary_table[DS_conditions_cols].copy()\n",
    "whichT21p.index = mondobianary_table[\"Participant\"]\n",
    "whichT21p.loc[:, \"Disomic\"] = whichT21p[DS_conditions_cols].sum(axis=1) == 0\n",
    "whichT21p.to_csv(outdir+\"whichT21_participant.csv\")\n"
   ]
  },
  {
   "cell_type": "markdown",
   "id": "86856cc4-b815-44e6-a2dc-0ae86febe925",
   "metadata": {},
   "source": [
    "# file for complete T21 participants and filenames"
   ]
  },
  {
   "cell_type": "code",
   "execution_count": 338,
   "id": "fbc2b02c-79c2-4201-b179-7d6273960e74",
   "metadata": {},
   "outputs": [],
   "source": [
    "completeT21fn =  whichT21fn[whichT21fn[\"MONDO_complete_trisomy_21\"]==1]\n",
    "completeT21p =  whichT21p[whichT21p[\"MONDO_complete_trisomy_21\"]==1]\n",
    "participantswithRNAandcompleteT21 = participantswithRNA[participantswithRNA[0].isin(completeT21p.index)]\n",
    "participantswithRNAandcompleteT21.to_csv(outdir+\"include_participants_with_RNA_and_completeT21.csv\", header=False, index=False)\n",
    "fnwithRNAandcompleteT21 = fnwithRNA[fnwithRNA[0].isin(completeT21fn.index)]\n",
    "fnwithRNAandcompleteT21.to_csv(outdir+\"include_filenames_with_RNA_and_completeT21.csv\", header=False, index=False)\n"
   ]
  },
  {
   "cell_type": "code",
   "execution_count": 339,
   "id": "2d2d2bca-5dec-4e10-b93a-b32caeb9b38e",
   "metadata": {},
   "outputs": [],
   "source": [
    "# Chr21 genes"
   ]
  },
  {
   "cell_type": "code",
   "execution_count": 340,
   "id": "fa032963-a8c7-43ee-a109-2a89d02a4f42",
   "metadata": {},
   "outputs": [
    {
     "data": {
      "text/html": [
       "<div>\n",
       "<style scoped>\n",
       "    .dataframe tbody tr th:only-of-type {\n",
       "        vertical-align: middle;\n",
       "    }\n",
       "\n",
       "    .dataframe tbody tr th {\n",
       "        vertical-align: top;\n",
       "    }\n",
       "\n",
       "    .dataframe thead th {\n",
       "        text-align: right;\n",
       "    }\n",
       "</style>\n",
       "<table border=\"1\" class=\"dataframe\">\n",
       "  <thead>\n",
       "    <tr style=\"text-align: right;\">\n",
       "      <th></th>\n",
       "      <th>Unnamed: 0</th>\n",
       "      <th>seqnames</th>\n",
       "      <th>start</th>\n",
       "      <th>end</th>\n",
       "      <th>width</th>\n",
       "      <th>strand</th>\n",
       "      <th>source</th>\n",
       "      <th>type</th>\n",
       "      <th>gene_id</th>\n",
       "      <th>gene_version</th>\n",
       "      <th>gene_name</th>\n",
       "      <th>gene_source</th>\n",
       "      <th>gene_biotype</th>\n",
       "    </tr>\n",
       "  </thead>\n",
       "  <tbody>\n",
       "    <tr>\n",
       "      <th>0</th>\n",
       "      <td>1</td>\n",
       "      <td>1</td>\n",
       "      <td>11869</td>\n",
       "      <td>14409</td>\n",
       "      <td>2541</td>\n",
       "      <td>+</td>\n",
       "      <td>havana</td>\n",
       "      <td>gene</td>\n",
       "      <td>ENSG00000223972</td>\n",
       "      <td>5</td>\n",
       "      <td>DDX11L1</td>\n",
       "      <td>havana</td>\n",
       "      <td>transcribed_unprocessed_pseudogene</td>\n",
       "    </tr>\n",
       "    <tr>\n",
       "      <th>1</th>\n",
       "      <td>2</td>\n",
       "      <td>1</td>\n",
       "      <td>14404</td>\n",
       "      <td>29570</td>\n",
       "      <td>15167</td>\n",
       "      <td>-</td>\n",
       "      <td>havana</td>\n",
       "      <td>gene</td>\n",
       "      <td>ENSG00000227232</td>\n",
       "      <td>5</td>\n",
       "      <td>WASH7P</td>\n",
       "      <td>havana</td>\n",
       "      <td>unprocessed_pseudogene</td>\n",
       "    </tr>\n",
       "    <tr>\n",
       "      <th>2</th>\n",
       "      <td>3</td>\n",
       "      <td>1</td>\n",
       "      <td>17369</td>\n",
       "      <td>17436</td>\n",
       "      <td>68</td>\n",
       "      <td>-</td>\n",
       "      <td>mirbase</td>\n",
       "      <td>gene</td>\n",
       "      <td>ENSG00000278267</td>\n",
       "      <td>1</td>\n",
       "      <td>MIR6859-1</td>\n",
       "      <td>mirbase</td>\n",
       "      <td>miRNA</td>\n",
       "    </tr>\n",
       "    <tr>\n",
       "      <th>3</th>\n",
       "      <td>4</td>\n",
       "      <td>1</td>\n",
       "      <td>29554</td>\n",
       "      <td>31109</td>\n",
       "      <td>1556</td>\n",
       "      <td>+</td>\n",
       "      <td>havana</td>\n",
       "      <td>gene</td>\n",
       "      <td>ENSG00000243485</td>\n",
       "      <td>5</td>\n",
       "      <td>MIR1302-2HG</td>\n",
       "      <td>havana</td>\n",
       "      <td>lincRNA</td>\n",
       "    </tr>\n",
       "    <tr>\n",
       "      <th>4</th>\n",
       "      <td>5</td>\n",
       "      <td>1</td>\n",
       "      <td>30366</td>\n",
       "      <td>30503</td>\n",
       "      <td>138</td>\n",
       "      <td>+</td>\n",
       "      <td>mirbase</td>\n",
       "      <td>gene</td>\n",
       "      <td>ENSG00000284332</td>\n",
       "      <td>1</td>\n",
       "      <td>MIR1302-2</td>\n",
       "      <td>mirbase</td>\n",
       "      <td>miRNA</td>\n",
       "    </tr>\n",
       "    <tr>\n",
       "      <th>...</th>\n",
       "      <td>...</td>\n",
       "      <td>...</td>\n",
       "      <td>...</td>\n",
       "      <td>...</td>\n",
       "      <td>...</td>\n",
       "      <td>...</td>\n",
       "      <td>...</td>\n",
       "      <td>...</td>\n",
       "      <td>...</td>\n",
       "      <td>...</td>\n",
       "      <td>...</td>\n",
       "      <td>...</td>\n",
       "      <td>...</td>\n",
       "    </tr>\n",
       "    <tr>\n",
       "      <th>58730</th>\n",
       "      <td>58731</td>\n",
       "      <td>KI270711.1</td>\n",
       "      <td>4612</td>\n",
       "      <td>29626</td>\n",
       "      <td>25015</td>\n",
       "      <td>-</td>\n",
       "      <td>ensembl</td>\n",
       "      <td>gene</td>\n",
       "      <td>ENSG00000271254</td>\n",
       "      <td>6</td>\n",
       "      <td>AC240274.1</td>\n",
       "      <td>ensembl</td>\n",
       "      <td>protein_coding</td>\n",
       "    </tr>\n",
       "    <tr>\n",
       "      <th>58731</th>\n",
       "      <td>58732</td>\n",
       "      <td>KI270713.1</td>\n",
       "      <td>21861</td>\n",
       "      <td>22024</td>\n",
       "      <td>164</td>\n",
       "      <td>-</td>\n",
       "      <td>ensembl</td>\n",
       "      <td>gene</td>\n",
       "      <td>ENSG00000275405</td>\n",
       "      <td>1</td>\n",
       "      <td>RF00003</td>\n",
       "      <td>ensembl</td>\n",
       "      <td>snRNA</td>\n",
       "    </tr>\n",
       "    <tr>\n",
       "      <th>58732</th>\n",
       "      <td>58733</td>\n",
       "      <td>KI270713.1</td>\n",
       "      <td>30437</td>\n",
       "      <td>30580</td>\n",
       "      <td>144</td>\n",
       "      <td>-</td>\n",
       "      <td>ensembl</td>\n",
       "      <td>gene</td>\n",
       "      <td>ENSG00000275987</td>\n",
       "      <td>1</td>\n",
       "      <td>RF00003</td>\n",
       "      <td>ensembl</td>\n",
       "      <td>snRNA</td>\n",
       "    </tr>\n",
       "    <tr>\n",
       "      <th>58733</th>\n",
       "      <td>58734</td>\n",
       "      <td>KI270713.1</td>\n",
       "      <td>31698</td>\n",
       "      <td>32528</td>\n",
       "      <td>831</td>\n",
       "      <td>-</td>\n",
       "      <td>ensembl</td>\n",
       "      <td>gene</td>\n",
       "      <td>ENSG00000277475</td>\n",
       "      <td>1</td>\n",
       "      <td>AC213203.2</td>\n",
       "      <td>ensembl</td>\n",
       "      <td>protein_coding</td>\n",
       "    </tr>\n",
       "    <tr>\n",
       "      <th>58734</th>\n",
       "      <td>58735</td>\n",
       "      <td>KI270713.1</td>\n",
       "      <td>35407</td>\n",
       "      <td>35916</td>\n",
       "      <td>510</td>\n",
       "      <td>+</td>\n",
       "      <td>ensembl</td>\n",
       "      <td>gene</td>\n",
       "      <td>ENSG00000268674</td>\n",
       "      <td>2</td>\n",
       "      <td>AC213203.1</td>\n",
       "      <td>ensembl</td>\n",
       "      <td>protein_coding</td>\n",
       "    </tr>\n",
       "  </tbody>\n",
       "</table>\n",
       "<p>58735 rows × 13 columns</p>\n",
       "</div>"
      ],
      "text/plain": [
       "       Unnamed: 0    seqnames  start    end  width strand   source  type  \\\n",
       "0               1           1  11869  14409   2541      +   havana  gene   \n",
       "1               2           1  14404  29570  15167      -   havana  gene   \n",
       "2               3           1  17369  17436     68      -  mirbase  gene   \n",
       "3               4           1  29554  31109   1556      +   havana  gene   \n",
       "4               5           1  30366  30503    138      +  mirbase  gene   \n",
       "...           ...         ...    ...    ...    ...    ...      ...   ...   \n",
       "58730       58731  KI270711.1   4612  29626  25015      -  ensembl  gene   \n",
       "58731       58732  KI270713.1  21861  22024    164      -  ensembl  gene   \n",
       "58732       58733  KI270713.1  30437  30580    144      -  ensembl  gene   \n",
       "58733       58734  KI270713.1  31698  32528    831      -  ensembl  gene   \n",
       "58734       58735  KI270713.1  35407  35916    510      +  ensembl  gene   \n",
       "\n",
       "               gene_id  gene_version    gene_name gene_source  \\\n",
       "0      ENSG00000223972             5      DDX11L1      havana   \n",
       "1      ENSG00000227232             5       WASH7P      havana   \n",
       "2      ENSG00000278267             1    MIR6859-1     mirbase   \n",
       "3      ENSG00000243485             5  MIR1302-2HG      havana   \n",
       "4      ENSG00000284332             1    MIR1302-2     mirbase   \n",
       "...                ...           ...          ...         ...   \n",
       "58730  ENSG00000271254             6   AC240274.1     ensembl   \n",
       "58731  ENSG00000275405             1      RF00003     ensembl   \n",
       "58732  ENSG00000275987             1      RF00003     ensembl   \n",
       "58733  ENSG00000277475             1   AC213203.2     ensembl   \n",
       "58734  ENSG00000268674             2   AC213203.1     ensembl   \n",
       "\n",
       "                             gene_biotype  \n",
       "0      transcribed_unprocessed_pseudogene  \n",
       "1                  unprocessed_pseudogene  \n",
       "2                                   miRNA  \n",
       "3                                 lincRNA  \n",
       "4                                   miRNA  \n",
       "...                                   ...  \n",
       "58730                      protein_coding  \n",
       "58731                               snRNA  \n",
       "58732                               snRNA  \n",
       "58733                      protein_coding  \n",
       "58734                      protein_coding  \n",
       "\n",
       "[58735 rows x 13 columns]"
      ]
     },
     "execution_count": 340,
     "metadata": {},
     "output_type": "execute_result"
    }
   ],
   "source": [
    "genesdf = pd.read_csv(genefile)\n",
    "genesdf"
   ]
  },
  {
   "cell_type": "code",
   "execution_count": 341,
   "id": "fe33a68d-8158-4154-86f2-1081231888ff",
   "metadata": {},
   "outputs": [
    {
     "data": {
      "text/plain": [
       "(833, 13)"
      ]
     },
     "execution_count": 341,
     "metadata": {},
     "output_type": "execute_result"
    }
   ],
   "source": [
    "genesdfchr21 = genesdf[genesdf[\"seqnames\"]==\"21\"]\n",
    "genesdfchr21.shape"
   ]
  },
  {
   "cell_type": "code",
   "execution_count": 342,
   "id": "c83134b9-3547-4f3b-81a0-33f66127c512",
   "metadata": {},
   "outputs": [],
   "source": [
    "genenamechr21 = genesdfchr21[[\"gene_id\"]].copy()\n",
    "genenamechr21.to_csv(outdir+\"include_rank_file_chr21only.csv\", header=False, index=False)"
   ]
  },
  {
   "cell_type": "code",
   "execution_count": 343,
   "id": "99c3c469-e395-4c87-a08d-f4e99e6e5ab6",
   "metadata": {},
   "outputs": [],
   "source": [
    "geneids_RNAdf = pd.DataFrame([gid for gid in value_df.columns if gid!=\"FileName\"])\n",
    "geneids_RNAdf.columns = [\"gene_id_version\"]\n",
    "geneids_RNAdf[['gene_id', 'RNA_gene_version']] = geneids_RNAdf['gene_id_version'].str.split('.', n=1, expand=True)\n",
    "geneids_RNAdf = geneids_RNAdf.merge(genesdfchr21, how=\"inner\", on=\"gene_id\")"
   ]
  },
  {
   "cell_type": "code",
   "execution_count": 344,
   "id": "85fcdb60-8a1e-4ce8-9632-e4fd08cc1e7e",
   "metadata": {},
   "outputs": [
    {
     "data": {
      "text/plain": [
       "0      ENSG00000141956.13\n",
       "1      ENSG00000141959.16\n",
       "2       ENSG00000142149.8\n",
       "3      ENSG00000142156.14\n",
       "4      ENSG00000142166.12\n",
       "              ...        \n",
       "826     ENSG00000283051.1\n",
       "827     ENSG00000283300.1\n",
       "828     ENSG00000283904.1\n",
       "829     ENSG00000284448.1\n",
       "830     ENSG00000284550.1\n",
       "Name: gene_id_version, Length: 831, dtype: object"
      ]
     },
     "execution_count": 344,
     "metadata": {},
     "output_type": "execute_result"
    }
   ],
   "source": [
    "geneids_RNAdf[\"gene_id_version\"]"
   ]
  },
  {
   "cell_type": "code",
   "execution_count": 345,
   "id": "4cdd2212-1a8e-49dc-8a7c-d811d684f2b5",
   "metadata": {},
   "outputs": [],
   "source": [
    "geneids_RNAdf[[\"gene_id_version\"]].to_csv(outdir+\"include_rank_cols_chr21.csv\", header=False, index=False)\n"
   ]
  },
  {
   "cell_type": "code",
   "execution_count": null,
   "id": "f502aebf-de7c-4abf-8f95-90457e374524",
   "metadata": {},
   "outputs": [],
   "source": []
  },
  {
   "cell_type": "code",
   "execution_count": null,
   "id": "d244b3ec-3535-41cb-b6e2-38c095b0b8b6",
   "metadata": {},
   "outputs": [],
   "source": []
  }
 ],
 "metadata": {
  "kernelspec": {
   "display_name": "Python 3 (ipykernel)",
   "language": "python",
   "name": "python3"
  },
  "language_info": {
   "codemirror_mode": {
    "name": "ipython",
    "version": 3
   },
   "file_extension": ".py",
   "mimetype": "text/x-python",
   "name": "python",
   "nbconvert_exporter": "python",
   "pygments_lexer": "ipython3",
   "version": "3.9.18"
  }
 },
 "nbformat": 4,
 "nbformat_minor": 5
}
