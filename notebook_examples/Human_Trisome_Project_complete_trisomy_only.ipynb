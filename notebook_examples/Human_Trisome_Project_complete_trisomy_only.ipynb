{
 "cells": [
  {
   "cell_type": "markdown",
   "metadata": {
    "colab_type": "text",
    "id": "view-in-github"
   },
   "source": [
    "<a href=\"https://colab.research.google.com/github/Dowell-Lab/psea/blob/main/notebook_examples/Human_Trisome_Project_complete_trisomy_only.ipynb\" target=\"_parent\"><img src=\"https://colab.research.google.com/assets/colab-badge.svg\" alt=\"Open In Colab\"/></a>"
   ]
  },
  {
   "cell_type": "markdown",
   "metadata": {
    "id": "gDej244B0hW3"
   },
   "source": [
    "# The first time you run a notebook, you need to install the packages necessary for the notebook."
   ]
  },
  {
   "cell_type": "markdown",
   "metadata": {
    "id": "vOTJFtLF0u_W"
   },
   "source": [
    "To do that, remove the # from the lines that start with !pip in the box below. Then, run the code in the box below. The code will start running and say it is installing the packages. After the package is installed, comment out the line again (add back the #). Finally, click runtime and restart session. You should not need to do that again if you have already run the code in this notebook."
   ]
  },
  {
   "cell_type": "code",
   "execution_count": 7,
   "metadata": {
    "id": "ZwA2Tt5ZfsHO"
   },
   "outputs": [],
   "source": [
    "#to output figures from this notebook to google drive you must run the line below\n",
    "#!pip install -U kaleido\n",
    "# After you have run this make sure you\n",
    "#Runtime > Restart Session"
   ]
  },
  {
   "cell_type": "markdown",
   "metadata": {
    "id": "JlJplvRl10yK"
   },
   "source": [
    "# This is where we import the packages we will need."
   ]
  },
  {
   "cell_type": "code",
   "execution_count": 8,
   "metadata": {
    "id": "VQm3yHDlJrhm"
   },
   "outputs": [
    {
     "ename": "ModuleNotFoundError",
     "evalue": "No module named 'kaleido'",
     "output_type": "error",
     "traceback": [
      "\u001b[0;31m---------------------------------------------------------------------------\u001b[0m",
      "\u001b[0;31mModuleNotFoundError\u001b[0m                       Traceback (most recent call last)",
      "Cell \u001b[0;32mIn[8], line 4\u001b[0m\n\u001b[1;32m      2\u001b[0m \u001b[38;5;28;01mimport\u001b[39;00m \u001b[38;5;21;01mrequests\u001b[39;00m\n\u001b[1;32m      3\u001b[0m \u001b[38;5;28;01mimport\u001b[39;00m \u001b[38;5;21;01mplotly\u001b[39;00m\u001b[38;5;21;01m.\u001b[39;00m\u001b[38;5;21;01mexpress\u001b[39;00m \u001b[38;5;28;01mas\u001b[39;00m \u001b[38;5;21;01mpx\u001b[39;00m\n\u001b[0;32m----> 4\u001b[0m \u001b[38;5;28;01mimport\u001b[39;00m \u001b[38;5;21;01mkaleido\u001b[39;00m\n\u001b[1;32m      5\u001b[0m \u001b[38;5;28;01mfrom\u001b[39;00m \u001b[38;5;21;01mgoogle\u001b[39;00m\u001b[38;5;21;01m.\u001b[39;00m\u001b[38;5;21;01mcolab\u001b[39;00m \u001b[38;5;28;01mimport\u001b[39;00m drive\n",
      "\u001b[0;31mModuleNotFoundError\u001b[0m: No module named 'kaleido'"
     ]
    }
   ],
   "source": [
    "import pandas as pd\n",
    "import requests\n",
    "import plotly.express as px\n",
    "import kaleido\n",
    "from google.colab import drive"
   ]
  },
  {
   "cell_type": "markdown",
   "metadata": {
    "id": "Ut6D6icJ7U92"
   },
   "source": [
    "## Advanced users: Why do we only have to install a package once, but we have to import it every time?"
   ]
  },
  {
   "cell_type": "markdown",
   "metadata": {
    "id": "LpVLLLQT1-5j"
   },
   "source": [
    "# This is where we load the data we will use."
   ]
  },
  {
   "cell_type": "code",
   "execution_count": 13,
   "metadata": {
    "id": "NefMstqM410y"
   },
   "outputs": [],
   "source": [
    "#this brings in the medical disorders for all the individuals with Trisomy 21 in the Human Trisome Project\n",
    "url = \"https://raw.githubusercontent.com/Dowell-Lab/psea/refs/heads/main/testdata/comorbid_file.csv\"\n",
    "comorbid_df = pd.read_csv(url, index_col=0)\n",
    "\n"
   ]
  },
  {
   "cell_type": "code",
   "execution_count": 14,
   "metadata": {
    "id": "3UBHYr-QLQEL"
   },
   "outputs": [],
   "source": [
    "#This brings in the normalized counts for all the individuals with Trisomy 21 in the Human Trisome Project. These are not the real count data but are similar to reall count data.\n",
    "#df=pd.read_csv('/content/drive/MyDrive/normcounts.csv')\n",
    "url_counts=\"https://media.githubusercontent.com/media/Dowell-Lab/psea/refs/heads/main/testdata/value_expression_large.csv\"\n",
    "gene_exp_df=pd.read_csv(url_counts, index_col=0)\n"
   ]
  },
  {
   "cell_type": "markdown",
   "metadata": {
    "id": "wfA1RrFU2FMm"
   },
   "source": [
    "# You can look at the data by running the box with variable name you made above."
   ]
  },
  {
   "cell_type": "code",
   "execution_count": 15,
   "metadata": {
    "colab": {
     "base_uri": "https://localhost:8080/",
     "height": 461
    },
    "id": "FlBLYlMZ2MGO",
    "outputId": "70aafbdc-6a1e-4092-94b7-59be6a910070"
   },
   "outputs": [
    {
     "data": {
      "text/html": [
       "<div>\n",
       "<style scoped>\n",
       "    .dataframe tbody tr th:only-of-type {\n",
       "        vertical-align: middle;\n",
       "    }\n",
       "\n",
       "    .dataframe tbody tr th {\n",
       "        vertical-align: top;\n",
       "    }\n",
       "\n",
       "    .dataframe thead th {\n",
       "        text-align: right;\n",
       "    }\n",
       "</style>\n",
       "<table border=\"1\" class=\"dataframe\">\n",
       "  <thead>\n",
       "    <tr style=\"text-align: right;\">\n",
       "      <th></th>\n",
       "      <th>Patient</th>\n",
       "      <th>complete_trisomy_21</th>\n",
       "      <th>congenital_heart_disease</th>\n",
       "      <th>hypothyroidism</th>\n",
       "      <th>sleep_apnea_syndrome</th>\n",
       "      <th>obstructive_sleep_apnea_syndrome</th>\n",
       "      <th>atrial_septal_defect</th>\n",
       "      <th>skeletal_system_disorder</th>\n",
       "      <th>atopic_eczema</th>\n",
       "      <th>ventricular_septal_defect</th>\n",
       "      <th>...</th>\n",
       "      <th>juvenile_idiopathic_arthritis</th>\n",
       "      <th>long_QT_syndrome</th>\n",
       "      <th>mosaic_translocation_Down_syndrome</th>\n",
       "      <th>parkinsonian_disorder</th>\n",
       "      <th>pyridoxine_deficiency_anemia</th>\n",
       "      <th>schizophrenia</th>\n",
       "      <th>separation_anxiety_disorder</th>\n",
       "      <th>stereotypic_movement_disorder</th>\n",
       "      <th>testicular_cancer</th>\n",
       "      <th>Tourette_syndrome</th>\n",
       "    </tr>\n",
       "  </thead>\n",
       "  <tbody>\n",
       "    <tr>\n",
       "      <th>2</th>\n",
       "      <td>pt-01qcpze4</td>\n",
       "      <td>1</td>\n",
       "      <td>0</td>\n",
       "      <td>1</td>\n",
       "      <td>1</td>\n",
       "      <td>1</td>\n",
       "      <td>0</td>\n",
       "      <td>1</td>\n",
       "      <td>1</td>\n",
       "      <td>0</td>\n",
       "      <td>...</td>\n",
       "      <td>0</td>\n",
       "      <td>0</td>\n",
       "      <td>0</td>\n",
       "      <td>0</td>\n",
       "      <td>0</td>\n",
       "      <td>0</td>\n",
       "      <td>0</td>\n",
       "      <td>0</td>\n",
       "      <td>0</td>\n",
       "      <td>0</td>\n",
       "    </tr>\n",
       "    <tr>\n",
       "      <th>3</th>\n",
       "      <td>pt-049kaxj5</td>\n",
       "      <td>1</td>\n",
       "      <td>1</td>\n",
       "      <td>0</td>\n",
       "      <td>1</td>\n",
       "      <td>1</td>\n",
       "      <td>0</td>\n",
       "      <td>1</td>\n",
       "      <td>0</td>\n",
       "      <td>0</td>\n",
       "      <td>...</td>\n",
       "      <td>0</td>\n",
       "      <td>0</td>\n",
       "      <td>0</td>\n",
       "      <td>0</td>\n",
       "      <td>0</td>\n",
       "      <td>0</td>\n",
       "      <td>0</td>\n",
       "      <td>0</td>\n",
       "      <td>0</td>\n",
       "      <td>0</td>\n",
       "    </tr>\n",
       "    <tr>\n",
       "      <th>4</th>\n",
       "      <td>pt-081x47b5</td>\n",
       "      <td>1</td>\n",
       "      <td>1</td>\n",
       "      <td>0</td>\n",
       "      <td>0</td>\n",
       "      <td>0</td>\n",
       "      <td>0</td>\n",
       "      <td>0</td>\n",
       "      <td>0</td>\n",
       "      <td>1</td>\n",
       "      <td>...</td>\n",
       "      <td>0</td>\n",
       "      <td>0</td>\n",
       "      <td>0</td>\n",
       "      <td>0</td>\n",
       "      <td>0</td>\n",
       "      <td>0</td>\n",
       "      <td>0</td>\n",
       "      <td>0</td>\n",
       "      <td>0</td>\n",
       "      <td>0</td>\n",
       "    </tr>\n",
       "    <tr>\n",
       "      <th>5</th>\n",
       "      <td>pt-08qxc61x</td>\n",
       "      <td>1</td>\n",
       "      <td>0</td>\n",
       "      <td>0</td>\n",
       "      <td>1</td>\n",
       "      <td>0</td>\n",
       "      <td>0</td>\n",
       "      <td>0</td>\n",
       "      <td>0</td>\n",
       "      <td>0</td>\n",
       "      <td>...</td>\n",
       "      <td>0</td>\n",
       "      <td>0</td>\n",
       "      <td>0</td>\n",
       "      <td>0</td>\n",
       "      <td>0</td>\n",
       "      <td>0</td>\n",
       "      <td>0</td>\n",
       "      <td>0</td>\n",
       "      <td>0</td>\n",
       "      <td>0</td>\n",
       "    </tr>\n",
       "    <tr>\n",
       "      <th>8</th>\n",
       "      <td>pt-0e3fehnr</td>\n",
       "      <td>1</td>\n",
       "      <td>0</td>\n",
       "      <td>1</td>\n",
       "      <td>0</td>\n",
       "      <td>0</td>\n",
       "      <td>0</td>\n",
       "      <td>0</td>\n",
       "      <td>0</td>\n",
       "      <td>0</td>\n",
       "      <td>...</td>\n",
       "      <td>0</td>\n",
       "      <td>0</td>\n",
       "      <td>0</td>\n",
       "      <td>0</td>\n",
       "      <td>0</td>\n",
       "      <td>0</td>\n",
       "      <td>0</td>\n",
       "      <td>0</td>\n",
       "      <td>0</td>\n",
       "      <td>0</td>\n",
       "    </tr>\n",
       "    <tr>\n",
       "      <th>...</th>\n",
       "      <td>...</td>\n",
       "      <td>...</td>\n",
       "      <td>...</td>\n",
       "      <td>...</td>\n",
       "      <td>...</td>\n",
       "      <td>...</td>\n",
       "      <td>...</td>\n",
       "      <td>...</td>\n",
       "      <td>...</td>\n",
       "      <td>...</td>\n",
       "      <td>...</td>\n",
       "      <td>...</td>\n",
       "      <td>...</td>\n",
       "      <td>...</td>\n",
       "      <td>...</td>\n",
       "      <td>...</td>\n",
       "      <td>...</td>\n",
       "      <td>...</td>\n",
       "      <td>...</td>\n",
       "      <td>...</td>\n",
       "      <td>...</td>\n",
       "    </tr>\n",
       "    <tr>\n",
       "      <th>686</th>\n",
       "      <td>pt-za2fve7f</td>\n",
       "      <td>1</td>\n",
       "      <td>0</td>\n",
       "      <td>1</td>\n",
       "      <td>1</td>\n",
       "      <td>1</td>\n",
       "      <td>0</td>\n",
       "      <td>1</td>\n",
       "      <td>1</td>\n",
       "      <td>0</td>\n",
       "      <td>...</td>\n",
       "      <td>0</td>\n",
       "      <td>0</td>\n",
       "      <td>0</td>\n",
       "      <td>0</td>\n",
       "      <td>0</td>\n",
       "      <td>0</td>\n",
       "      <td>0</td>\n",
       "      <td>0</td>\n",
       "      <td>0</td>\n",
       "      <td>0</td>\n",
       "    </tr>\n",
       "    <tr>\n",
       "      <th>687</th>\n",
       "      <td>pt-zdchddxn</td>\n",
       "      <td>1</td>\n",
       "      <td>0</td>\n",
       "      <td>0</td>\n",
       "      <td>1</td>\n",
       "      <td>0</td>\n",
       "      <td>0</td>\n",
       "      <td>0</td>\n",
       "      <td>0</td>\n",
       "      <td>0</td>\n",
       "      <td>...</td>\n",
       "      <td>0</td>\n",
       "      <td>0</td>\n",
       "      <td>0</td>\n",
       "      <td>0</td>\n",
       "      <td>0</td>\n",
       "      <td>0</td>\n",
       "      <td>0</td>\n",
       "      <td>0</td>\n",
       "      <td>0</td>\n",
       "      <td>0</td>\n",
       "    </tr>\n",
       "    <tr>\n",
       "      <th>691</th>\n",
       "      <td>pt-zmqyrma5</td>\n",
       "      <td>1</td>\n",
       "      <td>1</td>\n",
       "      <td>1</td>\n",
       "      <td>1</td>\n",
       "      <td>0</td>\n",
       "      <td>1</td>\n",
       "      <td>0</td>\n",
       "      <td>0</td>\n",
       "      <td>1</td>\n",
       "      <td>...</td>\n",
       "      <td>0</td>\n",
       "      <td>0</td>\n",
       "      <td>0</td>\n",
       "      <td>0</td>\n",
       "      <td>0</td>\n",
       "      <td>0</td>\n",
       "      <td>0</td>\n",
       "      <td>0</td>\n",
       "      <td>0</td>\n",
       "      <td>0</td>\n",
       "    </tr>\n",
       "    <tr>\n",
       "      <th>692</th>\n",
       "      <td>pt-zpk50nrb</td>\n",
       "      <td>1</td>\n",
       "      <td>0</td>\n",
       "      <td>0</td>\n",
       "      <td>1</td>\n",
       "      <td>0</td>\n",
       "      <td>0</td>\n",
       "      <td>0</td>\n",
       "      <td>1</td>\n",
       "      <td>0</td>\n",
       "      <td>...</td>\n",
       "      <td>0</td>\n",
       "      <td>0</td>\n",
       "      <td>0</td>\n",
       "      <td>0</td>\n",
       "      <td>0</td>\n",
       "      <td>0</td>\n",
       "      <td>0</td>\n",
       "      <td>0</td>\n",
       "      <td>0</td>\n",
       "      <td>0</td>\n",
       "    </tr>\n",
       "    <tr>\n",
       "      <th>696</th>\n",
       "      <td>pt-zx7vfz9z</td>\n",
       "      <td>1</td>\n",
       "      <td>1</td>\n",
       "      <td>1</td>\n",
       "      <td>1</td>\n",
       "      <td>1</td>\n",
       "      <td>1</td>\n",
       "      <td>0</td>\n",
       "      <td>0</td>\n",
       "      <td>1</td>\n",
       "      <td>...</td>\n",
       "      <td>0</td>\n",
       "      <td>0</td>\n",
       "      <td>0</td>\n",
       "      <td>0</td>\n",
       "      <td>0</td>\n",
       "      <td>0</td>\n",
       "      <td>0</td>\n",
       "      <td>0</td>\n",
       "      <td>0</td>\n",
       "      <td>0</td>\n",
       "    </tr>\n",
       "  </tbody>\n",
       "</table>\n",
       "<p>254 rows × 147 columns</p>\n",
       "</div>"
      ],
      "text/plain": [
       "         Patient  complete_trisomy_21  congenital_heart_disease  \\\n",
       "2    pt-01qcpze4                    1                         0   \n",
       "3    pt-049kaxj5                    1                         1   \n",
       "4    pt-081x47b5                    1                         1   \n",
       "5    pt-08qxc61x                    1                         0   \n",
       "8    pt-0e3fehnr                    1                         0   \n",
       "..           ...                  ...                       ...   \n",
       "686  pt-za2fve7f                    1                         0   \n",
       "687  pt-zdchddxn                    1                         0   \n",
       "691  pt-zmqyrma5                    1                         1   \n",
       "692  pt-zpk50nrb                    1                         0   \n",
       "696  pt-zx7vfz9z                    1                         1   \n",
       "\n",
       "     hypothyroidism  sleep_apnea_syndrome  obstructive_sleep_apnea_syndrome  \\\n",
       "2                 1                     1                                 1   \n",
       "3                 0                     1                                 1   \n",
       "4                 0                     0                                 0   \n",
       "5                 0                     1                                 0   \n",
       "8                 1                     0                                 0   \n",
       "..              ...                   ...                               ...   \n",
       "686               1                     1                                 1   \n",
       "687               0                     1                                 0   \n",
       "691               1                     1                                 0   \n",
       "692               0                     1                                 0   \n",
       "696               1                     1                                 1   \n",
       "\n",
       "     atrial_septal_defect  skeletal_system_disorder  atopic_eczema  \\\n",
       "2                       0                         1              1   \n",
       "3                       0                         1              0   \n",
       "4                       0                         0              0   \n",
       "5                       0                         0              0   \n",
       "8                       0                         0              0   \n",
       "..                    ...                       ...            ...   \n",
       "686                     0                         1              1   \n",
       "687                     0                         0              0   \n",
       "691                     1                         0              0   \n",
       "692                     0                         0              1   \n",
       "696                     1                         0              0   \n",
       "\n",
       "     ventricular_septal_defect  ...  juvenile_idiopathic_arthritis  \\\n",
       "2                            0  ...                              0   \n",
       "3                            0  ...                              0   \n",
       "4                            1  ...                              0   \n",
       "5                            0  ...                              0   \n",
       "8                            0  ...                              0   \n",
       "..                         ...  ...                            ...   \n",
       "686                          0  ...                              0   \n",
       "687                          0  ...                              0   \n",
       "691                          1  ...                              0   \n",
       "692                          0  ...                              0   \n",
       "696                          1  ...                              0   \n",
       "\n",
       "     long_QT_syndrome  mosaic_translocation_Down_syndrome  \\\n",
       "2                   0                                   0   \n",
       "3                   0                                   0   \n",
       "4                   0                                   0   \n",
       "5                   0                                   0   \n",
       "8                   0                                   0   \n",
       "..                ...                                 ...   \n",
       "686                 0                                   0   \n",
       "687                 0                                   0   \n",
       "691                 0                                   0   \n",
       "692                 0                                   0   \n",
       "696                 0                                   0   \n",
       "\n",
       "     parkinsonian_disorder  pyridoxine_deficiency_anemia  schizophrenia  \\\n",
       "2                        0                             0              0   \n",
       "3                        0                             0              0   \n",
       "4                        0                             0              0   \n",
       "5                        0                             0              0   \n",
       "8                        0                             0              0   \n",
       "..                     ...                           ...            ...   \n",
       "686                      0                             0              0   \n",
       "687                      0                             0              0   \n",
       "691                      0                             0              0   \n",
       "692                      0                             0              0   \n",
       "696                      0                             0              0   \n",
       "\n",
       "     separation_anxiety_disorder  stereotypic_movement_disorder  \\\n",
       "2                              0                              0   \n",
       "3                              0                              0   \n",
       "4                              0                              0   \n",
       "5                              0                              0   \n",
       "8                              0                              0   \n",
       "..                           ...                            ...   \n",
       "686                            0                              0   \n",
       "687                            0                              0   \n",
       "691                            0                              0   \n",
       "692                            0                              0   \n",
       "696                            0                              0   \n",
       "\n",
       "     testicular_cancer  Tourette_syndrome  \n",
       "2                    0                  0  \n",
       "3                    0                  0  \n",
       "4                    0                  0  \n",
       "5                    0                  0  \n",
       "8                    0                  0  \n",
       "..                 ...                ...  \n",
       "686                  0                  0  \n",
       "687                  0                  0  \n",
       "691                  0                  0  \n",
       "692                  0                  0  \n",
       "696                  0                  0  \n",
       "\n",
       "[254 rows x 147 columns]"
      ]
     },
     "execution_count": 15,
     "metadata": {},
     "output_type": "execute_result"
    }
   ],
   "source": [
    "#In this data frame 0 means someone does not have this, and 1 means someone does have it.\n",
    "comorbid_df"
   ]
  },
  {
   "cell_type": "code",
   "execution_count": 16,
   "metadata": {
    "colab": {
     "base_uri": "https://localhost:8080/",
     "height": 548
    },
    "id": "qrt3BHtF2MtT",
    "outputId": "43d4e2cc-385f-4f71-98c6-8d40268cfb11"
   },
   "outputs": [
    {
     "data": {
      "text/html": [
       "<div>\n",
       "<style scoped>\n",
       "    .dataframe tbody tr th:only-of-type {\n",
       "        vertical-align: middle;\n",
       "    }\n",
       "\n",
       "    .dataframe tbody tr th {\n",
       "        vertical-align: top;\n",
       "    }\n",
       "\n",
       "    .dataframe thead th {\n",
       "        text-align: right;\n",
       "    }\n",
       "</style>\n",
       "<table border=\"1\" class=\"dataframe\">\n",
       "  <thead>\n",
       "    <tr style=\"text-align: right;\">\n",
       "      <th></th>\n",
       "      <th>ENSG00000000003</th>\n",
       "      <th>ENSG00000000005</th>\n",
       "      <th>ENSG00000000419</th>\n",
       "      <th>ENSG00000000457</th>\n",
       "      <th>ENSG00000000460</th>\n",
       "      <th>ENSG00000000938</th>\n",
       "      <th>ENSG00000000971</th>\n",
       "      <th>ENSG00000001036</th>\n",
       "      <th>ENSG00000001084</th>\n",
       "      <th>ENSG00000001167</th>\n",
       "      <th>...</th>\n",
       "      <th>ENSG00000285791</th>\n",
       "      <th>ENSG00000285794</th>\n",
       "      <th>ENSG00000285799</th>\n",
       "      <th>ENSG00000285868</th>\n",
       "      <th>ENSG00000285889</th>\n",
       "      <th>ENSG00000285950</th>\n",
       "      <th>ENSG00000285976</th>\n",
       "      <th>ENSG00000285978</th>\n",
       "      <th>ENSG00000285980</th>\n",
       "      <th>Patient</th>\n",
       "    </tr>\n",
       "  </thead>\n",
       "  <tbody>\n",
       "    <tr>\n",
       "      <th>0</th>\n",
       "      <td>29.511994</td>\n",
       "      <td>0.0</td>\n",
       "      <td>677.093271</td>\n",
       "      <td>874.190945</td>\n",
       "      <td>150.077267</td>\n",
       "      <td>26334.455147</td>\n",
       "      <td>95.024351</td>\n",
       "      <td>578.658908</td>\n",
       "      <td>866.943007</td>\n",
       "      <td>1363.805685</td>\n",
       "      <td>...</td>\n",
       "      <td>10.252511</td>\n",
       "      <td>0.0</td>\n",
       "      <td>0.000000</td>\n",
       "      <td>1.998728</td>\n",
       "      <td>0.000000</td>\n",
       "      <td>0.000000</td>\n",
       "      <td>1370.464093</td>\n",
       "      <td>0.000000</td>\n",
       "      <td>0.0</td>\n",
       "      <td>pt-mv6fmz83</td>\n",
       "    </tr>\n",
       "    <tr>\n",
       "      <th>1</th>\n",
       "      <td>47.903916</td>\n",
       "      <td>0.0</td>\n",
       "      <td>879.069049</td>\n",
       "      <td>930.875180</td>\n",
       "      <td>183.951032</td>\n",
       "      <td>15682.507883</td>\n",
       "      <td>78.464111</td>\n",
       "      <td>537.852927</td>\n",
       "      <td>961.721812</td>\n",
       "      <td>1499.194519</td>\n",
       "      <td>...</td>\n",
       "      <td>1.562467</td>\n",
       "      <td>0.0</td>\n",
       "      <td>0.000000</td>\n",
       "      <td>3.718323</td>\n",
       "      <td>0.000000</td>\n",
       "      <td>0.000000</td>\n",
       "      <td>1259.587492</td>\n",
       "      <td>1.846324</td>\n",
       "      <td>0.0</td>\n",
       "      <td>pt-pb67ypn9</td>\n",
       "    </tr>\n",
       "    <tr>\n",
       "      <th>3</th>\n",
       "      <td>7.905217</td>\n",
       "      <td>0.0</td>\n",
       "      <td>488.503524</td>\n",
       "      <td>818.347118</td>\n",
       "      <td>74.005183</td>\n",
       "      <td>33615.530606</td>\n",
       "      <td>109.863489</td>\n",
       "      <td>851.952538</td>\n",
       "      <td>508.190126</td>\n",
       "      <td>1303.150131</td>\n",
       "      <td>...</td>\n",
       "      <td>0.000000</td>\n",
       "      <td>0.0</td>\n",
       "      <td>0.000000</td>\n",
       "      <td>3.069064</td>\n",
       "      <td>0.000000</td>\n",
       "      <td>0.000000</td>\n",
       "      <td>1050.229812</td>\n",
       "      <td>2.025464</td>\n",
       "      <td>0.0</td>\n",
       "      <td>pt-yky3kj4e</td>\n",
       "    </tr>\n",
       "    <tr>\n",
       "      <th>4</th>\n",
       "      <td>17.685953</td>\n",
       "      <td>0.0</td>\n",
       "      <td>929.965594</td>\n",
       "      <td>918.387410</td>\n",
       "      <td>193.038991</td>\n",
       "      <td>24488.634973</td>\n",
       "      <td>72.569624</td>\n",
       "      <td>650.918678</td>\n",
       "      <td>1109.326807</td>\n",
       "      <td>1458.030493</td>\n",
       "      <td>...</td>\n",
       "      <td>11.676310</td>\n",
       "      <td>0.0</td>\n",
       "      <td>0.940814</td>\n",
       "      <td>0.780242</td>\n",
       "      <td>0.000000</td>\n",
       "      <td>0.000000</td>\n",
       "      <td>1405.753895</td>\n",
       "      <td>0.000000</td>\n",
       "      <td>0.0</td>\n",
       "      <td>pt-bkgw6a6n</td>\n",
       "    </tr>\n",
       "    <tr>\n",
       "      <th>5</th>\n",
       "      <td>11.323561</td>\n",
       "      <td>0.0</td>\n",
       "      <td>325.045816</td>\n",
       "      <td>724.708980</td>\n",
       "      <td>104.653678</td>\n",
       "      <td>36383.471139</td>\n",
       "      <td>47.641928</td>\n",
       "      <td>1073.361378</td>\n",
       "      <td>586.107596</td>\n",
       "      <td>1442.234998</td>\n",
       "      <td>...</td>\n",
       "      <td>3.024999</td>\n",
       "      <td>0.0</td>\n",
       "      <td>0.000000</td>\n",
       "      <td>1.937815</td>\n",
       "      <td>1.927311</td>\n",
       "      <td>0.000000</td>\n",
       "      <td>1126.137152</td>\n",
       "      <td>0.000000</td>\n",
       "      <td>0.0</td>\n",
       "      <td>pt-a2d5sks2</td>\n",
       "    </tr>\n",
       "    <tr>\n",
       "      <th>...</th>\n",
       "      <td>...</td>\n",
       "      <td>...</td>\n",
       "      <td>...</td>\n",
       "      <td>...</td>\n",
       "      <td>...</td>\n",
       "      <td>...</td>\n",
       "      <td>...</td>\n",
       "      <td>...</td>\n",
       "      <td>...</td>\n",
       "      <td>...</td>\n",
       "      <td>...</td>\n",
       "      <td>...</td>\n",
       "      <td>...</td>\n",
       "      <td>...</td>\n",
       "      <td>...</td>\n",
       "      <td>...</td>\n",
       "      <td>...</td>\n",
       "      <td>...</td>\n",
       "      <td>...</td>\n",
       "      <td>...</td>\n",
       "      <td>...</td>\n",
       "    </tr>\n",
       "    <tr>\n",
       "      <th>391</th>\n",
       "      <td>13.076811</td>\n",
       "      <td>0.0</td>\n",
       "      <td>411.902982</td>\n",
       "      <td>1019.786507</td>\n",
       "      <td>178.794343</td>\n",
       "      <td>37095.415078</td>\n",
       "      <td>139.781590</td>\n",
       "      <td>1808.847991</td>\n",
       "      <td>1075.848340</td>\n",
       "      <td>1367.917286</td>\n",
       "      <td>...</td>\n",
       "      <td>11.978000</td>\n",
       "      <td>0.0</td>\n",
       "      <td>0.000000</td>\n",
       "      <td>0.000000</td>\n",
       "      <td>0.000000</td>\n",
       "      <td>0.000000</td>\n",
       "      <td>2636.782273</td>\n",
       "      <td>1.188437</td>\n",
       "      <td>0.0</td>\n",
       "      <td>pt-9gpj6g0y</td>\n",
       "    </tr>\n",
       "    <tr>\n",
       "      <th>394</th>\n",
       "      <td>24.520282</td>\n",
       "      <td>0.0</td>\n",
       "      <td>403.695955</td>\n",
       "      <td>801.196142</td>\n",
       "      <td>122.657871</td>\n",
       "      <td>32767.179262</td>\n",
       "      <td>127.010977</td>\n",
       "      <td>885.978494</td>\n",
       "      <td>690.735888</td>\n",
       "      <td>1332.374582</td>\n",
       "      <td>...</td>\n",
       "      <td>0.000000</td>\n",
       "      <td>0.0</td>\n",
       "      <td>0.000000</td>\n",
       "      <td>4.535087</td>\n",
       "      <td>0.000000</td>\n",
       "      <td>1.125288</td>\n",
       "      <td>1306.103548</td>\n",
       "      <td>0.000000</td>\n",
       "      <td>0.0</td>\n",
       "      <td>pt-2zn12jt2</td>\n",
       "    </tr>\n",
       "    <tr>\n",
       "      <th>395</th>\n",
       "      <td>17.245520</td>\n",
       "      <td>0.0</td>\n",
       "      <td>1031.857085</td>\n",
       "      <td>883.812585</td>\n",
       "      <td>167.355834</td>\n",
       "      <td>33240.011315</td>\n",
       "      <td>128.489847</td>\n",
       "      <td>997.965431</td>\n",
       "      <td>483.363160</td>\n",
       "      <td>1318.513633</td>\n",
       "      <td>...</td>\n",
       "      <td>6.404473</td>\n",
       "      <td>0.0</td>\n",
       "      <td>0.000000</td>\n",
       "      <td>2.262085</td>\n",
       "      <td>0.000000</td>\n",
       "      <td>0.000000</td>\n",
       "      <td>1803.369739</td>\n",
       "      <td>0.000000</td>\n",
       "      <td>0.0</td>\n",
       "      <td>pt-e3jrm51z</td>\n",
       "    </tr>\n",
       "    <tr>\n",
       "      <th>397</th>\n",
       "      <td>36.334698</td>\n",
       "      <td>0.0</td>\n",
       "      <td>729.616718</td>\n",
       "      <td>955.090153</td>\n",
       "      <td>190.333714</td>\n",
       "      <td>28292.970464</td>\n",
       "      <td>70.969152</td>\n",
       "      <td>864.603711</td>\n",
       "      <td>721.255142</td>\n",
       "      <td>1391.264743</td>\n",
       "      <td>...</td>\n",
       "      <td>23.862106</td>\n",
       "      <td>0.0</td>\n",
       "      <td>0.000000</td>\n",
       "      <td>0.000000</td>\n",
       "      <td>0.000000</td>\n",
       "      <td>0.000000</td>\n",
       "      <td>1580.287711</td>\n",
       "      <td>0.000000</td>\n",
       "      <td>0.0</td>\n",
       "      <td>pt-jqfvet2k</td>\n",
       "    </tr>\n",
       "    <tr>\n",
       "      <th>398</th>\n",
       "      <td>30.230726</td>\n",
       "      <td>0.0</td>\n",
       "      <td>832.120160</td>\n",
       "      <td>939.566482</td>\n",
       "      <td>125.426379</td>\n",
       "      <td>27286.655916</td>\n",
       "      <td>131.816722</td>\n",
       "      <td>510.059411</td>\n",
       "      <td>775.502847</td>\n",
       "      <td>1353.861101</td>\n",
       "      <td>...</td>\n",
       "      <td>4.279670</td>\n",
       "      <td>0.0</td>\n",
       "      <td>0.000000</td>\n",
       "      <td>0.000000</td>\n",
       "      <td>0.000000</td>\n",
       "      <td>0.000000</td>\n",
       "      <td>1501.936427</td>\n",
       "      <td>1.023802</td>\n",
       "      <td>0.0</td>\n",
       "      <td>pt-gx8psrwq</td>\n",
       "    </tr>\n",
       "  </tbody>\n",
       "</table>\n",
       "<p>254 rows × 58090 columns</p>\n",
       "</div>"
      ],
      "text/plain": [
       "     ENSG00000000003  ENSG00000000005  ENSG00000000419  ENSG00000000457  \\\n",
       "0          29.511994              0.0       677.093271       874.190945   \n",
       "1          47.903916              0.0       879.069049       930.875180   \n",
       "3           7.905217              0.0       488.503524       818.347118   \n",
       "4          17.685953              0.0       929.965594       918.387410   \n",
       "5          11.323561              0.0       325.045816       724.708980   \n",
       "..               ...              ...              ...              ...   \n",
       "391        13.076811              0.0       411.902982      1019.786507   \n",
       "394        24.520282              0.0       403.695955       801.196142   \n",
       "395        17.245520              0.0      1031.857085       883.812585   \n",
       "397        36.334698              0.0       729.616718       955.090153   \n",
       "398        30.230726              0.0       832.120160       939.566482   \n",
       "\n",
       "     ENSG00000000460  ENSG00000000938  ENSG00000000971  ENSG00000001036  \\\n",
       "0         150.077267     26334.455147        95.024351       578.658908   \n",
       "1         183.951032     15682.507883        78.464111       537.852927   \n",
       "3          74.005183     33615.530606       109.863489       851.952538   \n",
       "4         193.038991     24488.634973        72.569624       650.918678   \n",
       "5         104.653678     36383.471139        47.641928      1073.361378   \n",
       "..               ...              ...              ...              ...   \n",
       "391       178.794343     37095.415078       139.781590      1808.847991   \n",
       "394       122.657871     32767.179262       127.010977       885.978494   \n",
       "395       167.355834     33240.011315       128.489847       997.965431   \n",
       "397       190.333714     28292.970464        70.969152       864.603711   \n",
       "398       125.426379     27286.655916       131.816722       510.059411   \n",
       "\n",
       "     ENSG00000001084  ENSG00000001167  ...  ENSG00000285791  ENSG00000285794  \\\n",
       "0         866.943007      1363.805685  ...        10.252511              0.0   \n",
       "1         961.721812      1499.194519  ...         1.562467              0.0   \n",
       "3         508.190126      1303.150131  ...         0.000000              0.0   \n",
       "4        1109.326807      1458.030493  ...        11.676310              0.0   \n",
       "5         586.107596      1442.234998  ...         3.024999              0.0   \n",
       "..               ...              ...  ...              ...              ...   \n",
       "391      1075.848340      1367.917286  ...        11.978000              0.0   \n",
       "394       690.735888      1332.374582  ...         0.000000              0.0   \n",
       "395       483.363160      1318.513633  ...         6.404473              0.0   \n",
       "397       721.255142      1391.264743  ...        23.862106              0.0   \n",
       "398       775.502847      1353.861101  ...         4.279670              0.0   \n",
       "\n",
       "     ENSG00000285799  ENSG00000285868  ENSG00000285889  ENSG00000285950  \\\n",
       "0           0.000000         1.998728         0.000000         0.000000   \n",
       "1           0.000000         3.718323         0.000000         0.000000   \n",
       "3           0.000000         3.069064         0.000000         0.000000   \n",
       "4           0.940814         0.780242         0.000000         0.000000   \n",
       "5           0.000000         1.937815         1.927311         0.000000   \n",
       "..               ...              ...              ...              ...   \n",
       "391         0.000000         0.000000         0.000000         0.000000   \n",
       "394         0.000000         4.535087         0.000000         1.125288   \n",
       "395         0.000000         2.262085         0.000000         0.000000   \n",
       "397         0.000000         0.000000         0.000000         0.000000   \n",
       "398         0.000000         0.000000         0.000000         0.000000   \n",
       "\n",
       "     ENSG00000285976  ENSG00000285978  ENSG00000285980      Patient  \n",
       "0        1370.464093         0.000000              0.0  pt-mv6fmz83  \n",
       "1        1259.587492         1.846324              0.0  pt-pb67ypn9  \n",
       "3        1050.229812         2.025464              0.0  pt-yky3kj4e  \n",
       "4        1405.753895         0.000000              0.0  pt-bkgw6a6n  \n",
       "5        1126.137152         0.000000              0.0  pt-a2d5sks2  \n",
       "..               ...              ...              ...          ...  \n",
       "391      2636.782273         1.188437              0.0  pt-9gpj6g0y  \n",
       "394      1306.103548         0.000000              0.0  pt-2zn12jt2  \n",
       "395      1803.369739         0.000000              0.0  pt-e3jrm51z  \n",
       "397      1580.287711         0.000000              0.0  pt-jqfvet2k  \n",
       "398      1501.936427         1.023802              0.0  pt-gx8psrwq  \n",
       "\n",
       "[254 rows x 58090 columns]"
      ]
     },
     "execution_count": 16,
     "metadata": {},
     "output_type": "execute_result"
    }
   ],
   "source": [
    "#In this data frame the columns are genes or \"Patient\"\n",
    "#The values are the amount of RNA that person had for that gene.\n",
    "gene_exp_df"
   ]
  },
  {
   "cell_type": "markdown",
   "metadata": {
    "id": "1CPTxnv02Rq4"
   },
   "source": [
    "# This is where I build a function."
   ]
  },
  {
   "cell_type": "markdown",
   "metadata": {
    "id": "rxQsjGoX2pVQ"
   },
   "source": [
    " When you build a function the function does not run, its just ready to be run. The function I built will merge the two data frames and produce a smaller data frame with the patient, the data from one gene and the data for one comorbidity."
   ]
  },
  {
   "cell_type": "code",
   "execution_count": 17,
   "metadata": {
    "id": "-Y6QlrLFMDjp"
   },
   "outputs": [],
   "source": [
    "def make_gene_and_comorbid_df(acomorbid, agene):\n",
    "  onegenedf = gene_exp_df[[agene, \"Patient\"]]\n",
    "  onecomborbiddf = comorbid_df[[acomorbid, \"Patient\"]]\n",
    "  merge_df = onegenedf.merge(onecomborbiddf, on=\"Patient\")\n",
    "  print (\"There are \", merge_df[acomorbid].sum(), \"people with \",comorbid)\n",
    "  print (\"The mean expression of gene \",agene, \" is \", merge_df[agene].mean())\n",
    "  return merge_df"
   ]
  },
  {
   "cell_type": "markdown",
   "metadata": {
    "id": "ZX6HqWK32z7-"
   },
   "source": [
    "To run the code we must choose one gene and one comorbidity. I put several before for you to use. Please remove the # from one comorbidity and one gene. WHen a line says variable=\"value\" and we have run that box, we call that setting a variable."
   ]
  },
  {
   "cell_type": "code",
   "execution_count": 32,
   "metadata": {
    "id": "37qXayXNMIxz"
   },
   "outputs": [],
   "source": [
    "comorbid=\"patent_foramen_ovale\"\n",
    "#comorbid=\"astigmatism\"\n",
    "#comorbid=\"skeletal_system_disorder\"\n",
    "#comorbid=\"patent_ductus_arteriosus\"\n"
   ]
  },
  {
   "cell_type": "code",
   "execution_count": 33,
   "metadata": {},
   "outputs": [],
   "source": [
    "#gene=\"ENSG00000232010\"\n",
    "#gene=\"ENSG00000198743\"\n",
    "#gene=\"ENSG00000000419\"\n",
    "#gene=\"ENSG00000159110\"\n",
    "#gene=\"ENSG00000160310\"\n",
    "gene=\"ENSG00000157557\""
   ]
  },
  {
   "cell_type": "markdown",
   "metadata": {
    "id": "VrLi2G363FSk"
   },
   "source": [
    "If you run a box with that variable it will tell you what you have that variable set it."
   ]
  },
  {
   "cell_type": "code",
   "execution_count": 34,
   "metadata": {
    "colab": {
     "base_uri": "https://localhost:8080/",
     "height": 36
    },
    "id": "4SjizYvQ3LEY",
    "outputId": "23abbaf4-ddf9-4661-c14c-79eb9070fdac"
   },
   "outputs": [
    {
     "data": {
      "text/plain": [
       "'ENSG00000157557'"
      ]
     },
     "execution_count": 34,
     "metadata": {},
     "output_type": "execute_result"
    }
   ],
   "source": [
    "gene"
   ]
  },
  {
   "cell_type": "code",
   "execution_count": 35,
   "metadata": {
    "id": "3biY8h6F7A7q"
   },
   "outputs": [
    {
     "data": {
      "text/plain": [
       "'patent_foramen_ovale'"
      ]
     },
     "execution_count": 35,
     "metadata": {},
     "output_type": "execute_result"
    }
   ],
   "source": [
    "comorbid"
   ]
  },
  {
   "cell_type": "markdown",
   "metadata": {
    "id": "A4TDSaBy7EJH"
   },
   "source": [
    "## Advanced users: what happens if you set two variables to the same variable name such as gene. Does the order you set variable matter?"
   ]
  },
  {
   "cell_type": "markdown",
   "metadata": {
    "id": "NHXJMo5O3Onz"
   },
   "source": [
    "Now we will run the function hat creates a table that just has on comorbidity and one gene expression (RNA level)."
   ]
  },
  {
   "cell_type": "code",
   "execution_count": 36,
   "metadata": {
    "colab": {
     "base_uri": "https://localhost:8080/"
    },
    "id": "qnb3H0x7OSHC",
    "outputId": "c9646d15-17f8-4dd2-82da-7f6ded3ec495"
   },
   "outputs": [
    {
     "name": "stdout",
     "output_type": "stream",
     "text": [
      "There are  34 people with  patent_foramen_ovale\n",
      "The mean expression of gene  ENSG00000157557  is  3602.052466805078\n"
     ]
    }
   ],
   "source": [
    "\n",
    "thisdf = make_gene_and_comorbid_df(comorbid, gene)\n"
   ]
  },
  {
   "cell_type": "markdown",
   "metadata": {
    "id": "lX39I0On31i_"
   },
   "source": [
    "We made a dataframe that has only one gene and one comorbidity in it."
   ]
  },
  {
   "cell_type": "code",
   "execution_count": 37,
   "metadata": {
    "colab": {
     "base_uri": "https://localhost:8080/",
     "height": 424
    },
    "id": "8WXoF4VW38O_",
    "outputId": "66df40a9-55c3-4caa-af2b-339c02dc7d38"
   },
   "outputs": [
    {
     "data": {
      "text/html": [
       "<div>\n",
       "<style scoped>\n",
       "    .dataframe tbody tr th:only-of-type {\n",
       "        vertical-align: middle;\n",
       "    }\n",
       "\n",
       "    .dataframe tbody tr th {\n",
       "        vertical-align: top;\n",
       "    }\n",
       "\n",
       "    .dataframe thead th {\n",
       "        text-align: right;\n",
       "    }\n",
       "</style>\n",
       "<table border=\"1\" class=\"dataframe\">\n",
       "  <thead>\n",
       "    <tr style=\"text-align: right;\">\n",
       "      <th></th>\n",
       "      <th>ENSG00000157557</th>\n",
       "      <th>Patient</th>\n",
       "      <th>patent_foramen_ovale</th>\n",
       "    </tr>\n",
       "  </thead>\n",
       "  <tbody>\n",
       "    <tr>\n",
       "      <th>0</th>\n",
       "      <td>3483.465508</td>\n",
       "      <td>pt-mv6fmz83</td>\n",
       "      <td>1</td>\n",
       "    </tr>\n",
       "    <tr>\n",
       "      <th>1</th>\n",
       "      <td>1712.788189</td>\n",
       "      <td>pt-pb67ypn9</td>\n",
       "      <td>0</td>\n",
       "    </tr>\n",
       "    <tr>\n",
       "      <th>2</th>\n",
       "      <td>5150.558293</td>\n",
       "      <td>pt-yky3kj4e</td>\n",
       "      <td>0</td>\n",
       "    </tr>\n",
       "    <tr>\n",
       "      <th>3</th>\n",
       "      <td>3370.937806</td>\n",
       "      <td>pt-bkgw6a6n</td>\n",
       "      <td>0</td>\n",
       "    </tr>\n",
       "    <tr>\n",
       "      <th>4</th>\n",
       "      <td>3658.492220</td>\n",
       "      <td>pt-a2d5sks2</td>\n",
       "      <td>0</td>\n",
       "    </tr>\n",
       "    <tr>\n",
       "      <th>...</th>\n",
       "      <td>...</td>\n",
       "      <td>...</td>\n",
       "      <td>...</td>\n",
       "    </tr>\n",
       "    <tr>\n",
       "      <th>249</th>\n",
       "      <td>3682.602850</td>\n",
       "      <td>pt-9gpj6g0y</td>\n",
       "      <td>1</td>\n",
       "    </tr>\n",
       "    <tr>\n",
       "      <th>250</th>\n",
       "      <td>3772.421907</td>\n",
       "      <td>pt-2zn12jt2</td>\n",
       "      <td>0</td>\n",
       "    </tr>\n",
       "    <tr>\n",
       "      <th>251</th>\n",
       "      <td>4255.989561</td>\n",
       "      <td>pt-e3jrm51z</td>\n",
       "      <td>0</td>\n",
       "    </tr>\n",
       "    <tr>\n",
       "      <th>252</th>\n",
       "      <td>3104.810649</td>\n",
       "      <td>pt-jqfvet2k</td>\n",
       "      <td>0</td>\n",
       "    </tr>\n",
       "    <tr>\n",
       "      <th>253</th>\n",
       "      <td>3944.711298</td>\n",
       "      <td>pt-gx8psrwq</td>\n",
       "      <td>0</td>\n",
       "    </tr>\n",
       "  </tbody>\n",
       "</table>\n",
       "<p>254 rows × 3 columns</p>\n",
       "</div>"
      ],
      "text/plain": [
       "     ENSG00000157557      Patient  patent_foramen_ovale\n",
       "0        3483.465508  pt-mv6fmz83                     1\n",
       "1        1712.788189  pt-pb67ypn9                     0\n",
       "2        5150.558293  pt-yky3kj4e                     0\n",
       "3        3370.937806  pt-bkgw6a6n                     0\n",
       "4        3658.492220  pt-a2d5sks2                     0\n",
       "..               ...          ...                   ...\n",
       "249      3682.602850  pt-9gpj6g0y                     1\n",
       "250      3772.421907  pt-2zn12jt2                     0\n",
       "251      4255.989561  pt-e3jrm51z                     0\n",
       "252      3104.810649  pt-jqfvet2k                     0\n",
       "253      3944.711298  pt-gx8psrwq                     0\n",
       "\n",
       "[254 rows x 3 columns]"
      ]
     },
     "execution_count": 37,
     "metadata": {},
     "output_type": "execute_result"
    }
   ],
   "source": [
    "thisdf"
   ]
  },
  {
   "cell_type": "markdown",
   "metadata": {
    "id": "0pT-DdE14AoR"
   },
   "source": [
    "Now we will build funcitons to graph that gene and that comorbidity. Remember, using def means we built the function, but we did not run the function."
   ]
  },
  {
   "cell_type": "code",
   "execution_count": 38,
   "metadata": {
    "id": "9q5ejXEiPIWt"
   },
   "outputs": [],
   "source": [
    "def violin_bianary(thisdf, comorbid, gene):\n",
    "  fig = px.violin(thisdf, y=gene, x=comorbid, box=True, points=\"all\")\n",
    "  fig.show()\n",
    "\n",
    "def violin_bianary_output(thisdf, comorbid, gene, outfilename):\n",
    "  fig = px.violin(thisdf, y=gene, x=comorbid, box=True, points=\"all\")\n",
    "  fig.show()\n",
    "  fig.write_image(outfilename)"
   ]
  },
  {
   "cell_type": "markdown",
   "metadata": {
    "id": "wwBUt3L14PUr"
   },
   "source": [
    "Now we should plot the comorbi. Dodity and gene we have chosen they seem related?"
   ]
  },
  {
   "cell_type": "code",
   "execution_count": 39,
   "metadata": {
    "colab": {
     "base_uri": "https://localhost:8080/",
     "height": 542
    },
    "id": "jByzPd-gPoh6",
    "outputId": "2737d82a-d19f-4de8-8bd5-7c22142a8d82"
   },
   "outputs": [
    {
     "data": {
      "application/vnd.plotly.v1+json": {
       "config": {
        "plotlyServerURL": "https://plot.ly"
       },
       "data": [
        {
         "alignmentgroup": "True",
         "box": {
          "visible": true
         },
         "hovertemplate": "patent_foramen_ovale=%{x}<br>ENSG00000157557=%{y}<extra></extra>",
         "legendgroup": "",
         "marker": {
          "color": "#636efa"
         },
         "name": "",
         "offsetgroup": "",
         "orientation": "v",
         "points": "all",
         "scalegroup": "True",
         "showlegend": false,
         "type": "violin",
         "x": [
          1,
          0,
          0,
          0,
          0,
          0,
          0,
          0,
          0,
          0,
          0,
          0,
          0,
          0,
          0,
          0,
          0,
          0,
          0,
          0,
          0,
          0,
          0,
          0,
          1,
          1,
          1,
          0,
          0,
          0,
          0,
          0,
          0,
          0,
          0,
          0,
          0,
          1,
          0,
          0,
          0,
          0,
          0,
          0,
          0,
          1,
          0,
          0,
          0,
          0,
          0,
          0,
          0,
          0,
          0,
          0,
          0,
          0,
          0,
          0,
          0,
          0,
          0,
          0,
          1,
          0,
          0,
          0,
          0,
          0,
          0,
          0,
          0,
          0,
          0,
          0,
          0,
          1,
          0,
          0,
          0,
          0,
          0,
          0,
          0,
          0,
          1,
          0,
          0,
          0,
          0,
          0,
          0,
          0,
          0,
          0,
          0,
          0,
          0,
          0,
          0,
          0,
          0,
          0,
          1,
          0,
          0,
          0,
          0,
          0,
          1,
          0,
          1,
          0,
          1,
          0,
          0,
          0,
          1,
          0,
          0,
          0,
          0,
          0,
          0,
          0,
          0,
          0,
          1,
          0,
          1,
          0,
          0,
          0,
          0,
          0,
          1,
          0,
          0,
          1,
          0,
          0,
          0,
          0,
          0,
          0,
          0,
          0,
          0,
          0,
          0,
          1,
          0,
          0,
          0,
          0,
          0,
          0,
          1,
          1,
          1,
          0,
          0,
          0,
          0,
          1,
          0,
          0,
          1,
          0,
          0,
          0,
          0,
          0,
          0,
          0,
          0,
          0,
          0,
          0,
          0,
          0,
          0,
          0,
          0,
          0,
          0,
          0,
          0,
          0,
          0,
          1,
          0,
          1,
          0,
          0,
          0,
          0,
          0,
          0,
          0,
          1,
          0,
          0,
          0,
          0,
          0,
          1,
          0,
          1,
          0,
          1,
          0,
          0,
          0,
          0,
          0,
          0,
          0,
          0,
          1,
          0,
          0,
          0,
          0,
          0,
          0,
          0,
          0,
          0,
          0,
          0,
          0,
          0,
          0,
          0,
          0,
          0,
          0,
          0,
          0,
          0,
          0,
          1,
          0,
          0,
          0,
          0,
          1,
          1,
          0,
          0,
          0,
          0
         ],
         "x0": " ",
         "xaxis": "x",
         "y": [
          3483.46550823662,
          1712.78818915596,
          5150.55829330633,
          3370.93780630857,
          3658.49221964277,
          3328.89751612866,
          4110.6463145806,
          5233.21716166418,
          3218.82141421096,
          3494.29883290097,
          2725.33633603219,
          2783.75735328121,
          4106.42873523926,
          3065.09697697492,
          1947.60688744675,
          3577.64242864281,
          3205.90993200633,
          3119.68165740021,
          12177.6677908153,
          3559.07170933529,
          2528.89479498626,
          3135.54925983861,
          9804.08708102963,
          2759.41324362182,
          4306.38115068458,
          2641.76593432302,
          2416.19298732134,
          4341.29975098581,
          3182.73322662909,
          4407.54593646036,
          4236.64165187345,
          3814.04582895318,
          2993.66827316027,
          6210.6195238079,
          2777.35199492657,
          5880.83944825592,
          3729.3264434692,
          5071.40056321529,
          2114.54260923444,
          2682.46919791408,
          1673.82847818503,
          3437.20826108569,
          2535.0463708251,
          2549.802819025,
          4788.15319476365,
          2218.74762667524,
          2523.17724156197,
          4468.71192020613,
          3435.54001650969,
          4509.60432865516,
          3058.69297152956,
          5305.11026717774,
          6460.18853321142,
          3349.07838118858,
          5597.45980904467,
          3122.24941677621,
          2123.58875023318,
          2818.63505838361,
          3492.4032890056,
          3219.98638449741,
          3046.92004909467,
          4441.31027314036,
          3287.09486132162,
          3053.7795973795,
          3356.80055204596,
          4339.72709605386,
          2469.12307323262,
          3434.74334760121,
          2383.06507415401,
          2553.62020157253,
          3254.67981962347,
          2824.46327789129,
          4331.32090024773,
          2512.42093298219,
          3993.34026120616,
          2883.09971138711,
          2608.01744278395,
          4487.95467186367,
          3348.69670257683,
          3625.58372397362,
          5873.59415222427,
          4350.47820253216,
          3710.25945207357,
          3810.78353507178,
          5034.94690527099,
          3570.21052485479,
          2812.65084526721,
          7293.09559057725,
          2506.41068692188,
          4424.85513248313,
          5007.76816274395,
          2663.66281979016,
          3347.44514974358,
          1931.57216667407,
          3361.73416889631,
          2947.97849015539,
          3057.91898822141,
          3689.14374943779,
          3494.99147077513,
          2537.83154304455,
          4184.11435787654,
          2905.16696013094,
          3614.10001439039,
          1730.08085454816,
          1588.99015186204,
          3909.51090502863,
          2903.92658600963,
          2747.10410324842,
          3371.5142670473,
          4602.49323280658,
          4926.17516350031,
          2665.62220034136,
          3463.19600464754,
          2624.03375380463,
          2101.34331363703,
          2937.18216314306,
          2786.2714014147,
          2466.75096289646,
          1853.90877820387,
          3824.18066219166,
          3941.09853547831,
          3030.13661217233,
          3849.05564152414,
          4920.28666178019,
          4800.59614745185,
          3782.01932078756,
          2751.12628050962,
          4804.99955584641,
          3202.05600164911,
          2658.0248615075,
          2811.106117109,
          4516.8072600184,
          4787.59035315679,
          3583.78510544486,
          6410.31262836062,
          3773.20548037081,
          6198.03762524233,
          3010.05819516147,
          3666.40164345491,
          3103.61839071653,
          3525.14072119421,
          3776.08412019467,
          2752.89854579431,
          3188.46821180965,
          2909.0293985638,
          4550.49791052215,
          3257.10973418457,
          2914.61889190157,
          3098.33206145461,
          3948.09729135029,
          2485.94802351336,
          1715.87724940848,
          3286.98143049939,
          5096.72568038291,
          3950.20942525656,
          3860.12782664961,
          2113.97691398868,
          4585.651903696,
          4738.23291291249,
          1633.74043186679,
          2367.23168342994,
          2604.62709886068,
          3629.59967465189,
          3490.57789358663,
          2971.13385019215,
          2541.06208311177,
          4579.82700071534,
          5529.90208452098,
          1793.19566924725,
          3363.20862023819,
          2521.93712327118,
          2480.74607068737,
          3570.31382964395,
          2463.98278959075,
          3435.75512912574,
          2946.44683348618,
          4570.53343004534,
          3476.06781203811,
          6525.59358990944,
          4194.64319761126,
          3193.0879335311,
          4214.41429277896,
          4519.08668468731,
          2699.54487079656,
          6908.43341170049,
          2724.68546184398,
          2765.66308724624,
          4240.58590435457,
          4062.22040145304,
          8092.24452321093,
          3970.05273598915,
          2600.6049579295,
          2840.17944922268,
          1573.89505077348,
          3182.08593360005,
          3672.14742900191,
          5035.77313240082,
          1612.36882328701,
          1784.49857122302,
          4085.77692323973,
          3086.19287780874,
          2656.69668256617,
          3190.41102166544,
          2000.58722537806,
          3521.81927233693,
          3834.39069646534,
          4114.07553379844,
          2617.8764479259,
          2552.30551641058,
          2942.31007934361,
          2789.78114139641,
          2437.96405120822,
          3200.31833479109,
          1580.83546309615,
          5272.1804774603,
          3754.24205157055,
          3164.63244467498,
          5085.26835856654,
          7462.19423305276,
          5283.63256321151,
          2533.24476952221,
          3305.69745814925,
          5396.63538085671,
          2344.78927159629,
          3139.18223488766,
          2136.35687483593,
          2950.83247051537,
          2624.64630759791,
          2802.96110097974,
          9686.51214889374,
          3830.41995106824,
          4207.63459279396,
          3759.76146396667,
          3511.84400880902,
          4939.52194429799,
          4051.36520259399,
          2945.05953993884,
          2949.59034024508,
          2786.19642913163,
          5123.64083743875,
          2675.35833409511,
          3468.84069345753,
          2301.70945779383,
          1931.57124820426,
          4199.58091418836,
          4933.99662897559,
          3235.03602084998,
          5961.59663142607,
          2436.62320180698,
          3682.60284954263,
          3772.42190729724,
          4255.9895611244,
          3104.81064942427,
          3944.71129817297
         ],
         "y0": " ",
         "yaxis": "y"
        }
       ],
       "layout": {
        "autosize": true,
        "legend": {
         "tracegroupgap": 0
        },
        "margin": {
         "t": 60
        },
        "template": {
         "data": {
          "bar": [
           {
            "error_x": {
             "color": "#2a3f5f"
            },
            "error_y": {
             "color": "#2a3f5f"
            },
            "marker": {
             "line": {
              "color": "#E5ECF6",
              "width": 0.5
             },
             "pattern": {
              "fillmode": "overlay",
              "size": 10,
              "solidity": 0.2
             }
            },
            "type": "bar"
           }
          ],
          "barpolar": [
           {
            "marker": {
             "line": {
              "color": "#E5ECF6",
              "width": 0.5
             },
             "pattern": {
              "fillmode": "overlay",
              "size": 10,
              "solidity": 0.2
             }
            },
            "type": "barpolar"
           }
          ],
          "carpet": [
           {
            "aaxis": {
             "endlinecolor": "#2a3f5f",
             "gridcolor": "white",
             "linecolor": "white",
             "minorgridcolor": "white",
             "startlinecolor": "#2a3f5f"
            },
            "baxis": {
             "endlinecolor": "#2a3f5f",
             "gridcolor": "white",
             "linecolor": "white",
             "minorgridcolor": "white",
             "startlinecolor": "#2a3f5f"
            },
            "type": "carpet"
           }
          ],
          "choropleth": [
           {
            "colorbar": {
             "outlinewidth": 0,
             "ticks": ""
            },
            "type": "choropleth"
           }
          ],
          "contour": [
           {
            "colorbar": {
             "outlinewidth": 0,
             "ticks": ""
            },
            "colorscale": [
             [
              0,
              "#0d0887"
             ],
             [
              0.1111111111111111,
              "#46039f"
             ],
             [
              0.2222222222222222,
              "#7201a8"
             ],
             [
              0.3333333333333333,
              "#9c179e"
             ],
             [
              0.4444444444444444,
              "#bd3786"
             ],
             [
              0.5555555555555556,
              "#d8576b"
             ],
             [
              0.6666666666666666,
              "#ed7953"
             ],
             [
              0.7777777777777778,
              "#fb9f3a"
             ],
             [
              0.8888888888888888,
              "#fdca26"
             ],
             [
              1,
              "#f0f921"
             ]
            ],
            "type": "contour"
           }
          ],
          "contourcarpet": [
           {
            "colorbar": {
             "outlinewidth": 0,
             "ticks": ""
            },
            "type": "contourcarpet"
           }
          ],
          "heatmap": [
           {
            "colorbar": {
             "outlinewidth": 0,
             "ticks": ""
            },
            "colorscale": [
             [
              0,
              "#0d0887"
             ],
             [
              0.1111111111111111,
              "#46039f"
             ],
             [
              0.2222222222222222,
              "#7201a8"
             ],
             [
              0.3333333333333333,
              "#9c179e"
             ],
             [
              0.4444444444444444,
              "#bd3786"
             ],
             [
              0.5555555555555556,
              "#d8576b"
             ],
             [
              0.6666666666666666,
              "#ed7953"
             ],
             [
              0.7777777777777778,
              "#fb9f3a"
             ],
             [
              0.8888888888888888,
              "#fdca26"
             ],
             [
              1,
              "#f0f921"
             ]
            ],
            "type": "heatmap"
           }
          ],
          "heatmapgl": [
           {
            "colorbar": {
             "outlinewidth": 0,
             "ticks": ""
            },
            "colorscale": [
             [
              0,
              "#0d0887"
             ],
             [
              0.1111111111111111,
              "#46039f"
             ],
             [
              0.2222222222222222,
              "#7201a8"
             ],
             [
              0.3333333333333333,
              "#9c179e"
             ],
             [
              0.4444444444444444,
              "#bd3786"
             ],
             [
              0.5555555555555556,
              "#d8576b"
             ],
             [
              0.6666666666666666,
              "#ed7953"
             ],
             [
              0.7777777777777778,
              "#fb9f3a"
             ],
             [
              0.8888888888888888,
              "#fdca26"
             ],
             [
              1,
              "#f0f921"
             ]
            ],
            "type": "heatmapgl"
           }
          ],
          "histogram": [
           {
            "marker": {
             "pattern": {
              "fillmode": "overlay",
              "size": 10,
              "solidity": 0.2
             }
            },
            "type": "histogram"
           }
          ],
          "histogram2d": [
           {
            "colorbar": {
             "outlinewidth": 0,
             "ticks": ""
            },
            "colorscale": [
             [
              0,
              "#0d0887"
             ],
             [
              0.1111111111111111,
              "#46039f"
             ],
             [
              0.2222222222222222,
              "#7201a8"
             ],
             [
              0.3333333333333333,
              "#9c179e"
             ],
             [
              0.4444444444444444,
              "#bd3786"
             ],
             [
              0.5555555555555556,
              "#d8576b"
             ],
             [
              0.6666666666666666,
              "#ed7953"
             ],
             [
              0.7777777777777778,
              "#fb9f3a"
             ],
             [
              0.8888888888888888,
              "#fdca26"
             ],
             [
              1,
              "#f0f921"
             ]
            ],
            "type": "histogram2d"
           }
          ],
          "histogram2dcontour": [
           {
            "colorbar": {
             "outlinewidth": 0,
             "ticks": ""
            },
            "colorscale": [
             [
              0,
              "#0d0887"
             ],
             [
              0.1111111111111111,
              "#46039f"
             ],
             [
              0.2222222222222222,
              "#7201a8"
             ],
             [
              0.3333333333333333,
              "#9c179e"
             ],
             [
              0.4444444444444444,
              "#bd3786"
             ],
             [
              0.5555555555555556,
              "#d8576b"
             ],
             [
              0.6666666666666666,
              "#ed7953"
             ],
             [
              0.7777777777777778,
              "#fb9f3a"
             ],
             [
              0.8888888888888888,
              "#fdca26"
             ],
             [
              1,
              "#f0f921"
             ]
            ],
            "type": "histogram2dcontour"
           }
          ],
          "mesh3d": [
           {
            "colorbar": {
             "outlinewidth": 0,
             "ticks": ""
            },
            "type": "mesh3d"
           }
          ],
          "parcoords": [
           {
            "line": {
             "colorbar": {
              "outlinewidth": 0,
              "ticks": ""
             }
            },
            "type": "parcoords"
           }
          ],
          "pie": [
           {
            "automargin": true,
            "type": "pie"
           }
          ],
          "scatter": [
           {
            "fillpattern": {
             "fillmode": "overlay",
             "size": 10,
             "solidity": 0.2
            },
            "type": "scatter"
           }
          ],
          "scatter3d": [
           {
            "line": {
             "colorbar": {
              "outlinewidth": 0,
              "ticks": ""
             }
            },
            "marker": {
             "colorbar": {
              "outlinewidth": 0,
              "ticks": ""
             }
            },
            "type": "scatter3d"
           }
          ],
          "scattercarpet": [
           {
            "marker": {
             "colorbar": {
              "outlinewidth": 0,
              "ticks": ""
             }
            },
            "type": "scattercarpet"
           }
          ],
          "scattergeo": [
           {
            "marker": {
             "colorbar": {
              "outlinewidth": 0,
              "ticks": ""
             }
            },
            "type": "scattergeo"
           }
          ],
          "scattergl": [
           {
            "marker": {
             "colorbar": {
              "outlinewidth": 0,
              "ticks": ""
             }
            },
            "type": "scattergl"
           }
          ],
          "scattermapbox": [
           {
            "marker": {
             "colorbar": {
              "outlinewidth": 0,
              "ticks": ""
             }
            },
            "type": "scattermapbox"
           }
          ],
          "scatterpolar": [
           {
            "marker": {
             "colorbar": {
              "outlinewidth": 0,
              "ticks": ""
             }
            },
            "type": "scatterpolar"
           }
          ],
          "scatterpolargl": [
           {
            "marker": {
             "colorbar": {
              "outlinewidth": 0,
              "ticks": ""
             }
            },
            "type": "scatterpolargl"
           }
          ],
          "scatterternary": [
           {
            "marker": {
             "colorbar": {
              "outlinewidth": 0,
              "ticks": ""
             }
            },
            "type": "scatterternary"
           }
          ],
          "surface": [
           {
            "colorbar": {
             "outlinewidth": 0,
             "ticks": ""
            },
            "colorscale": [
             [
              0,
              "#0d0887"
             ],
             [
              0.1111111111111111,
              "#46039f"
             ],
             [
              0.2222222222222222,
              "#7201a8"
             ],
             [
              0.3333333333333333,
              "#9c179e"
             ],
             [
              0.4444444444444444,
              "#bd3786"
             ],
             [
              0.5555555555555556,
              "#d8576b"
             ],
             [
              0.6666666666666666,
              "#ed7953"
             ],
             [
              0.7777777777777778,
              "#fb9f3a"
             ],
             [
              0.8888888888888888,
              "#fdca26"
             ],
             [
              1,
              "#f0f921"
             ]
            ],
            "type": "surface"
           }
          ],
          "table": [
           {
            "cells": {
             "fill": {
              "color": "#EBF0F8"
             },
             "line": {
              "color": "white"
             }
            },
            "header": {
             "fill": {
              "color": "#C8D4E3"
             },
             "line": {
              "color": "white"
             }
            },
            "type": "table"
           }
          ]
         },
         "layout": {
          "annotationdefaults": {
           "arrowcolor": "#2a3f5f",
           "arrowhead": 0,
           "arrowwidth": 1
          },
          "autotypenumbers": "strict",
          "coloraxis": {
           "colorbar": {
            "outlinewidth": 0,
            "ticks": ""
           }
          },
          "colorscale": {
           "diverging": [
            [
             0,
             "#8e0152"
            ],
            [
             0.1,
             "#c51b7d"
            ],
            [
             0.2,
             "#de77ae"
            ],
            [
             0.3,
             "#f1b6da"
            ],
            [
             0.4,
             "#fde0ef"
            ],
            [
             0.5,
             "#f7f7f7"
            ],
            [
             0.6,
             "#e6f5d0"
            ],
            [
             0.7,
             "#b8e186"
            ],
            [
             0.8,
             "#7fbc41"
            ],
            [
             0.9,
             "#4d9221"
            ],
            [
             1,
             "#276419"
            ]
           ],
           "sequential": [
            [
             0,
             "#0d0887"
            ],
            [
             0.1111111111111111,
             "#46039f"
            ],
            [
             0.2222222222222222,
             "#7201a8"
            ],
            [
             0.3333333333333333,
             "#9c179e"
            ],
            [
             0.4444444444444444,
             "#bd3786"
            ],
            [
             0.5555555555555556,
             "#d8576b"
            ],
            [
             0.6666666666666666,
             "#ed7953"
            ],
            [
             0.7777777777777778,
             "#fb9f3a"
            ],
            [
             0.8888888888888888,
             "#fdca26"
            ],
            [
             1,
             "#f0f921"
            ]
           ],
           "sequentialminus": [
            [
             0,
             "#0d0887"
            ],
            [
             0.1111111111111111,
             "#46039f"
            ],
            [
             0.2222222222222222,
             "#7201a8"
            ],
            [
             0.3333333333333333,
             "#9c179e"
            ],
            [
             0.4444444444444444,
             "#bd3786"
            ],
            [
             0.5555555555555556,
             "#d8576b"
            ],
            [
             0.6666666666666666,
             "#ed7953"
            ],
            [
             0.7777777777777778,
             "#fb9f3a"
            ],
            [
             0.8888888888888888,
             "#fdca26"
            ],
            [
             1,
             "#f0f921"
            ]
           ]
          },
          "colorway": [
           "#636efa",
           "#EF553B",
           "#00cc96",
           "#ab63fa",
           "#FFA15A",
           "#19d3f3",
           "#FF6692",
           "#B6E880",
           "#FF97FF",
           "#FECB52"
          ],
          "font": {
           "color": "#2a3f5f"
          },
          "geo": {
           "bgcolor": "white",
           "lakecolor": "white",
           "landcolor": "#E5ECF6",
           "showlakes": true,
           "showland": true,
           "subunitcolor": "white"
          },
          "hoverlabel": {
           "align": "left"
          },
          "hovermode": "closest",
          "mapbox": {
           "style": "light"
          },
          "paper_bgcolor": "white",
          "plot_bgcolor": "#E5ECF6",
          "polar": {
           "angularaxis": {
            "gridcolor": "white",
            "linecolor": "white",
            "ticks": ""
           },
           "bgcolor": "#E5ECF6",
           "radialaxis": {
            "gridcolor": "white",
            "linecolor": "white",
            "ticks": ""
           }
          },
          "scene": {
           "xaxis": {
            "backgroundcolor": "#E5ECF6",
            "gridcolor": "white",
            "gridwidth": 2,
            "linecolor": "white",
            "showbackground": true,
            "ticks": "",
            "zerolinecolor": "white"
           },
           "yaxis": {
            "backgroundcolor": "#E5ECF6",
            "gridcolor": "white",
            "gridwidth": 2,
            "linecolor": "white",
            "showbackground": true,
            "ticks": "",
            "zerolinecolor": "white"
           },
           "zaxis": {
            "backgroundcolor": "#E5ECF6",
            "gridcolor": "white",
            "gridwidth": 2,
            "linecolor": "white",
            "showbackground": true,
            "ticks": "",
            "zerolinecolor": "white"
           }
          },
          "shapedefaults": {
           "line": {
            "color": "#2a3f5f"
           }
          },
          "ternary": {
           "aaxis": {
            "gridcolor": "white",
            "linecolor": "white",
            "ticks": ""
           },
           "baxis": {
            "gridcolor": "white",
            "linecolor": "white",
            "ticks": ""
           },
           "bgcolor": "#E5ECF6",
           "caxis": {
            "gridcolor": "white",
            "linecolor": "white",
            "ticks": ""
           }
          },
          "title": {
           "x": 0.05
          },
          "xaxis": {
           "automargin": true,
           "gridcolor": "white",
           "linecolor": "white",
           "ticks": "",
           "title": {
            "standoff": 15
           },
           "zerolinecolor": "white",
           "zerolinewidth": 2
          },
          "yaxis": {
           "automargin": true,
           "gridcolor": "white",
           "linecolor": "white",
           "ticks": "",
           "title": {
            "standoff": 15
           },
           "zerolinecolor": "white",
           "zerolinewidth": 2
          }
         }
        },
        "violinmode": "group",
        "xaxis": {
         "anchor": "y",
         "autorange": true,
         "domain": [
          0,
          1
         ],
         "range": [
          -0.5085714285714286,
          1.5
         ],
         "title": {
          "text": "patent_foramen_ovale"
         },
         "type": "linear"
        },
        "yaxis": {
         "anchor": "x",
         "autorange": true,
         "domain": [
          0,
          1
         ],
         "range": [
          -75.18405898742299,
          13603.385084135083
         ],
         "title": {
          "text": "ENSG00000157557"
         },
         "type": "linear"
        }
       }
      },
      "image/png": "[encoded data removed]",
      "text/html": [
       "<div>                            <div id=\"b2466990-b7e0-44d2-b3ac-74dc5e152e59\" class=\"plotly-graph-div\" style=\"height:525px; width:100%;\"></div>            <script type=\"text/javascript\">                require([\"plotly\"], function(Plotly) {                    window.PLOTLYENV=window.PLOTLYENV || {};                                    if (document.getElementById(\"b2466990-b7e0-44d2-b3ac-74dc5e152e59\")) {                    Plotly.newPlot(                        \"b2466990-b7e0-44d2-b3ac-74dc5e152e59\",                        [{\"alignmentgroup\":\"True\",\"box\":{\"visible\":true},\"hovertemplate\":\"patent_foramen_ovale=%{x}\\u003cbr\\u003eENSG00000157557=%{y}\\u003cextra\\u003e\\u003c\\u002fextra\\u003e\",\"legendgroup\":\"\",\"marker\":{\"color\":\"#636efa\"},\"name\":\"\",\"offsetgroup\":\"\",\"orientation\":\"v\",\"points\":\"all\",\"scalegroup\":\"True\",\"showlegend\":false,\"x\":[1,0,0,0,0,0,0,0,0,0,0,0,0,0,0,0,0,0,0,0,0,0,0,0,1,1,1,0,0,0,0,0,0,0,0,0,0,1,0,0,0,0,0,0,0,1,0,0,0,0,0,0,0,0,0,0,0,0,0,0,0,0,0,0,1,0,0,0,0,0,0,0,0,0,0,0,0,1,0,0,0,0,0,0,0,0,1,0,0,0,0,0,0,0,0,0,0,0,0,0,0,0,0,0,1,0,0,0,0,0,1,0,1,0,1,0,0,0,1,0,0,0,0,0,0,0,0,0,1,0,1,0,0,0,0,0,1,0,0,1,0,0,0,0,0,0,0,0,0,0,0,1,0,0,0,0,0,0,1,1,1,0,0,0,0,1,0,0,1,0,0,0,0,0,0,0,0,0,0,0,0,0,0,0,0,0,0,0,0,0,0,1,0,1,0,0,0,0,0,0,0,1,0,0,0,0,0,1,0,1,0,1,0,0,0,0,0,0,0,0,1,0,0,0,0,0,0,0,0,0,0,0,0,0,0,0,0,0,0,0,0,0,0,1,0,0,0,0,1,1,0,0,0,0],\"x0\":\" \",\"xaxis\":\"x\",\"y\":[3483.46550823662,1712.78818915596,5150.55829330633,3370.93780630857,3658.49221964277,3328.89751612866,4110.6463145806,5233.21716166418,3218.82141421096,3494.29883290097,2725.33633603219,2783.75735328121,4106.42873523926,3065.09697697492,1947.60688744675,3577.64242864281,3205.90993200633,3119.68165740021,12177.6677908153,3559.07170933529,2528.89479498626,3135.54925983861,9804.08708102963,2759.41324362182,4306.38115068458,2641.76593432302,2416.19298732134,4341.29975098581,3182.73322662909,4407.54593646036,4236.64165187345,3814.04582895318,2993.66827316027,6210.6195238079,2777.35199492657,5880.83944825592,3729.3264434692,5071.40056321529,2114.54260923444,2682.46919791408,1673.82847818503,3437.20826108569,2535.0463708251,2549.802819025,4788.15319476365,2218.74762667524,2523.17724156197,4468.71192020613,3435.54001650969,4509.60432865516,3058.69297152956,5305.11026717774,6460.18853321142,3349.07838118858,5597.45980904467,3122.24941677621,2123.58875023318,2818.63505838361,3492.4032890056,3219.98638449741,3046.92004909467,4441.31027314036,3287.09486132162,3053.7795973795,3356.80055204596,4339.72709605386,2469.12307323262,3434.74334760121,2383.06507415401,2553.62020157253,3254.67981962347,2824.46327789129,4331.32090024773,2512.42093298219,3993.34026120616,2883.09971138711,2608.01744278395,4487.95467186367,3348.69670257683,3625.58372397362,5873.59415222427,4350.47820253216,3710.25945207357,3810.78353507178,5034.94690527099,3570.21052485479,2812.65084526721,7293.09559057725,2506.41068692188,4424.85513248313,5007.76816274395,2663.66281979016,3347.44514974358,1931.57216667407,3361.73416889631,2947.97849015539,3057.91898822141,3689.14374943779,3494.99147077513,2537.83154304455,4184.11435787654,2905.16696013094,3614.10001439039,1730.08085454816,1588.99015186204,3909.51090502863,2903.92658600963,2747.10410324842,3371.5142670473,4602.49323280658,4926.17516350031,2665.62220034136,3463.19600464754,2624.03375380463,2101.34331363703,2937.18216314306,2786.2714014147,2466.75096289646,1853.90877820387,3824.18066219166,3941.09853547831,3030.13661217233,3849.05564152414,4920.28666178019,4800.59614745185,3782.01932078756,2751.12628050962,4804.99955584641,3202.05600164911,2658.0248615075,2811.106117109,4516.8072600184,4787.59035315679,3583.78510544486,6410.31262836062,3773.20548037081,6198.03762524233,3010.05819516147,3666.40164345491,3103.61839071653,3525.14072119421,3776.08412019467,2752.89854579431,3188.46821180965,2909.0293985638,4550.49791052215,3257.10973418457,2914.61889190157,3098.33206145461,3948.09729135029,2485.94802351336,1715.87724940848,3286.98143049939,5096.72568038291,3950.20942525656,3860.12782664961,2113.97691398868,4585.651903696,4738.23291291249,1633.74043186679,2367.23168342994,2604.62709886068,3629.59967465189,3490.57789358663,2971.13385019215,2541.06208311177,4579.82700071534,5529.90208452098,1793.19566924725,3363.20862023819,2521.93712327118,2480.74607068737,3570.31382964395,2463.98278959075,3435.75512912574,2946.44683348618,4570.53343004534,3476.06781203811,6525.59358990944,4194.64319761126,3193.0879335311,4214.41429277896,4519.08668468731,2699.54487079656,6908.43341170049,2724.68546184398,2765.66308724624,4240.58590435457,4062.22040145304,8092.24452321093,3970.05273598915,2600.6049579295,2840.17944922268,1573.89505077348,3182.08593360005,3672.14742900191,5035.77313240082,1612.36882328701,1784.49857122302,4085.77692323973,3086.19287780874,2656.69668256617,3190.41102166544,2000.58722537806,3521.81927233693,3834.39069646534,4114.07553379844,2617.8764479259,2552.30551641058,2942.31007934361,2789.78114139641,2437.96405120822,3200.31833479109,1580.83546309615,5272.1804774603,3754.24205157055,3164.63244467498,5085.26835856654,7462.19423305276,5283.63256321151,2533.24476952221,3305.69745814925,5396.63538085671,2344.78927159629,3139.18223488766,2136.35687483593,2950.83247051537,2624.64630759791,2802.96110097974,9686.51214889374,3830.41995106824,4207.63459279396,3759.76146396667,3511.84400880902,4939.52194429799,4051.36520259399,2945.05953993884,2949.59034024508,2786.19642913163,5123.64083743875,2675.35833409511,3468.84069345753,2301.70945779383,1931.57124820426,4199.58091418836,4933.99662897559,3235.03602084998,5961.59663142607,2436.62320180698,3682.60284954263,3772.42190729724,4255.9895611244,3104.81064942427,3944.71129817297],\"y0\":\" \",\"yaxis\":\"y\",\"type\":\"violin\"}],                        {\"template\":{\"data\":{\"histogram2dcontour\":[{\"type\":\"histogram2dcontour\",\"colorbar\":{\"outlinewidth\":0,\"ticks\":\"\"},\"colorscale\":[[0.0,\"#0d0887\"],[0.1111111111111111,\"#46039f\"],[0.2222222222222222,\"#7201a8\"],[0.3333333333333333,\"#9c179e\"],[0.4444444444444444,\"#bd3786\"],[0.5555555555555556,\"#d8576b\"],[0.6666666666666666,\"#ed7953\"],[0.7777777777777778,\"#fb9f3a\"],[0.8888888888888888,\"#fdca26\"],[1.0,\"#f0f921\"]]}],\"choropleth\":[{\"type\":\"choropleth\",\"colorbar\":{\"outlinewidth\":0,\"ticks\":\"\"}}],\"histogram2d\":[{\"type\":\"histogram2d\",\"colorbar\":{\"outlinewidth\":0,\"ticks\":\"\"},\"colorscale\":[[0.0,\"#0d0887\"],[0.1111111111111111,\"#46039f\"],[0.2222222222222222,\"#7201a8\"],[0.3333333333333333,\"#9c179e\"],[0.4444444444444444,\"#bd3786\"],[0.5555555555555556,\"#d8576b\"],[0.6666666666666666,\"#ed7953\"],[0.7777777777777778,\"#fb9f3a\"],[0.8888888888888888,\"#fdca26\"],[1.0,\"#f0f921\"]]}],\"heatmap\":[{\"type\":\"heatmap\",\"colorbar\":{\"outlinewidth\":0,\"ticks\":\"\"},\"colorscale\":[[0.0,\"#0d0887\"],[0.1111111111111111,\"#46039f\"],[0.2222222222222222,\"#7201a8\"],[0.3333333333333333,\"#9c179e\"],[0.4444444444444444,\"#bd3786\"],[0.5555555555555556,\"#d8576b\"],[0.6666666666666666,\"#ed7953\"],[0.7777777777777778,\"#fb9f3a\"],[0.8888888888888888,\"#fdca26\"],[1.0,\"#f0f921\"]]}],\"heatmapgl\":[{\"type\":\"heatmapgl\",\"colorbar\":{\"outlinewidth\":0,\"ticks\":\"\"},\"colorscale\":[[0.0,\"#0d0887\"],[0.1111111111111111,\"#46039f\"],[0.2222222222222222,\"#7201a8\"],[0.3333333333333333,\"#9c179e\"],[0.4444444444444444,\"#bd3786\"],[0.5555555555555556,\"#d8576b\"],[0.6666666666666666,\"#ed7953\"],[0.7777777777777778,\"#fb9f3a\"],[0.8888888888888888,\"#fdca26\"],[1.0,\"#f0f921\"]]}],\"contourcarpet\":[{\"type\":\"contourcarpet\",\"colorbar\":{\"outlinewidth\":0,\"ticks\":\"\"}}],\"contour\":[{\"type\":\"contour\",\"colorbar\":{\"outlinewidth\":0,\"ticks\":\"\"},\"colorscale\":[[0.0,\"#0d0887\"],[0.1111111111111111,\"#46039f\"],[0.2222222222222222,\"#7201a8\"],[0.3333333333333333,\"#9c179e\"],[0.4444444444444444,\"#bd3786\"],[0.5555555555555556,\"#d8576b\"],[0.6666666666666666,\"#ed7953\"],[0.7777777777777778,\"#fb9f3a\"],[0.8888888888888888,\"#fdca26\"],[1.0,\"#f0f921\"]]}],\"surface\":[{\"type\":\"surface\",\"colorbar\":{\"outlinewidth\":0,\"ticks\":\"\"},\"colorscale\":[[0.0,\"#0d0887\"],[0.1111111111111111,\"#46039f\"],[0.2222222222222222,\"#7201a8\"],[0.3333333333333333,\"#9c179e\"],[0.4444444444444444,\"#bd3786\"],[0.5555555555555556,\"#d8576b\"],[0.6666666666666666,\"#ed7953\"],[0.7777777777777778,\"#fb9f3a\"],[0.8888888888888888,\"#fdca26\"],[1.0,\"#f0f921\"]]}],\"mesh3d\":[{\"type\":\"mesh3d\",\"colorbar\":{\"outlinewidth\":0,\"ticks\":\"\"}}],\"scatter\":[{\"fillpattern\":{\"fillmode\":\"overlay\",\"size\":10,\"solidity\":0.2},\"type\":\"scatter\"}],\"parcoords\":[{\"type\":\"parcoords\",\"line\":{\"colorbar\":{\"outlinewidth\":0,\"ticks\":\"\"}}}],\"scatterpolargl\":[{\"type\":\"scatterpolargl\",\"marker\":{\"colorbar\":{\"outlinewidth\":0,\"ticks\":\"\"}}}],\"bar\":[{\"error_x\":{\"color\":\"#2a3f5f\"},\"error_y\":{\"color\":\"#2a3f5f\"},\"marker\":{\"line\":{\"color\":\"#E5ECF6\",\"width\":0.5},\"pattern\":{\"fillmode\":\"overlay\",\"size\":10,\"solidity\":0.2}},\"type\":\"bar\"}],\"scattergeo\":[{\"type\":\"scattergeo\",\"marker\":{\"colorbar\":{\"outlinewidth\":0,\"ticks\":\"\"}}}],\"scatterpolar\":[{\"type\":\"scatterpolar\",\"marker\":{\"colorbar\":{\"outlinewidth\":0,\"ticks\":\"\"}}}],\"histogram\":[{\"marker\":{\"pattern\":{\"fillmode\":\"overlay\",\"size\":10,\"solidity\":0.2}},\"type\":\"histogram\"}],\"scattergl\":[{\"type\":\"scattergl\",\"marker\":{\"colorbar\":{\"outlinewidth\":0,\"ticks\":\"\"}}}],\"scatter3d\":[{\"type\":\"scatter3d\",\"line\":{\"colorbar\":{\"outlinewidth\":0,\"ticks\":\"\"}},\"marker\":{\"colorbar\":{\"outlinewidth\":0,\"ticks\":\"\"}}}],\"scattermapbox\":[{\"type\":\"scattermapbox\",\"marker\":{\"colorbar\":{\"outlinewidth\":0,\"ticks\":\"\"}}}],\"scatterternary\":[{\"type\":\"scatterternary\",\"marker\":{\"colorbar\":{\"outlinewidth\":0,\"ticks\":\"\"}}}],\"scattercarpet\":[{\"type\":\"scattercarpet\",\"marker\":{\"colorbar\":{\"outlinewidth\":0,\"ticks\":\"\"}}}],\"carpet\":[{\"aaxis\":{\"endlinecolor\":\"#2a3f5f\",\"gridcolor\":\"white\",\"linecolor\":\"white\",\"minorgridcolor\":\"white\",\"startlinecolor\":\"#2a3f5f\"},\"baxis\":{\"endlinecolor\":\"#2a3f5f\",\"gridcolor\":\"white\",\"linecolor\":\"white\",\"minorgridcolor\":\"white\",\"startlinecolor\":\"#2a3f5f\"},\"type\":\"carpet\"}],\"table\":[{\"cells\":{\"fill\":{\"color\":\"#EBF0F8\"},\"line\":{\"color\":\"white\"}},\"header\":{\"fill\":{\"color\":\"#C8D4E3\"},\"line\":{\"color\":\"white\"}},\"type\":\"table\"}],\"barpolar\":[{\"marker\":{\"line\":{\"color\":\"#E5ECF6\",\"width\":0.5},\"pattern\":{\"fillmode\":\"overlay\",\"size\":10,\"solidity\":0.2}},\"type\":\"barpolar\"}],\"pie\":[{\"automargin\":true,\"type\":\"pie\"}]},\"layout\":{\"autotypenumbers\":\"strict\",\"colorway\":[\"#636efa\",\"#EF553B\",\"#00cc96\",\"#ab63fa\",\"#FFA15A\",\"#19d3f3\",\"#FF6692\",\"#B6E880\",\"#FF97FF\",\"#FECB52\"],\"font\":{\"color\":\"#2a3f5f\"},\"hovermode\":\"closest\",\"hoverlabel\":{\"align\":\"left\"},\"paper_bgcolor\":\"white\",\"plot_bgcolor\":\"#E5ECF6\",\"polar\":{\"bgcolor\":\"#E5ECF6\",\"angularaxis\":{\"gridcolor\":\"white\",\"linecolor\":\"white\",\"ticks\":\"\"},\"radialaxis\":{\"gridcolor\":\"white\",\"linecolor\":\"white\",\"ticks\":\"\"}},\"ternary\":{\"bgcolor\":\"#E5ECF6\",\"aaxis\":{\"gridcolor\":\"white\",\"linecolor\":\"white\",\"ticks\":\"\"},\"baxis\":{\"gridcolor\":\"white\",\"linecolor\":\"white\",\"ticks\":\"\"},\"caxis\":{\"gridcolor\":\"white\",\"linecolor\":\"white\",\"ticks\":\"\"}},\"coloraxis\":{\"colorbar\":{\"outlinewidth\":0,\"ticks\":\"\"}},\"colorscale\":{\"sequential\":[[0.0,\"#0d0887\"],[0.1111111111111111,\"#46039f\"],[0.2222222222222222,\"#7201a8\"],[0.3333333333333333,\"#9c179e\"],[0.4444444444444444,\"#bd3786\"],[0.5555555555555556,\"#d8576b\"],[0.6666666666666666,\"#ed7953\"],[0.7777777777777778,\"#fb9f3a\"],[0.8888888888888888,\"#fdca26\"],[1.0,\"#f0f921\"]],\"sequentialminus\":[[0.0,\"#0d0887\"],[0.1111111111111111,\"#46039f\"],[0.2222222222222222,\"#7201a8\"],[0.3333333333333333,\"#9c179e\"],[0.4444444444444444,\"#bd3786\"],[0.5555555555555556,\"#d8576b\"],[0.6666666666666666,\"#ed7953\"],[0.7777777777777778,\"#fb9f3a\"],[0.8888888888888888,\"#fdca26\"],[1.0,\"#f0f921\"]],\"diverging\":[[0,\"#8e0152\"],[0.1,\"#c51b7d\"],[0.2,\"#de77ae\"],[0.3,\"#f1b6da\"],[0.4,\"#fde0ef\"],[0.5,\"#f7f7f7\"],[0.6,\"#e6f5d0\"],[0.7,\"#b8e186\"],[0.8,\"#7fbc41\"],[0.9,\"#4d9221\"],[1,\"#276419\"]]},\"xaxis\":{\"gridcolor\":\"white\",\"linecolor\":\"white\",\"ticks\":\"\",\"title\":{\"standoff\":15},\"zerolinecolor\":\"white\",\"automargin\":true,\"zerolinewidth\":2},\"yaxis\":{\"gridcolor\":\"white\",\"linecolor\":\"white\",\"ticks\":\"\",\"title\":{\"standoff\":15},\"zerolinecolor\":\"white\",\"automargin\":true,\"zerolinewidth\":2},\"scene\":{\"xaxis\":{\"backgroundcolor\":\"#E5ECF6\",\"gridcolor\":\"white\",\"linecolor\":\"white\",\"showbackground\":true,\"ticks\":\"\",\"zerolinecolor\":\"white\",\"gridwidth\":2},\"yaxis\":{\"backgroundcolor\":\"#E5ECF6\",\"gridcolor\":\"white\",\"linecolor\":\"white\",\"showbackground\":true,\"ticks\":\"\",\"zerolinecolor\":\"white\",\"gridwidth\":2},\"zaxis\":{\"backgroundcolor\":\"#E5ECF6\",\"gridcolor\":\"white\",\"linecolor\":\"white\",\"showbackground\":true,\"ticks\":\"\",\"zerolinecolor\":\"white\",\"gridwidth\":2}},\"shapedefaults\":{\"line\":{\"color\":\"#2a3f5f\"}},\"annotationdefaults\":{\"arrowcolor\":\"#2a3f5f\",\"arrowhead\":0,\"arrowwidth\":1},\"geo\":{\"bgcolor\":\"white\",\"landcolor\":\"#E5ECF6\",\"subunitcolor\":\"white\",\"showland\":true,\"showlakes\":true,\"lakecolor\":\"white\"},\"title\":{\"x\":0.05},\"mapbox\":{\"style\":\"light\"}}},\"xaxis\":{\"anchor\":\"y\",\"domain\":[0.0,1.0],\"title\":{\"text\":\"patent_foramen_ovale\"}},\"yaxis\":{\"anchor\":\"x\",\"domain\":[0.0,1.0],\"title\":{\"text\":\"ENSG00000157557\"}},\"legend\":{\"tracegroupgap\":0},\"margin\":{\"t\":60},\"violinmode\":\"group\"},                        {\"responsive\": true}                    ).then(function(){\n",
       "                            \n",
       "var gd = document.getElementById('b2466990-b7e0-44d2-b3ac-74dc5e152e59');\n",
       "var x = new MutationObserver(function (mutations, observer) {{\n",
       "        var display = window.getComputedStyle(gd).display;\n",
       "        if (!display || display === 'none') {{\n",
       "            console.log([gd, 'removed!']);\n",
       "            Plotly.purge(gd);\n",
       "            observer.disconnect();\n",
       "        }}\n",
       "}});\n",
       "\n",
       "// Listen for the removal of the full notebook cells\n",
       "var notebookContainer = gd.closest('#notebook-container');\n",
       "if (notebookContainer) {{\n",
       "    x.observe(notebookContainer, {childList: true});\n",
       "}}\n",
       "\n",
       "// Listen for the clearing of the current output cell\n",
       "var outputEl = gd.closest('.output');\n",
       "if (outputEl) {{\n",
       "    x.observe(outputEl, {childList: true});\n",
       "}}\n",
       "\n",
       "                        })                };                });            </script>        </div>"
      ]
     },
     "metadata": {},
     "output_type": "display_data"
    }
   ],
   "source": [
    "#this graphs the data without saving it\n",
    "violin_bianary(thisdf, comorbid, gene)"
   ]
  },
  {
   "cell_type": "markdown",
   "metadata": {
    "id": "my1kyJkV4xyc"
   },
   "source": [
    "# Now go back and change the gene or the comorbidity. Which genes seem to change with which comorbidity?"
   ]
  },
  {
   "cell_type": "markdown",
   "metadata": {
    "id": "e8jfOHnH5KdP"
   },
   "source": [
    "To change the gene or comorbidy go to the section that you set the gene and comorbidity and change which gene has no #. Then rerun all blocks between that section and this one."
   ]
  },
  {
   "cell_type": "markdown",
   "metadata": {
    "id": "1mX9--wY5tFs"
   },
   "source": [
    "## Advanced users: You can graph genes I have not shown you. You can graph comorbidities I have not shown you."
   ]
  },
  {
   "cell_type": "markdown",
   "metadata": {
    "id": "hJZmIeR06X40"
   },
   "source": [
    "To graph a gene or comorbidity, uncomment the lines below to get the list of all comorbiditys and genes you can look at. Then, go up to the the section where we set the gene and comorbidity variables we wanted to look at. How would you make the notebook graph at a new gene or comorbidity?"
   ]
  },
  {
   "cell_type": "code",
   "execution_count": 35,
   "metadata": {
    "id": "Qxt0KkTJ6HTC"
   },
   "outputs": [],
   "source": [
    "#sorted(comorbid_df.columns)"
   ]
  },
  {
   "cell_type": "code",
   "execution_count": null,
   "metadata": {
    "id": "XiYX-S9L6SnS"
   },
   "outputs": [],
   "source": [
    "#sorted(gene_exp_df.columns)"
   ]
  },
  {
   "cell_type": "markdown",
   "metadata": {
    "id": "Uow8RLgshver"
   },
   "source": [
    "# If you want to write an output file to your Google Drive, you will need to uncomment the line below and authenticate a connection.\n"
   ]
  },
  {
   "cell_type": "code",
   "execution_count": null,
   "metadata": {
    "id": "Evb_zSIuhmQb"
   },
   "outputs": [],
   "source": [
    "\n",
    "#drive.mount('/content/drive')\n"
   ]
  },
  {
   "cell_type": "markdown",
   "metadata": {
    "id": "DSgax_Q4hqjw"
   },
   "source": [
    "# This graphs the data  saving it to your google drive in a folder called DnALabfolder.\n"
   ]
  },
  {
   "cell_type": "code",
   "execution_count": null,
   "metadata": {
    "id": "10e4IZN9ejlE"
   },
   "outputs": [],
   "source": [
    "\n",
    "#outdir=\"/content/drive/My Drive/DnALabfolder/\"\n",
    "#!mkdir -p \"/content/drive/My Drive/DnALabfolder/\"\n",
    "#outfilename=outdir+comorbid+\"_\"+gene+\".png\"\n",
    "#violin_bianary_output(thisdf, comorbid, gene, outfilename)"
   ]
  },
  {
   "cell_type": "code",
   "execution_count": null,
   "metadata": {
    "id": "yRT4FFJW5CCs"
   },
   "outputs": [],
   "source": []
  }
 ],
 "metadata": {
  "colab": {
   "history_visible": true,
   "include_colab_link": true,
   "provenance": []
  },
  "kernelspec": {
   "display_name": "Python 3 (ipykernel)",
   "language": "python",
   "name": "python3"
  },
  "language_info": {
   "codemirror_mode": {
    "name": "ipython",
    "version": 3
   },
   "file_extension": ".py",
   "mimetype": "text/x-python",
   "name": "python",
   "nbconvert_exporter": "python",
   "pygments_lexer": "ipython3",
   "version": "3.9.18"
  }
 },
 "nbformat": 4,
 "nbformat_minor": 4
}
