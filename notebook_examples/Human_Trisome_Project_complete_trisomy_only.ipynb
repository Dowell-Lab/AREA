{
  "cells": [
    {
      "cell_type": "markdown",
      "metadata": {
        "id": "view-in-github",
        "colab_type": "text"
      },
      "source": [
        "<a href=\"https://colab.research.google.com/github/Dowell-Lab/psea/blob/main/notebook_examples/Human_Trisome_Project_complete_trisomy_only.ipynb\" target=\"_parent\"><img src=\"https://colab.research.google.com/assets/colab-badge.svg\" alt=\"Open In Colab\"/></a>"
      ]
    },
    {
      "cell_type": "markdown",
      "metadata": {
        "id": "gDej244B0hW3"
      },
      "source": [
        "# Commenting and uncommenting code."
      ]
    },
    {
      "cell_type": "markdown",
      "metadata": {
        "id": "eNRkfoyG8bil"
      },
      "source": [
        "First we will learn what a comment looks like in python. When a piece of code has a hash tag in frount of it like this:\n",
        "\n",
        "\\#pip install -U kaleido\n",
        "\n",
        "it is commented out. That means the computer can not read it.\n",
        "\n",
        "If you remove the hash tag, like this\n",
        "\n",
        "pip install -U kaleido\n",
        "\n",
        "Now the computer can read it."
      ]
    },
    {
      "cell_type": "markdown",
      "metadata": {
        "id": "ClHASROr9Cg5"
      },
      "source": [
        "# Installing packages."
      ]
    },
    {
      "cell_type": "markdown",
      "metadata": {
        "id": "vOTJFtLF0u_W"
      },
      "source": [
        "\n",
        "Packages are pieces of code someone else wrote that you can use in your work. The first time you run a notebook, you need to install the packages necessary for the notebook. To do that, remove the # from the lines that start with !pip in the box below. Then, run the code in the box below by placing your mouse over the left side of the grey box and pushing the triangular play button. The code will start running and say it is installing the packages. After the package is installed, comment out the line again (add back the #). Finally, click runtime and restart session. You should not need to do that again if you have already run the code in this notebook.\n",
        "\n"
      ]
    },
    {
      "cell_type": "code",
      "execution_count": 1,
      "metadata": {
        "id": "ZwA2Tt5ZfsHO"
      },
      "outputs": [],
      "source": [
        "#to output figures from this notebook to google drive you must run the line below\n",
        "#!pip install -U kaleido\n",
        "# After you have run this make sure you\n",
        "#Runtime > Restart Session"
      ]
    },
    {
      "cell_type": "markdown",
      "metadata": {
        "id": "5EnPALSQF5rl"
      },
      "source": [
        "> Q: How do I know installation worked? A: There will be text below the box that says it installed sucessfully.\n",
        "\n",
        "> Q: Why do I need to comment out the pip line?\n",
        "A: This is so the computer will not install the package again every time you run the notebook. Once it is installed, it is silly to install it agaian.\n",
        "\n",
        "> Q: What happens if I don't put the # back in front of the pip line?\n",
        "A: If you don't put the # back in and you accidently run that box again, the computer will just waste time reinstalling. But it won't hurt anything.\n",
        "\n",
        "\n",
        "\n",
        "\n"
      ]
    },
    {
      "cell_type": "markdown",
      "metadata": {
        "id": "JlJplvRl10yK"
      },
      "source": [
        "# Import the packages"
      ]
    },
    {
      "cell_type": "markdown",
      "metadata": {
        "id": "8tdBAGt0IxuF"
      },
      "source": [
        "Every time you see code below you will need to run that code by clicking on the triangle on the left. When you hit this play button the code is executed. If you see a code box assume you need to run it unless told otherwise. You should also execute the code one box at a time in order. Once you understand how the code works you no longer have to run the code in order.  "
      ]
    },
    {
      "cell_type": "code",
      "execution_count": 3,
      "metadata": {
        "id": "VQm3yHDlJrhm"
      },
      "outputs": [],
      "source": [
        "import pandas as pd\n",
        "import requests\n",
        "import plotly.express as px\n",
        "from google.colab import drive"
      ]
    },
    {
      "cell_type": "markdown",
      "metadata": {
        "id": "FMWuh-dfHM7H"
      },
      "source": [
        "\n",
        "\n",
        "> Q: How do I know this code worked? A: If the code works, there will be no text below the box. If there is a problem, python will put text below the box telling you what went wrong.\n",
        "\n"
      ]
    },
    {
      "cell_type": "markdown",
      "metadata": {
        "id": "Ut6D6icJ7U92"
      },
      "source": [
        "> Advanced users: Why do we only have to install a package once, but we have to import it every time?\n",
        "\n"
      ]
    },
    {
      "cell_type": "markdown",
      "metadata": {
        "id": "LpVLLLQT1-5j"
      },
      "source": [
        "# Load the data we will use."
      ]
    },
    {
      "cell_type": "code",
      "execution_count": null,
      "metadata": {
        "id": "NefMstqM410y"
      },
      "outputs": [],
      "source": [
        "#this brings in the medical disorders for all the individuals with Trisomy 21 in the Human Trisome Project\n",
        "url = \"https://raw.githubusercontent.com/Dowell-Lab/psea/refs/heads/main/testdata/comorbid_file.csv\"\n",
        "comorbid_df = pd.read_csv(url, index_col=0)\n",
        "\n"
      ]
    },
    {
      "cell_type": "code",
      "execution_count": null,
      "metadata": {
        "id": "3UBHYr-QLQEL"
      },
      "outputs": [],
      "source": [
        "#This brings in the normalized counts for all the individuals with Trisomy 21 in the Human Trisome Project. These are not the real count data but are similar to reall count data.\n",
        "#df=pd.read_csv('/content/drive/MyDrive/normcounts.csv')\n",
        "url_counts=\"https://media.githubusercontent.com/media/Dowell-Lab/psea/refs/heads/main/testdata/value_expression_large.csv\"\n",
        "gene_exp_df=pd.read_csv(url_counts, index_col=0)\n"
      ]
    },
    {
      "cell_type": "markdown",
      "metadata": {
        "id": "6-aH0FmoHxYy"
      },
      "source": [
        "\n",
        "\n",
        "> Q: How do I know this code works? A: 1) If it didn't work, python would tell you with an error below the box. 2) We will test it has worked below by looking at two of the variables you set (comorbid_df and gene_exp_df). You can look at the data you just imported by running the box with the variable name you made above.\n",
        "\n"
      ]
    },
    {
      "cell_type": "code",
      "execution_count": null,
      "metadata": {
        "id": "FlBLYlMZ2MGO"
      },
      "outputs": [],
      "source": [
        "#In this data frame 0 means someone does not have this condition, and 1 means someone does have it.\n",
        "comorbid_df"
      ]
    },
    {
      "cell_type": "code",
      "execution_count": null,
      "metadata": {
        "id": "qrt3BHtF2MtT"
      },
      "outputs": [],
      "source": [
        "#In this data frame the columns are genes or \"Patient\"\n",
        "#The values are the amount of RNA that person had for that gene.\n",
        "gene_exp_df"
      ]
    },
    {
      "cell_type": "markdown",
      "metadata": {
        "id": "1CPTxnv02Rq4"
      },
      "source": [
        "# Create a function."
      ]
    },
    {
      "cell_type": "markdown",
      "metadata": {
        "id": "rxQsjGoX2pVQ"
      },
      "source": [
        " When you build a function the function does not run, its just ready to be run. The function I built will merge the two data frames and produce a smaller data frame with the patient, the data from one gene and the data for one comorbidity."
      ]
    },
    {
      "cell_type": "code",
      "execution_count": null,
      "metadata": {
        "id": "-Y6QlrLFMDjp"
      },
      "outputs": [],
      "source": [
        "def make_gene_and_comorbid_df(acomorbid, agene):\n",
        "  onegenedf = gene_exp_df[[agene, \"Patient\"]]\n",
        "  onecomborbiddf = comorbid_df[[acomorbid, \"Patient\"]]\n",
        "  merge_df = onegenedf.merge(onecomborbiddf, on=\"Patient\")\n",
        "  print (\"There are \", merge_df[acomorbid].sum(), \"people with \",comorbid)\n",
        "  print (\"The mean expression of gene \",agene, \" is \", merge_df[agene].mean())\n",
        "  return merge_df"
      ]
    },
    {
      "cell_type": "markdown",
      "metadata": {
        "id": "vqsCi1KcKQ04"
      },
      "source": [
        "> Q: How do I know this code works? A: 1) If it didn't work, python would tell you with an error below the box."
      ]
    },
    {
      "cell_type": "markdown",
      "metadata": {
        "id": "4zate5YBK_-Z"
      },
      "source": [
        "# Set some variables (comorbid and gene)."
      ]
    },
    {
      "cell_type": "markdown",
      "metadata": {
        "id": "ZX6HqWK32z7-"
      },
      "source": [
        "To run the function above we must choose one gene and one comorbidity. I put several before for you to use. Please remove the # from one comorbidity and one gene. When a line says variable=\"value\" and we have run that box, we call that setting a variable."
      ]
    },
    {
      "cell_type": "code",
      "execution_count": null,
      "metadata": {
        "id": "37qXayXNMIxz"
      },
      "outputs": [],
      "source": [
        "#comorbid=\"patent_foramen_ovale\"\n",
        "#comorbid=\"astigmatism\"\n",
        "#comorbid=\"skeletal_system_disorder\"\n",
        "#comorbid=\"patent_ductus_arteriosus\"\n",
        "#comorbid=\"gastroesophageal_reflux_disease\"\n",
        "comorbid=\"constipation_disorder\""
      ]
    },
    {
      "cell_type": "code",
      "execution_count": null,
      "metadata": {
        "id": "BVeNp1yL8Y-s"
      },
      "outputs": [],
      "source": [
        "#gene=\"ENSG00000232010\"\n",
        "#gene=\"ENSG00000198743\"\n",
        "#gene=\"ENSG00000000419\"\n",
        "#gene=\"ENSG00000159110\"\n",
        "#gene=\"ENSG00000160310\"\n",
        "#gene=\"ENSG00000157557\"\n",
        "#gene=\"ENSG00000159216\"\n",
        "gene=\"ENSG00000160223\""
      ]
    },
    {
      "cell_type": "markdown",
      "metadata": {
        "id": "VrLi2G363FSk"
      },
      "source": [
        "> Q: How do I know this code works? A: 1) If it didn't work, python would tell you with an error below the box. 2) If you run a box with that variable name it the computer will tell you what you have that variable to."
      ]
    },
    {
      "cell_type": "code",
      "execution_count": null,
      "metadata": {
        "id": "4SjizYvQ3LEY"
      },
      "outputs": [],
      "source": [
        "gene"
      ]
    },
    {
      "cell_type": "code",
      "execution_count": null,
      "metadata": {
        "id": "3biY8h6F7A7q"
      },
      "outputs": [],
      "source": [
        "comorbid"
      ]
    },
    {
      "cell_type": "markdown",
      "metadata": {
        "id": "A4TDSaBy7EJH"
      },
      "source": [
        "> Advanced users: what happens if you set two variables to the same variable name such as gene. Does the order you set variable matter?\n"
      ]
    },
    {
      "cell_type": "markdown",
      "metadata": {
        "id": "2Xk3jV78LFgB"
      },
      "source": [
        "# Run the function"
      ]
    },
    {
      "cell_type": "markdown",
      "metadata": {
        "id": "NHXJMo5O3Onz"
      },
      "source": [
        "Now we will run the function hat creates a table that just has on comorbidity and one gene expression (RNA level)."
      ]
    },
    {
      "cell_type": "code",
      "execution_count": null,
      "metadata": {
        "id": "qnb3H0x7OSHC"
      },
      "outputs": [],
      "source": [
        "\n",
        "thisdf = make_gene_and_comorbid_df(comorbid, gene)\n"
      ]
    },
    {
      "cell_type": "markdown",
      "metadata": {
        "id": "lX39I0On31i_"
      },
      "source": [
        "> Q: How do I know this code works? A: 1) If it didn't work, python would tell you with an error below the box. 2) If you run a box with that variable name it the computer will tell you what you have that variable to. The function made a varrible named thisdf. thisdf is a dataframe that has only one gene and one comorbidity in it."
      ]
    },
    {
      "cell_type": "code",
      "execution_count": null,
      "metadata": {
        "id": "8WXoF4VW38O_"
      },
      "outputs": [],
      "source": [
        "thisdf"
      ]
    },
    {
      "cell_type": "markdown",
      "metadata": {
        "id": "rmxmOYnuL7fj"
      },
      "source": [
        "# Build a function to graph the data"
      ]
    },
    {
      "cell_type": "markdown",
      "metadata": {
        "id": "0pT-DdE14AoR"
      },
      "source": [
        "Now we will build funcitons to graph that gene and that comorbidity. Notice, using \"def\" means we built the function, but we did not run the function. def stands for define."
      ]
    },
    {
      "cell_type": "code",
      "execution_count": null,
      "metadata": {
        "id": "9q5ejXEiPIWt"
      },
      "outputs": [],
      "source": [
        "def violin_bianary(thisdf, comorbid, gene):\n",
        "  fig = px.violin(thisdf, y=gene, x=comorbid, box=True, points=\"all\")\n",
        "  fig.show()\n",
        "\n",
        "def violin_bianary_output(thisdf, comorbid, gene, outfilename):\n",
        "  fig = px.violin(thisdf, y=gene, x=comorbid, box=True, points=\"all\")\n",
        "  fig.show()\n",
        "  fig.write_image(outfilename)"
      ]
    },
    {
      "cell_type": "markdown",
      "metadata": {
        "id": "TyiG0DZmMLC1"
      },
      "source": [
        "# Graph the data"
      ]
    },
    {
      "cell_type": "markdown",
      "metadata": {
        "id": "wwBUt3L14PUr"
      },
      "source": [
        "Now we should plot the comorbi. Dodity and gene we have chosen they seem related?"
      ]
    },
    {
      "cell_type": "code",
      "execution_count": null,
      "metadata": {
        "id": "jByzPd-gPoh6"
      },
      "outputs": [],
      "source": [
        "#this graphs the data without saving it\n",
        "violin_bianary(thisdf, comorbid, gene)"
      ]
    },
    {
      "cell_type": "markdown",
      "metadata": {
        "id": "my1kyJkV4xyc"
      },
      "source": [
        "> Q: How do I read a violin plot? A: In this graph each dot is a person. You should read this post to read the rest of the graph. https://www.atlassian.com/data/charts/violin-plot-complete-guide\n",
        "\n",
        "> Q: Can I rerun the code with a new gene or new comorbbdity? Yes! Go back and change the gene or the comorbidity. To change the gene or comorbidy go to the section that you set the gene and comorbidity. Change which gene has no #. Then rerun all blocks between that section and this one.\n",
        "\n",
        "> Advanced users: If a particular gene does not affect a comorbidity (most of the time), what do you expect to see in the graph? If a gene affects a comorbidity or a comorbidity affects a gene,idty affects a gene what do you expect to see?  Which genes seem to change with which comorbidity?"
      ]
    },
    {
      "cell_type": "markdown",
      "metadata": {
        "id": "XsqqUGUBU8ir"
      },
      "source": [
        "## What genes are in this data set?"
      ]
    },
    {
      "cell_type": "markdown",
      "metadata": {
        "id": "hJZmIeR06X40"
      },
      "source": [
        "To graph a gene or comorbidity, uncomment the lines below to get the list of all comorbiditys and genes you can look at. Then, go up to the the section where we set the gene and comorbidity variables we wanted to look at. How would you make the notebook graph at a new gene or comorbidity?"
      ]
    },
    {
      "cell_type": "code",
      "execution_count": null,
      "metadata": {
        "id": "Qxt0KkTJ6HTC"
      },
      "outputs": [],
      "source": [
        "#sorted(comorbid_df.columns)"
      ]
    },
    {
      "cell_type": "code",
      "execution_count": null,
      "metadata": {
        "id": "XiYX-S9L6SnS"
      },
      "outputs": [],
      "source": [
        "#sorted(gene_exp_df.columns)"
      ]
    },
    {
      "cell_type": "markdown",
      "metadata": {
        "id": "1mX9--wY5tFs"
      },
      "source": [
        ">> Advanced users: You can graph genes I have not shown you. You can graph comorbidities I have not shown you."
      ]
    },
    {
      "cell_type": "markdown",
      "metadata": {
        "id": "ucl87hi2VGxX"
      },
      "source": [
        "# Output the graph to your google drive (optional)"
      ]
    },
    {
      "cell_type": "markdown",
      "metadata": {
        "id": "Uow8RLgshver"
      },
      "source": [
        "If you want to write an output file to your Google Drive, you will need to uncomment the line below and authenticate a connection.\n"
      ]
    },
    {
      "cell_type": "code",
      "execution_count": null,
      "metadata": {
        "id": "Evb_zSIuhmQb"
      },
      "outputs": [],
      "source": [
        "#import kaleido\n",
        "\n",
        "#drive.mount('/content/drive')\n"
      ]
    },
    {
      "cell_type": "markdown",
      "metadata": {
        "id": "DSgax_Q4hqjw"
      },
      "source": [
        "This graphs the data and then saves it to your google drive in a folder called DnALabfolder if you uncoment all the lines. If you don't understand the lines, put the lines in https://chatgpt.com/ and ask it to explain each line to you.\n"
      ]
    },
    {
      "cell_type": "code",
      "execution_count": null,
      "metadata": {
        "id": "10e4IZN9ejlE"
      },
      "outputs": [],
      "source": [
        "\n",
        "#outdir=\"/content/drive/My Drive/DnALabfolder/\"\n",
        "#!mkdir -p \"/content/drive/My Drive/DnALabfolder/\"\n",
        "#outfilename=outdir+comorbid+\"_\"+gene+\".png\"\n",
        "#violin_bianary_output(thisdf, comorbid, gene, outfilename)"
      ]
    }
  ],
  "metadata": {
    "colab": {
      "provenance": [],
      "toc_visible": true,
      "include_colab_link": true
    },
    "kernelspec": {
      "display_name": "Python 3 (ipykernel)",
      "language": "python",
      "name": "python3"
    },
    "language_info": {
      "codemirror_mode": {
        "name": "ipython",
        "version": 3
      },
      "file_extension": ".py",
      "mimetype": "text/x-python",
      "name": "python",
      "nbconvert_exporter": "python",
      "pygments_lexer": "ipython3",
      "version": "3.9.18"
    }
  },
  "nbformat": 4,
  "nbformat_minor": 0
}