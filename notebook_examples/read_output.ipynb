{
  "cells": [
    {
      "cell_type": "markdown",
      "metadata": {
        "id": "view-in-github",
        "colab_type": "text"
      },
      "source": [
        "<a href=\"https://colab.research.google.com/github/Dowell-Lab/psea/blob/main/notebook_examples/read_output.ipynb\" target=\"_parent\"><img src=\"https://colab.research.google.com/assets/colab-badge.svg\" alt=\"Open In Colab\"/></a>"
      ]
    },
    {
      "cell_type": "markdown",
      "id": "55d68aff-851a-46f0-9e8b-fd157d9a22aa",
      "metadata": {
        "id": "55d68aff-851a-46f0-9e8b-fd157d9a22aa"
      },
      "source": [
        "# Import packages we will use"
      ]
    },
    {
      "cell_type": "code",
      "execution_count": 1,
      "id": "13252d1c-2672-4eaa-a23c-b392f4142cef",
      "metadata": {
        "id": "13252d1c-2672-4eaa-a23c-b392f4142cef"
      },
      "outputs": [],
      "source": [
        "import pandas as pd\n",
        "import plotly.express as px"
      ]
    },
    {
      "cell_type": "markdown",
      "id": "5f58bb90-b125-438b-a692-58f3e12f2372",
      "metadata": {
        "id": "5f58bb90-b125-438b-a692-58f3e12f2372"
      },
      "source": [
        "# read in the files we will look at"
      ]
    },
    {
      "cell_type": "code",
      "execution_count": 3,
      "id": "b186ee8a-41a6-4ced-93cc-9b45561567e1",
      "metadata": {
        "id": "b186ee8a-41a6-4ced-93cc-9b45561567e1"
      },
      "outputs": [],
      "source": [
        "url=\"https://raw.githubusercontent.com/Dowell-Lab/psea/refs/heads/main/testdata/psea_scores_20240923-152820.adjpval.csv\"\n",
        "df = pd.read_csv(url, index_col=0)\n",
        "url2=\"https://raw.githubusercontent.com/Dowell-Lab/psea/refs/heads/main/testdata/genes.csv\"\n",
        "genedf = pd.read_csv(url2, index_col=0)"
      ]
    },
    {
      "cell_type": "code",
      "execution_count": null,
      "id": "246ffa2f-3610-4427-9718-e0df758ad2a2",
      "metadata": {
        "id": "246ffa2f-3610-4427-9718-e0df758ad2a2"
      },
      "outputs": [],
      "source": [
        "genedf[\"value\"]=genedf[\"gene_id\"]"
      ]
    },
    {
      "cell_type": "markdown",
      "id": "f23e7dc5-bba3-411a-8ea4-b5c29c52cca6",
      "metadata": {
        "id": "f23e7dc5-bba3-411a-8ea4-b5c29c52cca6"
      },
      "source": [
        "# Look at the files"
      ]
    },
    {
      "cell_type": "code",
      "execution_count": null,
      "id": "37051a67-54db-4129-adc7-a2eacc175d8a",
      "metadata": {
        "id": "37051a67-54db-4129-adc7-a2eacc175d8a"
      },
      "outputs": [],
      "source": [
        "df[[\"binary_attribute\", \"value\", \"NES\", \"p_value_BenjaminiHochberg\"]]"
      ]
    },
    {
      "cell_type": "code",
      "execution_count": null,
      "id": "330d347b-3ec6-4cb8-b234-b31797db7d96",
      "metadata": {
        "id": "330d347b-3ec6-4cb8-b234-b31797db7d96"
      },
      "outputs": [],
      "source": [
        "df[df[\"value\"]==\"ENSG00000159200\"]"
      ]
    },
    {
      "cell_type": "code",
      "execution_count": null,
      "id": "a55be0f5-7a31-4eae-9599-636732c58c5c",
      "metadata": {
        "id": "a55be0f5-7a31-4eae-9599-636732c58c5c"
      },
      "outputs": [],
      "source": [
        "df_nona = df.dropna()"
      ]
    },
    {
      "cell_type": "markdown",
      "id": "7c9b40c5-37b8-4b01-b596-bc8d7dd37290",
      "metadata": {
        "id": "7c9b40c5-37b8-4b01-b596-bc8d7dd37290"
      },
      "source": [
        "# Most genes don't vary with most comorbiditys\n"
      ]
    },
    {
      "cell_type": "code",
      "execution_count": null,
      "id": "2ac56024-2660-41bc-b6a1-ec5c7d244033",
      "metadata": {
        "id": "2ac56024-2660-41bc-b6a1-ec5c7d244033"
      },
      "outputs": [],
      "source": [
        "fig = px.violin(df_nona, y=\"p_value_BenjaminiHochberg\")\n",
        "fig.show()\n"
      ]
    },
    {
      "cell_type": "code",
      "execution_count": null,
      "id": "e0054b0c-2b46-4bab-b4c8-be6a633462d6",
      "metadata": {
        "id": "e0054b0c-2b46-4bab-b4c8-be6a633462d6"
      },
      "outputs": [],
      "source": [
        "fig = px.violin(df_nona, y=\"p_value_BenjaminiYekutieli\")\n",
        "fig.show()"
      ]
    },
    {
      "cell_type": "code",
      "execution_count": null,
      "id": "1e733823-86b1-48fb-8e17-619adbb83433",
      "metadata": {
        "id": "1e733823-86b1-48fb-8e17-619adbb83433"
      },
      "outputs": [],
      "source": [
        "fig = px.violin(df_nona, y=\"p_value_bonf\")\n",
        "fig.show()\n"
      ]
    },
    {
      "cell_type": "code",
      "execution_count": null,
      "id": "22918160-1c41-41de-bb00-002920ff1928",
      "metadata": {
        "id": "22918160-1c41-41de-bb00-002920ff1928"
      },
      "outputs": [],
      "source": [
        "fig = px.violin(df_nona, y=\"p_value_holm\")\n",
        "fig.show()\n"
      ]
    },
    {
      "cell_type": "code",
      "execution_count": null,
      "id": "7027511f-ecd0-4d4f-96dc-29cc6c831c94",
      "metadata": {
        "id": "7027511f-ecd0-4d4f-96dc-29cc6c831c94"
      },
      "outputs": [],
      "source": []
    },
    {
      "cell_type": "markdown",
      "id": "1d2b8b1b-65a0-4a2a-9171-fb47c153ec90",
      "metadata": {
        "id": "1d2b8b1b-65a0-4a2a-9171-fb47c153ec90"
      },
      "source": [
        "# Find pairs predicted by PSEA"
      ]
    },
    {
      "cell_type": "code",
      "execution_count": null,
      "id": "5d349506-8c4d-4340-b589-d34893737284",
      "metadata": {
        "id": "5d349506-8c4d-4340-b589-d34893737284"
      },
      "outputs": [],
      "source": [
        "df_nona_threshold = df_nona[df_nona[\"p_value_BenjaminiHochberg\"]<0.1]"
      ]
    },
    {
      "cell_type": "code",
      "execution_count": null,
      "id": "d1125101-ca0f-4db5-a39b-bdbe73b7261f",
      "metadata": {
        "id": "d1125101-ca0f-4db5-a39b-bdbe73b7261f"
      },
      "outputs": [],
      "source": [
        "df_nona_threshold"
      ]
    },
    {
      "cell_type": "code",
      "execution_count": null,
      "id": "92b8c77a-9c6c-4084-ac54-f7dc6b3af5af",
      "metadata": {
        "id": "92b8c77a-9c6c-4084-ac54-f7dc6b3af5af"
      },
      "outputs": [],
      "source": [
        "df_nona_threshold_names = df_nona_threshold.merge(genedf, how =\"inner\", on=\"value\")\n",
        "df_nona_threshold_names"
      ]
    },
    {
      "cell_type": "markdown",
      "id": "361f7984-7278-4a96-9c45-a3cffc335380",
      "metadata": {
        "id": "361f7984-7278-4a96-9c45-a3cffc335380"
      },
      "source": [
        "# How many binary_attribute do we pair"
      ]
    },
    {
      "cell_type": "code",
      "execution_count": null,
      "id": "da62b9c4-a392-4dd5-a3ba-602785ba2c7d",
      "metadata": {
        "id": "da62b9c4-a392-4dd5-a3ba-602785ba2c7d"
      },
      "outputs": [],
      "source": [
        "df_nona_threshold_names[\"binary_attribute\"].value_counts()"
      ]
    },
    {
      "cell_type": "markdown",
      "id": "b44aa647-548a-4625-b5d7-2e3c5f0eda9c",
      "metadata": {
        "id": "b44aa647-548a-4625-b5d7-2e3c5f0eda9c"
      },
      "source": [
        "# How many values (genes) do we pair"
      ]
    },
    {
      "cell_type": "code",
      "execution_count": null,
      "id": "463cd545-f2d0-44dd-a1e3-43d48f5de3b0",
      "metadata": {
        "id": "463cd545-f2d0-44dd-a1e3-43d48f5de3b0"
      },
      "outputs": [],
      "source": [
        "df_nona_threshold_names[\"gene_name\"].value_counts()"
      ]
    },
    {
      "cell_type": "markdown",
      "id": "236f8b7e-59b5-45c6-a6c8-4067a88b85d8",
      "metadata": {
        "id": "236f8b7e-59b5-45c6-a6c8-4067a88b85d8"
      },
      "source": [
        "# Pick a value to look at"
      ]
    },
    {
      "cell_type": "code",
      "execution_count": null,
      "id": "8ad3a22c-07df-4571-8ce0-4ab4a142cd82",
      "metadata": {
        "id": "8ad3a22c-07df-4571-8ce0-4ab4a142cd82"
      },
      "outputs": [],
      "source": [
        "#agene = \"RCAN1\"\n",
        "#agene = \"PRMT2\"\n",
        "#agene = \"IFNAR2\"\n",
        "#agene=\"ETS2\"\n",
        "agene=\"RUNX1\"\n",
        "agene_df = df_nona_threshold_names[df_nona_threshold_names[\"gene_name\"]==agene]\n",
        "agene_df = agene_df.sort_values([\"NES\"])\n",
        "agene_df"
      ]
    },
    {
      "cell_type": "markdown",
      "id": "1a6bc674-8a06-4438-bc76-81f8e9e424f8",
      "metadata": {
        "id": "1a6bc674-8a06-4438-bc76-81f8e9e424f8"
      },
      "source": [
        "# Pick a binary_attribute to look at"
      ]
    },
    {
      "cell_type": "code",
      "execution_count": null,
      "id": "7a6a3f09-8db8-4746-913f-1504c8aceb5b",
      "metadata": {
        "id": "7a6a3f09-8db8-4746-913f-1504c8aceb5b"
      },
      "outputs": [],
      "source": [
        "acondition = \"constipation_disorder\"\n",
        "#acondition = \"strabismus\"\n",
        "aconditiondf = df_nona_threshold_names[df_nona_threshold_names[\"binary_attribute\"]==acondition]\n",
        "aconditiondf = aconditiondf.sort_values([\"NES\"])\n",
        "aconditiondf"
      ]
    },
    {
      "cell_type": "code",
      "execution_count": null,
      "id": "2776e2c2-e30c-4a81-9655-5defa1265aa9",
      "metadata": {
        "id": "2776e2c2-e30c-4a81-9655-5defa1265aa9"
      },
      "outputs": [],
      "source": [
        "high_get_aconditiondf = aconditiondf[aconditiondf[\"NES\"]<0]\n",
        "high_get_aconditiondf"
      ]
    },
    {
      "cell_type": "code",
      "execution_count": null,
      "id": "3a799f7b-11f8-41d0-86c4-9cbce403cb92",
      "metadata": {
        "id": "3a799f7b-11f8-41d0-86c4-9cbce403cb92"
      },
      "outputs": [],
      "source": [
        "high_get_aconditiondf[\"gene_name\"].to_list()"
      ]
    },
    {
      "cell_type": "code",
      "execution_count": null,
      "id": "7e4c18fb-960f-4a97-bac1-8ce39b8db7b9",
      "metadata": {
        "id": "7e4c18fb-960f-4a97-bac1-8ce39b8db7b9"
      },
      "outputs": [],
      "source": [
        "high_donot_have_aconditiondf = aconditiondf[aconditiondf[\"NES\"]>0]\n",
        "high_donot_have_aconditiondf"
      ]
    },
    {
      "cell_type": "code",
      "execution_count": null,
      "id": "dcdaf317-26fc-46dc-aa83-094d9adf8083",
      "metadata": {
        "id": "dcdaf317-26fc-46dc-aa83-094d9adf8083"
      },
      "outputs": [],
      "source": [
        "high_donot_have_aconditiondf[\"gene_name\"].to_list()"
      ]
    },
    {
      "cell_type": "markdown",
      "id": "040fe47e-df57-4c80-a81f-6d67653be537",
      "metadata": {
        "id": "040fe47e-df57-4c80-a81f-6d67653be537"
      },
      "source": [
        "# Are most effects of genes being to high?"
      ]
    },
    {
      "cell_type": "code",
      "execution_count": null,
      "id": "df7846ac-2cf9-402c-8fb2-006f7840eabc",
      "metadata": {
        "id": "df7846ac-2cf9-402c-8fb2-006f7840eabc"
      },
      "outputs": [],
      "source": [
        "df_nona_threshold_names[\"high_get_disorder\"] = df_nona_threshold_names[\"NES\"]<0"
      ]
    },
    {
      "cell_type": "code",
      "execution_count": null,
      "id": "a651a3b6-857d-4fad-b963-8ff30b00d483",
      "metadata": {
        "id": "a651a3b6-857d-4fad-b963-8ff30b00d483"
      },
      "outputs": [],
      "source": [
        "#df.groupby('Company Name')['Amount'].agg(['sum','count'])\n",
        "n_genes_associated = df_nona_threshold_names.groupby('binary_attribute')[\"high_get_disorder\"].agg(['count', 'sum'])\n",
        "n_genes_associated.columns = [\"total_genes_associated\", \"high_genes_associated\"]\n",
        "n_genes_associated = n_genes_associated.sort_values([\"high_genes_associated\"], ascending=False)\n",
        "n_genes_associated[\"low_genes_associated\"] = n_genes_associated[\"total_genes_associated\"]-n_genes_associated[\"high_genes_associated\"]\n",
        "n_genes_associated\n"
      ]
    },
    {
      "cell_type": "code",
      "execution_count": null,
      "id": "46136683-21c8-49f2-bedf-4f5a6ea4343a",
      "metadata": {
        "id": "46136683-21c8-49f2-bedf-4f5a6ea4343a"
      },
      "outputs": [],
      "source": []
    },
    {
      "cell_type": "code",
      "execution_count": null,
      "id": "50ecaa2b-ef25-4644-a6d4-1078aa96d130",
      "metadata": {
        "id": "50ecaa2b-ef25-4644-a6d4-1078aa96d130"
      },
      "outputs": [],
      "source": []
    }
  ],
  "metadata": {
    "kernelspec": {
      "display_name": "Python 3 (ipykernel)",
      "language": "python",
      "name": "python3"
    },
    "language_info": {
      "codemirror_mode": {
        "name": "ipython",
        "version": 3
      },
      "file_extension": ".py",
      "mimetype": "text/x-python",
      "name": "python",
      "nbconvert_exporter": "python",
      "pygments_lexer": "ipython3",
      "version": "3.9.18"
    },
    "colab": {
      "provenance": [],
      "include_colab_link": true
    }
  },
  "nbformat": 4,
  "nbformat_minor": 5
}